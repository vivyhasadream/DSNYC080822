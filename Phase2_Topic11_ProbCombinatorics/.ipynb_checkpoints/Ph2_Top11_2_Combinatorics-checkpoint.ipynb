{
 "cells": [
  {
   "cell_type": "markdown",
   "metadata": {
    "slideshow": {
     "slide_type": "slide"
    }
   },
   "source": [
    "<div style=\"color:white;\n",
    "           display:fill;\n",
    "           border-radius:5px;\n",
    "           background-color:#5642C5;\n",
    "           font-size:200%;\n",
    "           font-family:Arial;letter-spacing:0.5px\">\n",
    "\n",
    "<p width = 20%, style=\"padding: 10px;\n",
    "              color:white;\">\n",
    "Combinatorics\n",
    "              \n",
    "</p>\n",
    "</div>\n",
    "\n",
    "Data Science Cohort Live NYC Feb 2022\n",
    "<p>Phase 2: Topic 1</p>\n",
    "<br>\n",
    "<br>\n",
    "\n",
    "<div align = \"right\">\n",
    "<img src=\"Images/flatiron-school-logo.png\" align = \"right\" width=\"200\"/>\n",
    "</div>\n",
    "    \n",
    "    "
   ]
  },
  {
   "cell_type": "markdown",
   "metadata": {
    "cell_style": "split",
    "slideshow": {
     "slide_type": "slide"
    }
   },
   "source": [
    "\n",
    "Many experiments/trials:\n",
    "- Finite, countable number of possibilities\n",
    "- How probable a given subset of configurations are.\n",
    "    \n",
    "Enumerate the possible results of experiment/trial."
   ]
  },
  {
   "cell_type": "markdown",
   "metadata": {
    "cell_style": "split",
    "slideshow": {
     "slide_type": "fragment"
    }
   },
   "source": [
    "<center><img src=\"Images/poker.jpg\" width=\"400\"/></center>\n",
    "<center> The theory of games </center>\n",
    "\n",
    "<center><img src=\"Images/genome_counting.jpg\" width=\"200\"/></center>\n",
    "<center> Genomics </center>"
   ]
  },
  {
   "cell_type": "markdown",
   "metadata": {
    "slideshow": {
     "slide_type": "slide"
    }
   },
   "source": [
    "#### But before delving into genomics or being the next Phil Ivy:"
   ]
  },
  {
   "cell_type": "markdown",
   "metadata": {
    "slideshow": {
     "slide_type": "subslide"
    }
   },
   "source": [
    "#### Theory of counting with Big Bird and Snuffalaupagus \n",
    "\n",
    "<table><tr><td><img src=\"Images/big_bird.png\" width=\"200\"/></td><td><img src=\"Images/snuffy.jpg\" width=\"400\"/></td></tr></table>"
   ]
  },
  {
   "cell_type": "markdown",
   "metadata": {
    "slideshow": {
     "slide_type": "slide"
    }
   },
   "source": [
    "#### Permutations\n",
    "\n",
    "How many ways are there to arrange the big birds?\n",
    "\n",
    "<table><tr><td><img src=\"Images/big_bird.png\" width=\"100\"/><br> <center>Big Bird 1</center></td><td><img src=\"Images/big_bird.png\" width=\"100\"/><br><center>Big Bird 2</center></td><td><img src=\"Images/big_bird.png\" width=\"100\"/><br><center>Big Bird 3</center></td></tr></table>"
   ]
  },
  {
   "cell_type": "markdown",
   "metadata": {
    "slideshow": {
     "slide_type": "subslide"
    }
   },
   "source": [
    "Equivalent to:\n",
    "\n",
    "Put the Big Birds into the three buckets."
   ]
  },
  {
   "cell_type": "markdown",
   "metadata": {
    "slideshow": {
     "slide_type": "subslide"
    }
   },
   "source": [
    "<table><tr><td><img src=\"Images/big_bird.png\" width=\"100\"/><br> <center>Big Bird 1</center></td><td><img src=\"Images/big_bird.png\" width=\"100\"/><br><center>Big Bird 2</center></td><td><img src=\"Images/big_bird.png\" width=\"100\"/><br><center>Big Bird 3</center></td></tr></table>\n",
    "\n",
    "<table><tr><td><img src=\"Images/kfc.jpg\" width=\"250\"/><br></td><td><img src=\"Images/kfc.jpg\" width=\"250\"/><br></td><td><img src=\"Images/kfc.jpg\" width=\"250\"/><br></td></tr></table>"
   ]
  },
  {
   "cell_type": "markdown",
   "metadata": {
    "slideshow": {
     "slide_type": "slide"
    }
   },
   "source": [
    "What are the possibilities for the first bucket?"
   ]
  },
  {
   "cell_type": "markdown",
   "metadata": {
    "slideshow": {
     "slide_type": "fragment"
    }
   },
   "source": [
    "<table><tr><td><img style='border:2px solid red' src=\"Images/big_bird.png\" width=\"100\"/><br> <center>Big Bird 1</center></td><td><img src=\"Images/big_bird.png\" width=\"100\"/><br><center>Big Bird 2</center></td><td><img src=\"Images/big_bird.png\" width=\"100\"/><br><center>Big Bird 3</center></td></tr></table>\n",
    "\n",
    "<table><tr><td><img style='border:2px solid red' src=\"Images/kfc.jpg\" width=\"250\"/><br></td><td><img src=\"Images/kfc.jpg\" width=\"250\"/><br></td><td><img src=\"Images/kfc.jpg\" width=\"250\"/><br></td></tr></table>"
   ]
  },
  {
   "cell_type": "markdown",
   "metadata": {
    "slideshow": {
     "slide_type": "subslide"
    }
   },
   "source": [
    "<table><tr><td><img  src=\"Images/big_bird.png\" width=\"100\"/><br><center>Big Bird 1</center></td><td><img style='border:2px solid red' src=\"Images/big_bird.png\" width=\"100\"/><br><center>Big Bird 2</center></td><td><img src=\"Images/big_bird.png\" width=\"100\"/><br><center>Big Bird 3</center></td></tr></table>\n",
    "\n",
    "<table><tr><td><img style='border:2px solid red' src=\"Images/kfc.jpg\" width=\"250\"/><br></td><td><img src=\"Images/kfc.jpg\" width=\"250\"/><br></td><td><img src=\"Images/kfc.jpg\" width=\"250\"/><br></td></tr></table>"
   ]
  },
  {
   "cell_type": "markdown",
   "metadata": {
    "slideshow": {
     "slide_type": "subslide"
    }
   },
   "source": [
    "<table><tr><td><img  src=\"Images/big_bird.png\" width=\"100\"/><br><center>Big Bird 1</center></td><td><img  src=\"Images/big_bird.png\" width=\"100\"/><br><center>Big Bird 2</center></td><td><img style='border:2px solid red' src=\"Images/big_bird.png\" width=\"100\"/><br><center>Big Bird 3</center></td></tr></table>\n",
    "\n",
    "<table><tr><td><img style='border:2px solid red' src=\"Images/kfc.jpg\" width=\"250\"/><br></td><td><img src=\"Images/kfc.jpg\" width=\"250\"/><br></td><td><img src=\"Images/kfc.jpg\" width=\"250\"/><br></td></tr></table>"
   ]
  },
  {
   "cell_type": "markdown",
   "metadata": {
    "slideshow": {
     "slide_type": "slide"
    }
   },
   "source": [
    "Three possible combinations for the first bucket.\n",
    "\n",
    "- An example of one of these results:"
   ]
  },
  {
   "cell_type": "markdown",
   "metadata": {
    "slideshow": {
     "slide_type": "subslide"
    }
   },
   "source": [
    "<table><tr><td><img src=\"Images/big_bird.png\" width=\"100\"/><br><center>Big Bird 2</center></td><td><img src=\"Images/big_bird.png\" width=\"100\"/><br><center>Big Bird 3</center></td></tr></table>\n",
    "\n",
    "<table><tr><td><img src=\"Images/kfc_full.png\" width=\"250\"/><br><center>Big Bird 1</center></td><td><img src=\"Images/kfc.jpg\" width=\"250\"/><br></td><td><img src=\"Images/kfc.jpg\" width=\"250\"/><br></td></tr></table>"
   ]
  },
  {
   "cell_type": "markdown",
   "metadata": {
    "slideshow": {
     "slide_type": "slide"
    }
   },
   "source": [
    "But could have had:"
   ]
  },
  {
   "cell_type": "markdown",
   "metadata": {
    "slideshow": {
     "slide_type": "subslide"
    }
   },
   "source": [
    "<table><tr><td><img src=\"Images/big_bird.png\" width=\"100\"/><br><center>Big Bird 1</center></td><td><img src=\"Images/big_bird.png\" width=\"100\"/><br><center>Big Bird 3</center></td></tr></table>\n",
    "\n",
    "<table><tr><td><img src=\"Images/kfc_full.png\" width=\"250\"/><br><center>Big Bird 2</center></td><td><img src=\"Images/kfc.jpg\" width=\"250\"/><br></td><td><img src=\"Images/kfc.jpg\" width=\"250\"/><br></td></tr></table>"
   ]
  },
  {
   "cell_type": "markdown",
   "metadata": {
    "slideshow": {
     "slide_type": "slide"
    }
   },
   "source": [
    "For each of previous possibilities:\n",
    "- Put one of remaining birds in the second bucket.\n",
    "    "
   ]
  },
  {
   "cell_type": "markdown",
   "metadata": {
    "slideshow": {
     "slide_type": "subslide"
    }
   },
   "source": [
    "<table><tr><td><img style='border:2px solid red' src=\"Images/big_bird.png\" width=\"100\"/><br><center>Big Bird 2</center></td><td><img src=\"Images/big_bird.png\" width=\"100\"/><br><center>Big Bird 3</center></td></tr></table>\n",
    "\n",
    "<table><tr><td><img src=\"Images/kfc_full.png\" width=\"250\"/><br><center>Big Bird 1</center></td><td><img style='border:2px solid red' src=\"Images/kfc.jpg\" width=\"250\"/><br></td><td><img src=\"Images/kfc.jpg\" width=\"250\"/><br></td></tr></table>"
   ]
  },
  {
   "cell_type": "markdown",
   "metadata": {
    "slideshow": {
     "slide_type": "subslide"
    }
   },
   "source": [
    "<table><tr><td><img src=\"Images/big_bird.png\" width=\"100\"/><br><center>Big Bird 2</center></td><td><img style='border:2px solid red' src=\"Images/big_bird.png\" width=\"100\"/><br><center>Big Bird 3</center></td></tr></table>\n",
    "\n",
    "<table><tr><td><img src=\"Images/kfc_full.png\" width=\"250\"/><br><center>Big Bird 1</center></td><td><img style='border:2px solid red' src=\"Images/kfc.jpg\" width=\"250\"/><br></td><td><img src=\"Images/kfc.jpg\" width=\"250\"/><br></td></tr></table>"
   ]
  },
  {
   "cell_type": "markdown",
   "metadata": {
    "slideshow": {
     "slide_type": "slide"
    }
   },
   "source": [
    "Three possible placements for the first bucket.\n",
    "\n",
    "For each possibility on first bucket:\n",
    "- 2 possible placements for second bucket\n",
    "\n"
   ]
  },
  {
   "cell_type": "markdown",
   "metadata": {
    "slideshow": {
     "slide_type": "subslide"
    }
   },
   "source": [
    "Example of one of these results:"
   ]
  },
  {
   "cell_type": "markdown",
   "metadata": {
    "slideshow": {
     "slide_type": "subslide"
    }
   },
   "source": [
    "<table><tr><td><img src=\"Images/big_bird.png\" width=\"100\"/><br><center>Big Bird 2</center></td></tr></table>\n",
    "\n",
    "<table><tr><td><img src=\"Images/kfc_full.png\" width=\"250\"/><br><center>Big Bird 1</center></td><td><img  src=\"Images/kfc_full.png\" width=\"250\"/><br><center>Big Bird 3</center></td><td><img src=\"Images/kfc.jpg\" width=\"250\"/><br></td></tr></table>"
   ]
  },
  {
   "cell_type": "markdown",
   "metadata": {
    "slideshow": {
     "slide_type": "slide"
    }
   },
   "source": [
    "And obviously for each choice on first and second bucket:\n",
    "    \n",
    "Last bucket, one bird left. One possibility."
   ]
  },
  {
   "cell_type": "markdown",
   "metadata": {
    "slideshow": {
     "slide_type": "subslide"
    }
   },
   "source": [
    "<table><tr><td><img style='border:2px solid red' src=\"Images/big_bird.png\" width=\"100\"/><br><center>Big Bird 2</center></td></tr></table>\n",
    "\n",
    "<table><tr><td><img src=\"Images/kfc_full.png\" width=\"250\"/><br><center>Big Bird 1</center></td><td><img  src=\"Images/kfc_full.png\" width=\"250\"/><br><center>Big Bird 3</center></td><td><img style='border:2px solid red' src=\"Images/kfc.jpg\" width=\"250\"/><br></td></tr></table>"
   ]
  },
  {
   "cell_type": "markdown",
   "metadata": {
    "slideshow": {
     "slide_type": "slide"
    }
   },
   "source": [
    "\n",
    "\n",
    "<table><tr><td><img src=\"Images/kfc_full.png\" width=\"250\"/><br><center>Big Bird 1</center></td><td><img  src=\"Images/kfc_full.png\" width=\"250\"/><br><center>Big Bird 3</center></td><td><img src=\"Images/kfc_full.png\" width=\"250\"/><br><center>Big Bird 2</center></td></tr></table>"
   ]
  },
  {
   "cell_type": "markdown",
   "metadata": {
    "slideshow": {
     "slide_type": "slide"
    }
   },
   "source": [
    "If played this game for all the possibilities:\n"
   ]
  },
  {
   "cell_type": "markdown",
   "metadata": {
    "cell_style": "split",
    "slideshow": {
     "slide_type": "subslide"
    }
   },
   "source": [
    "\n",
    "<table>\n",
    "    <tr><td><img src=\"Images/kfc_full.png\" width=\"100\"/><br><center>Big Bird 1</center></td><td><img  src=\"Images/kfc_full.png\" width=\"100\"/><br><center>Big Bird 3</center></td><td><img src=\"Images/kfc_full.png\" width=\"100\"/><br><center>Big Bird 2</center></td></tr>\n",
    "        <tr><td><img src=\"Images/kfc_full.png\" width=\"100\"/><br><center>Big Bird 1</center></td><td><img  src=\"Images/kfc_full.png\" width=\"100\"/><br><center>Big Bird 2</center></td><td><img src=\"Images/kfc_full.png\" width=\"100\"/><br><center>Big Bird 3</center></td></tr>\n",
    "        <tr><td><img src=\"Images/kfc_full.png\" width=\"100\"/><br><center>Big Bird 2</center></td><td><img  src=\"Images/kfc_full.png\" width=\"100\"/><br><center>Big Bird 1</center></td><td><img src=\"Images/kfc_full.png\" width=\"100\"/><br><center>Big Bird 3</center></td></tr>\n",
    "\n",
    "</table>"
   ]
  },
  {
   "cell_type": "markdown",
   "metadata": {
    "cell_style": "split",
    "slideshow": {
     "slide_type": "-"
    }
   },
   "source": [
    "<table>\n",
    "    <tr><td><img src=\"Images/kfc_full.png\" width=\"100\"/><br><center>Big Bird 2</center></td><td><img  src=\"Images/kfc_full.png\" width=\"100\"/><br><center>Big Bird 3</center></td><td><img src=\"Images/kfc_full.png\" width=\"100\"/><br><center>Big Bird 1</center></td></tr>\n",
    "        <tr><td><img src=\"Images/kfc_full.png\" width=\"100\"/><br><center>Big Bird 3</center></td><td><img  src=\"Images/kfc_full.png\" width=\"100\"/><br><center>Big Bird 1</center></td><td><img src=\"Images/kfc_full.png\" width=\"100\"/><br><center>Big Bird 2</center></td></tr>\n",
    "        <tr><td><img src=\"Images/kfc_full.png\" width=\"100\"/><br><center>Big Bird 3</center></td><td><img  src=\"Images/kfc_full.png\" width=\"100\"/><br><center>Big Bird 2</center></td><td><img src=\"Images/kfc_full.png\" width=\"100\"/><br><center>Big Bird 1</center></td></tr>\n",
    "\n",
    "</table>"
   ]
  },
  {
   "cell_type": "markdown",
   "metadata": {
    "slideshow": {
     "slide_type": "subslide"
    }
   },
   "source": [
    "6 possible arrangements or permutations of big birds:\n",
    "- Equivalent to ways in which to put the birds in buckets."
   ]
  },
  {
   "cell_type": "markdown",
   "metadata": {
    "slideshow": {
     "slide_type": "subslide"
    }
   },
   "source": [
    "Final result:\n",
    "- 3 possible places to put first big bird\n",
    "    - For each possible choice above: \n",
    "        - 2 possible places to put second big bird\n",
    "            - For each possible choice above:\n",
    "                - 1 possible place to put third big bird\n",
    "\n"
   ]
  },
  {
   "cell_type": "markdown",
   "metadata": {
    "slideshow": {
     "slide_type": "subslide"
    }
   },
   "source": [
    "Total configurations = $3\\times2\\times1 = 6 $\n",
    "\n",
    "All possible ways to arrange/permute the big birds!"
   ]
  },
  {
   "cell_type": "markdown",
   "metadata": {
    "slideshow": {
     "slide_type": "fragment"
    }
   },
   "source": [
    "In general for N objects:\n",
    "\n",
    "$$ N! = N(N-1)(N-2)(N-3)....2\\times1 $$ is the number of permutations (or arrangements)"
   ]
  },
  {
   "cell_type": "markdown",
   "metadata": {
    "slideshow": {
     "slide_type": "slide"
    }
   },
   "source": [
    "Now a slighly different scenario:\n",
    "- 5 Big Birds\n",
    "- 3 buckets"
   ]
  },
  {
   "cell_type": "markdown",
   "metadata": {
    "slideshow": {
     "slide_type": "subslide"
    }
   },
   "source": [
    "<table><tr><td><img style='border:2px solid red' src=\"Images/big_bird.png\" width=\"100\"/><br><center>Big Bird 1</center></td><td><img style='border:2px solid red' src=\"Images/big_bird.png\" width=\"100\"/><br><center>Big Bird 2</center></td><td><img style='border:2px solid red' src=\"Images/big_bird.png\" width=\"100\"/><br><center>Big Bird 3</center></td><td><img style='border:2px solid red' src=\"Images/big_bird.png\" width=\"100\"/><br><center>Big Bird 4</center></td><td><img style='border:2px solid red' src=\"Images/big_bird.png\" width=\"100\"/><br><center>Big Bird 5</center></td></tr></table>\n",
    "\n",
    "<table><tr><td><img style='border:2px solid red' src=\"Images/kfc.jpg\" width=\"250\"/><br></td><td><img src=\"Images/kfc.jpg\" width=\"250\"/><br></td><td><img src=\"Images/kfc.jpg\" width=\"250\"/><br></td></tr></table>"
   ]
  },
  {
   "cell_type": "markdown",
   "metadata": {
    "slideshow": {
     "slide_type": "slide"
    }
   },
   "source": [
    "Any of the five can go into first bucket.\n",
    "\n",
    "What about the second bucket?"
   ]
  },
  {
   "cell_type": "markdown",
   "metadata": {
    "slideshow": {
     "slide_type": "subslide"
    }
   },
   "source": [
    "<table><tr><td><img style='border:2px solid red' src=\"Images/big_bird.png\" width=\"100\"/><br><center>Big Bird 1</center></td><td><img style='border:2px solid red' src=\"Images/big_bird.png\" width=\"100\"/><br><center>Big Bird 2</center></td><td><img style='border:2px solid red' src=\"Images/big_bird.png\" width=\"100\"/><br><center>Big Bird 3</center></td><td><img style='border:2px solid red' src=\"Images/big_bird.png\" width=\"100\"/><br><center>Big Bird 5</center></td></tr></table>\n",
    "\n",
    "<table><tr><td><img src=\"Images/kfc_full.png\" width=\"250\"/><br><center>Big Bird 4</center></td><td><img style='border:2px solid red'src=\"Images/kfc.jpg\" width=\"250\"/><br></td><td><img src=\"Images/kfc.jpg\" width=\"250\"/><br></td></tr></table>"
   ]
  },
  {
   "cell_type": "markdown",
   "metadata": {
    "slideshow": {
     "slide_type": "subslide"
    }
   },
   "source": [
    "<table><tr><td><img style='border:2px solid red' src=\"Images/big_bird.png\" width=\"100\"/><br><center>Big Bird 1</center></td><td><img style='border:2px solid red' src=\"Images/big_bird.png\" width=\"100\"/><br><center>Big Bird 3</center></td><td><img style='border:2px solid red' src=\"Images/big_bird.png\" width=\"100\"/><br><center>Big Bird 5</center></td></tr></table>\n",
    "\n",
    "<table><tr><td><img src=\"Images/kfc_full.png\" width=\"250\"/><br><center>Big Bird 4</center></td><td><img src=\"Images/kfc_full.png\" width=\"250\"/><br><center>Big Bird 2</center></td><td><img style='border:2px solid red' src=\"Images/kfc.jpg\" width=\"250\"/><br></td></tr></table>"
   ]
  },
  {
   "cell_type": "markdown",
   "metadata": {
    "slideshow": {
     "slide_type": "slide"
    }
   },
   "source": [
    "The last bucket: three possibilities.\n",
    "\n",
    "Putting it altogether: $ 5\\times 4 \\times 3 = 60 $"
   ]
  },
  {
   "cell_type": "markdown",
   "metadata": {
    "slideshow": {
     "slide_type": "subslide"
    }
   },
   "source": [
    "<table><tr><td><img style='border:2px solid red' src=\"Images/big_bird.png\" width=\"100\"/><br><center>Big Bird 1</center></td><td><img style='border:2px solid red' src=\"Images/big_bird.png\" width=\"100\"/><br><center>Big Bird 3</center></td><td></tr></table>\n",
    "\n",
    "<table><tr><td><img src=\"Images/kfc_full.png\" width=\"250\"/><br><center>Big Bird 4</center></td><td><img src=\"Images/kfc_full.png\" width=\"250\"/><br><center>Big Bird 2</center></td><td><img src=\"Images/kfc_full.png\" width=\"250\"/><br><center>Big Bird 5</center></td></tr></table>"
   ]
  },
  {
   "cell_type": "markdown",
   "metadata": {
    "slideshow": {
     "slide_type": "slide"
    }
   },
   "source": [
    "Another way to formulate the counting:\n",
    "\n",
    "$$ 5\\times4\\times3 = \\frac{5\\times4\\times3\\times2\\times1}{2\\times1} = \\frac{5!}{2!} = \\frac{5!}{(5-3)!} = 60  $$ "
   ]
  },
  {
   "cell_type": "markdown",
   "metadata": {
    "slideshow": {
     "slide_type": "fragment"
    }
   },
   "source": [
    "The general permutation case: n objects, r bins.\n",
    "\n",
    "Total arrangements:\n",
    "\n",
    "$$ P(n,r) = \\frac{n!}{(n-r)!} $$"
   ]
  },
  {
   "cell_type": "markdown",
   "metadata": {
    "slideshow": {
     "slide_type": "slide"
    }
   },
   "source": [
    "#### Permutations in Python\n",
    "- Get permutations of object selections:\n",
    "    - lists and base Python\n",
    "    - arrays and numpy methods"
   ]
  },
  {
   "cell_type": "markdown",
   "metadata": {
    "slideshow": {
     "slide_type": "fragment"
    }
   },
   "source": [
    "Starting with base python and lists:\n",
    "- Very useful library: itertools"
   ]
  },
  {
   "cell_type": "code",
   "execution_count": 2,
   "metadata": {
    "slideshow": {
     "slide_type": "fragment"
    }
   },
   "outputs": [],
   "source": [
    "import itertools"
   ]
  },
  {
   "cell_type": "markdown",
   "metadata": {
    "slideshow": {
     "slide_type": "slide"
    }
   },
   "source": [
    "- itertools.permutations(collection, num_buckets)\n",
    "- num_bucket default is number of elements in collection\n"
   ]
  },
  {
   "cell_type": "code",
   "execution_count": 3,
   "metadata": {
    "slideshow": {
     "slide_type": "subslide"
    }
   },
   "outputs": [
    {
     "data": {
      "text/plain": [
       "[(1, 2, 3), (1, 3, 2), (2, 1, 3), (2, 3, 1), (3, 1, 2), (3, 2, 1)]"
      ]
     },
     "execution_count": 3,
     "metadata": {},
     "output_type": "execute_result"
    }
   ],
   "source": [
    "permutation_list = list(itertools.permutations([1,2,3]))\n",
    "permutation_list"
   ]
  },
  {
   "cell_type": "markdown",
   "metadata": {
    "slideshow": {
     "slide_type": "fragment"
    }
   },
   "source": [
    "Can get the number of permutations:"
   ]
  },
  {
   "cell_type": "code",
   "execution_count": 4,
   "metadata": {
    "slideshow": {
     "slide_type": "fragment"
    }
   },
   "outputs": [
    {
     "data": {
      "text/plain": [
       "6"
      ]
     },
     "execution_count": 4,
     "metadata": {},
     "output_type": "execute_result"
    }
   ],
   "source": [
    "P_n = len(permutation_list)\n",
    "P_n"
   ]
  },
  {
   "cell_type": "markdown",
   "metadata": {
    "slideshow": {
     "slide_type": "slide"
    }
   },
   "source": [
    "Can also specify number we want to select:\n",
    "- i.e. number of buckets"
   ]
  },
  {
   "cell_type": "code",
   "execution_count": 5,
   "metadata": {
    "slideshow": {
     "slide_type": "subslide"
    }
   },
   "outputs": [],
   "source": [
    "# numbers we are selecting from\n",
    "larger_list = [1,2,3,4,5]\n",
    "# choose number of buckets putting numbers into\n",
    "num_buckets = 3\n",
    "permutation_selector = list(itertools.permutations(larger_list, num_buckets))"
   ]
  },
  {
   "cell_type": "code",
   "execution_count": 6,
   "metadata": {
    "slideshow": {
     "slide_type": "fragment"
    }
   },
   "outputs": [
    {
     "name": "stdout",
     "output_type": "stream",
     "text": [
      "[(1, 2, 3), (1, 2, 4), (1, 2, 5), (1, 3, 2), (1, 3, 4), (1, 3, 5), (1, 4, 2), (1, 4, 3), (1, 4, 5), (1, 5, 2), (1, 5, 3), (1, 5, 4), (2, 1, 3), (2, 1, 4), (2, 1, 5), (2, 3, 1), (2, 3, 4), (2, 3, 5), (2, 4, 1), (2, 4, 3), (2, 4, 5), (2, 5, 1), (2, 5, 3), (2, 5, 4), (3, 1, 2), (3, 1, 4), (3, 1, 5), (3, 2, 1), (3, 2, 4), (3, 2, 5), (3, 4, 1), (3, 4, 2), (3, 4, 5), (3, 5, 1), (3, 5, 2), (3, 5, 4), (4, 1, 2), (4, 1, 3), (4, 1, 5), (4, 2, 1), (4, 2, 3), (4, 2, 5), (4, 3, 1), (4, 3, 2), (4, 3, 5), (4, 5, 1), (4, 5, 2), (4, 5, 3), (5, 1, 2), (5, 1, 3), (5, 1, 4), (5, 2, 1), (5, 2, 3), (5, 2, 4), (5, 3, 1), (5, 3, 2), (5, 3, 4), (5, 4, 1), (5, 4, 2), (5, 4, 3)]\n"
     ]
    }
   ],
   "source": [
    "print(permutation_selector)"
   ]
  },
  {
   "cell_type": "code",
   "execution_count": 7,
   "metadata": {
    "slideshow": {
     "slide_type": "subslide"
    }
   },
   "outputs": [
    {
     "data": {
      "text/plain": [
       "60"
      ]
     },
     "execution_count": 7,
     "metadata": {},
     "output_type": "execute_result"
    }
   ],
   "source": [
    "n_selector = len(permutation_selector)\n",
    "n_selector"
   ]
  },
  {
   "cell_type": "markdown",
   "metadata": {
    "slideshow": {
     "slide_type": "slide"
    }
   },
   "source": [
    "Can do similar things with numpy arrays/pandas Series:\n",
    "- But more importantly can get:\n",
    "    - A random instance of a permutation of the array\n",
    "    - A random sampling sequence of a given array\n",
    "\n",
    "- np.random permutation function"
   ]
  },
  {
   "cell_type": "code",
   "execution_count": 8,
   "metadata": {
    "slideshow": {
     "slide_type": "fragment"
    }
   },
   "outputs": [],
   "source": [
    "# import libraries and permutation function\n",
    "from numpy.random import permutation\n",
    "import numpy as np"
   ]
  },
  {
   "cell_type": "markdown",
   "metadata": {
    "slideshow": {
     "slide_type": "slide"
    }
   },
   "source": [
    "Let's define a simple numpy array:"
   ]
  },
  {
   "cell_type": "code",
   "execution_count": 9,
   "metadata": {
    "slideshow": {
     "slide_type": "fragment"
    }
   },
   "outputs": [],
   "source": [
    "simple_arr = np.array([1,2,3])"
   ]
  },
  {
   "cell_type": "code",
   "execution_count": 10,
   "metadata": {
    "slideshow": {
     "slide_type": "fragment"
    }
   },
   "outputs": [
    {
     "data": {
      "text/plain": [
       "array([2, 1, 3])"
      ]
     },
     "execution_count": 10,
     "metadata": {},
     "output_type": "execute_result"
    }
   ],
   "source": [
    "np.random.permutation([1,2,3])"
   ]
  },
  {
   "cell_type": "markdown",
   "metadata": {
    "slideshow": {
     "slide_type": "slide"
    }
   },
   "source": [
    "Similar to when we were putting 5 big birds into 3 bins:\n",
    "\n",
    "- Select a subset of a list\n",
    "- np.random choice function"
   ]
  },
  {
   "cell_type": "code",
   "execution_count": 11,
   "metadata": {
    "slideshow": {
     "slide_type": "fragment"
    }
   },
   "outputs": [],
   "source": [
    "# will do a selection for us:\n",
    "from numpy.random import choice\n",
    "\n",
    "larger_array= np.array([1,2,3,4,5])\n",
    "num_buckets = 3"
   ]
  },
  {
   "cell_type": "markdown",
   "metadata": {
    "slideshow": {
     "slide_type": "subslide"
    }
   },
   "source": [
    "The choice function takes elements in sequence:\n",
    "- out of original selection pool (replacement = False)\n",
    "- into \"sampled\" array\n"
   ]
  },
  {
   "cell_type": "code",
   "execution_count": 12,
   "metadata": {
    "slideshow": {
     "slide_type": "fragment"
    }
   },
   "outputs": [
    {
     "data": {
      "text/plain": [
       "array([3, 2, 4])"
      ]
     },
     "execution_count": 12,
     "metadata": {},
     "output_type": "execute_result"
    }
   ],
   "source": [
    "choice(larger_array, size = num_buckets, replace = False)"
   ]
  },
  {
   "cell_type": "markdown",
   "metadata": {
    "slideshow": {
     "slide_type": "slide"
    }
   },
   "source": [
    "#### Combinations\n",
    "\n",
    "Let's go back to our prevous big bird selection:\n",
    "\n",
    "Counted how many ways to put Big Bird 1-5 into 3 buckets.\n",
    "\n",
    "A particular result:"
   ]
  },
  {
   "cell_type": "markdown",
   "metadata": {
    "slideshow": {
     "slide_type": "subslide"
    }
   },
   "source": [
    "<table><tr><td><img src=\"Images/big_bird.png\" width=\"100\"/><br><center>Big Bird 1</center></td><td><img src=\"Images/big_bird.png\" width=\"100\"/><br><center>Big Bird 3</center></td><td></tr></table>\n",
    "\n",
    "<table><tr><td><img src=\"Images/kfc_full.png\" width=\"250\"/><br><center>Big Bird 4</center></td><td><img src=\"Images/kfc_full.png\" width=\"250\"/><br><center>Big Bird 2</center></td><td><img src=\"Images/kfc_full.png\" width=\"250\"/><br><center>Big Bird 5</center></td></tr></table>"
   ]
  },
  {
   "cell_type": "markdown",
   "metadata": {
    "slideshow": {
     "slide_type": "slide"
    }
   },
   "source": [
    "Another result:"
   ]
  },
  {
   "cell_type": "markdown",
   "metadata": {
    "slideshow": {
     "slide_type": "subslide"
    }
   },
   "source": [
    "<table><tr><td><img  src=\"Images/big_bird.png\" width=\"100\"/><br><center>Big Bird 1</center></td><td><img  src=\"Images/big_bird.png\" width=\"100\"/><br><center>Big Bird 3</center></td><td></tr></table>\n",
    "\n",
    "<table><tr><td><img src=\"Images/kfc_full.png\" width=\"250\"/><br><center>Big Bird 2</center></td><td><img src=\"Images/kfc_full.png\" width=\"250\"/><br><center>Big Bird 5</center></td><td><img src=\"Images/kfc_full.png\" width=\"250\"/><br><center>Big Bird 4</center></td></tr></table>"
   ]
  },
  {
   "cell_type": "markdown",
   "metadata": {
    "slideshow": {
     "slide_type": "slide"
    }
   },
   "source": [
    "Previously:\n",
    "    \n",
    "- Counted previous instances as separate outcomes.\n",
    "- Order of selection mattered.\n",
    "\n",
    "But what if I only care that Big Bird 2, 4, and 5 sit in buckets?\n",
    "\n",
    "Not the order."
   ]
  },
  {
   "cell_type": "markdown",
   "metadata": {
    "slideshow": {
     "slide_type": "subslide"
    }
   },
   "source": [
    "Two equivalent selections: \n",
    "<table><tr><td><img src=\"Images/kfc_full.png\" width=\"100\"/><br><center>Big Bird 2</center></td><td><img src=\"Images/kfc_full.png\" width=\"100\"/><br><center>Big Bird 5</center></td><td><img src=\"Images/kfc_full.png\" width=\"100\"/><br><center>Big Bird 4</center></td></tr>\n",
    "\n",
    "<tr><td><img src=\"Images/kfc_full.png\" width=\"100\"/><br><center>Big Bird 5</center></td><td><img src=\"Images/kfc_full.png\" width=\"100\"/><br><center>Big Bird 2</center></td><td><img src=\"Images/kfc_full.png\" width=\"100\"/><br><center>Big Bird 4</center></td></tr>\n",
    "\n",
    "</table>\n",
    "<center>Number of equivalent selections here?</center>"
   ]
  },
  {
   "cell_type": "markdown",
   "metadata": {
    "slideshow": {
     "slide_type": "fragment"
    }
   },
   "source": [
    "3! equivalent selections for 3 buckets."
   ]
  },
  {
   "cell_type": "markdown",
   "metadata": {
    "cell_style": "split",
    "slideshow": {
     "slide_type": "slide"
    }
   },
   "source": [
    "Number of permutation: \n",
    "\n",
    "$$ P(5,3) = \\frac{5!}{(5-3)!} = 60 $$\n",
    "\n",
    "Order of selection matters here."
   ]
  },
  {
   "cell_type": "markdown",
   "metadata": {
    "cell_style": "split",
    "slideshow": {
     "slide_type": "fragment"
    }
   },
   "source": [
    "All the permutations:\n",
    "- But now for each arrangement in buckets:\n",
    "- Divide out the number of equivalent selections (number of bins)\n",
    "\n",
    "Number of **combinations**:\n",
    "\n",
    "$$ C(5,3) = \\frac{5!}{(5-3)!3!} =10 $$"
   ]
  },
  {
   "cell_type": "markdown",
   "metadata": {
    "cell_style": "split",
    "slideshow": {
     "slide_type": "slide"
    }
   },
   "source": [
    "The general permutation case: n objects, r bins.\n",
    "\n",
    "Total arrangements:\n",
    "\n",
    "$$ P(n,r) = \\frac{n!}{(n-r)!} $$"
   ]
  },
  {
   "cell_type": "markdown",
   "metadata": {
    "cell_style": "split",
    "slideshow": {
     "slide_type": "fragment"
    }
   },
   "source": [
    "General formula for combinations\n",
    "$$ C(N, r) = {N \\choose r} =   \\frac{N!}{(N - r)! r!} $$"
   ]
  },
  {
   "cell_type": "markdown",
   "metadata": {},
   "source": [
    "Another way to think about it: How many combinations for two groups (selected/unselected)?\n",
    "\n",
    "<table><tr><td><img  src=\"Images/big_bird.png\" width=\"100\"/><br><center>Big Bird 1</center></td><td><img  src=\"Images/big_bird.png\" width=\"100\"/><br><center>Big Bird 3</center></td><td></tr></table>\n",
    "\n",
    "<table><tr><td><img src=\"Images/kfc_full.png\" width=\"250\"/><br><center>Big Bird 2</center></td><td><img src=\"Images/kfc_full.png\" width=\"250\"/><br><center>Big Bird 5</center></td><td><img src=\"Images/kfc_full.png\" width=\"250\"/><br><center>Big Bird 4</center></td></tr></table>\n"
   ]
  },
  {
   "cell_type": "markdown",
   "metadata": {
    "cell_style": "split",
    "slideshow": {
     "slide_type": "slide"
    }
   },
   "source": [
    "- Arrangements within given unselected group: $ (N - r)! $ \n",
    "-  Arrangements within given selected group: $ r! $\n",
    "- Total number of arrangements selected/unselected: $ N! $ \n"
   ]
  },
  {
   "cell_type": "markdown",
   "metadata": {
    "cell_style": "split",
    "slideshow": {
     "slide_type": "-"
    }
   },
   "source": [
    "Divide total by ways of selecting subgroups.\n",
    "\n",
    "$$ \\frac{N!}{(N-r)!r!} $$"
   ]
  },
  {
   "cell_type": "markdown",
   "metadata": {
    "slideshow": {
     "slide_type": "slide"
    }
   },
   "source": [
    "With Python:"
   ]
  },
  {
   "cell_type": "code",
   "execution_count": 13,
   "metadata": {
    "cell_style": "center",
    "scrolled": true,
    "slideshow": {
     "slide_type": "fragment"
    }
   },
   "outputs": [
    {
     "name": "stdout",
     "output_type": "stream",
     "text": [
      "[(1, 2, 3), (1, 2, 4), (1, 2, 5), (1, 3, 2), (1, 3, 4), (1, 3, 5), (1, 4, 2), (1, 4, 3), (1, 4, 5), (1, 5, 2), (1, 5, 3), (1, 5, 4), (2, 1, 3), (2, 1, 4), (2, 1, 5), (2, 3, 1), (2, 3, 4), (2, 3, 5), (2, 4, 1), (2, 4, 3), (2, 4, 5), (2, 5, 1), (2, 5, 3), (2, 5, 4), (3, 1, 2), (3, 1, 4), (3, 1, 5), (3, 2, 1), (3, 2, 4), (3, 2, 5), (3, 4, 1), (3, 4, 2), (3, 4, 5), (3, 5, 1), (3, 5, 2), (3, 5, 4), (4, 1, 2), (4, 1, 3), (4, 1, 5), (4, 2, 1), (4, 2, 3), (4, 2, 5), (4, 3, 1), (4, 3, 2), (4, 3, 5), (4, 5, 1), (4, 5, 2), (4, 5, 3), (5, 1, 2), (5, 1, 3), (5, 1, 4), (5, 2, 1), (5, 2, 3), (5, 2, 4), (5, 3, 1), (5, 3, 2), (5, 3, 4), (5, 4, 1), (5, 4, 2), (5, 4, 3)]\n"
     ]
    }
   ],
   "source": [
    "perms = list(itertools.permutations([1,2,3,4,5], 3))\n",
    "print(perms)"
   ]
  },
  {
   "cell_type": "code",
   "execution_count": 14,
   "metadata": {
    "slideshow": {
     "slide_type": "fragment"
    }
   },
   "outputs": [
    {
     "data": {
      "text/plain": [
       "60"
      ]
     },
     "execution_count": 14,
     "metadata": {},
     "output_type": "execute_result"
    }
   ],
   "source": [
    "len(perms)"
   ]
  },
  {
   "cell_type": "markdown",
   "metadata": {
    "slideshow": {
     "slide_type": "subslide"
    }
   },
   "source": [
    "Get combinations:\n",
    "- itertools.combinations(collection, num_selections)"
   ]
  },
  {
   "cell_type": "code",
   "execution_count": 15,
   "metadata": {
    "cell_style": "center",
    "scrolled": true,
    "slideshow": {
     "slide_type": "fragment"
    }
   },
   "outputs": [
    {
     "name": "stdout",
     "output_type": "stream",
     "text": [
      "[(1, 2, 3), (1, 2, 4), (1, 2, 5), (1, 3, 4), (1, 3, 5), (1, 4, 5), (2, 3, 4), (2, 3, 5), (2, 4, 5), (3, 4, 5)]\n"
     ]
    }
   ],
   "source": [
    "combs = list(itertools.combinations([1,2,3,4,5], 3))\n",
    "print(combs)"
   ]
  },
  {
   "cell_type": "code",
   "execution_count": 16,
   "metadata": {
    "slideshow": {
     "slide_type": "fragment"
    }
   },
   "outputs": [
    {
     "data": {
      "text/plain": [
       "10"
      ]
     },
     "execution_count": 16,
     "metadata": {},
     "output_type": "execute_result"
    }
   ],
   "source": [
    "len(combs)"
   ]
  },
  {
   "cell_type": "markdown",
   "metadata": {
    "slideshow": {
     "slide_type": "slide"
    }
   },
   "source": [
    "A related problem: \n",
    "- Number of **arrangements** with identical members.\n",
    "- Identical members form subgroups.\n",
    "\n",
    "<table><tr><td><img src=\"Images/big_bird.png\" width=\"100\"/></td><td><img src=\"Images/big_bird.png\" width=\"100\"/></td><td><img src=\"Images/snuffy.jpg\" width=\"200\"/></td><td><img src=\"Images/snuffy.jpg\" width=\"200\"/></td><td><img src=\"Images/snuffy.jpg\" width=\"200\"/></td></tr></table>"
   ]
  },
  {
   "cell_type": "markdown",
   "metadata": {
    "slideshow": {
     "slide_type": "slide"
    }
   },
   "source": [
    "<table><tr><td><img src=\"Images/big_bird.png\" width=\"100\"/></td><td><img src=\"Images/big_bird.png\" width=\"100\"/></td><td><img src=\"Images/snuffy.jpg\" width=\"200\"/></td><td><img src=\"Images/snuffy.jpg\" width=\"200\"/></td><td><img src=\"Images/snuffy.jpg\" width=\"200\"/></td></tr></table>\n",
    "\n",
    "Total arrangements with identical objects: $$ \\frac{5!}{2!3!} \\rightarrow \\frac{N!}{n_1!n_2!} $$"
   ]
  },
  {
   "cell_type": "markdown",
   "metadata": {
    "slideshow": {
     "slide_type": "subslide"
    }
   },
   "source": [
    "The general cases with k groups of identical objects\n",
    "\n",
    "Total number of arrangements:\n",
    " $$ \\frac{N!}{n_1!n_2!n_3!...n_k!} $$ <br>\n",
    " $$ N = n_1 + n_2 + ... + n_k $$"
   ]
  },
  {
   "cell_type": "markdown",
   "metadata": {
    "cell_style": "split",
    "slideshow": {
     "slide_type": "slide"
    }
   },
   "source": [
    "So far:\n",
    "- Taking from a pile and put into bins:\n",
    "    - people select randomly from a bag and keeping selection\n",
    "    - **sampling without replacement**"
   ]
  },
  {
   "cell_type": "markdown",
   "metadata": {
    "cell_style": "split",
    "slideshow": {
     "slide_type": "fragment"
    }
   },
   "source": [
    "- Other option:\n",
    "    - Pick from a bag at random\n",
    "    - When done with selection, put back in bag.\n",
    "    - **sampling with replacement**"
   ]
  },
  {
   "cell_type": "markdown",
   "metadata": {
    "cell_style": "split",
    "slideshow": {
     "slide_type": "slide"
    }
   },
   "source": [
    "#### Sample with replacement: example \n",
    "Each bin: choose either a Big Bird or a Snuffy.\n",
    "\n",
    "<table><tr><td><img src=\"Images/big_bird.png\" width=\"100\"/></td><td><img src=\"Images/snuffy.jpg\" width=\"200\"/></td></tr></table><br>\n"
   ]
  },
  {
   "cell_type": "markdown",
   "metadata": {
    "cell_style": "split",
    "slideshow": {
     "slide_type": "fragment"
    }
   },
   "source": [
    "Put them in the cages:\n",
    "<table><tr><td><img src=\"Images/cage.jpg\" width=\"200\"/></td><td><img src=\"Images/cage.jpg\" width=\"200\"/></td></tr></table>"
   ]
  },
  {
   "cell_type": "markdown",
   "metadata": {
    "cell_style": "split",
    "slideshow": {
     "slide_type": "fragment"
    }
   },
   "source": [
    "How many ways this time?"
   ]
  },
  {
   "cell_type": "markdown",
   "metadata": {
    "slideshow": {
     "slide_type": "fragment"
    }
   },
   "source": [
    "- First cage: 2 possibilities, Second cage: 2 possibilities\n",
    "- Total: $ 2 \\times 2 = 4 $\n",
    "- Counts all orderings!"
   ]
  },
  {
   "cell_type": "markdown",
   "metadata": {
    "slideshow": {
     "slide_type": "slide"
    }
   },
   "source": [
    "\n",
    "<center><img src=\"Images/the_count.jpg\" width=\"500\"/></center>\n",
    "<center> Wait! Count me in! </center>"
   ]
  },
  {
   "cell_type": "markdown",
   "metadata": {
    "slideshow": {
     "slide_type": "slide"
    }
   },
   "source": [
    "\n",
    "<table><tr><td><img src=\"Images/big_bird.png\" width=\"100\"/></td>\n",
    "<td><img src=\"Images/snuffy.jpg\" width=\"200\"/></td>\n",
    "<td><img src=\"Images/the_count.jpg\" width=\"200\"/></td></tr></table><br>\n",
    "\n",
    "Put them in the cages. Sample with replacement!\n",
    "<table><tr><td><img src=\"Images/cage.jpg\" width=\"200\"/></td><td><img src=\"Images/cage.jpg\" width=\"200\"/></td></tr></table>"
   ]
  },
  {
   "cell_type": "markdown",
   "metadata": {
    "slideshow": {
     "slide_type": "subslide"
    }
   },
   "source": [
    "- $3^2 = 9$ arrangements."
   ]
  },
  {
   "cell_type": "markdown",
   "metadata": {
    "slideshow": {
     "slide_type": "subslide"
    }
   },
   "source": [
    "\n",
    "<table><tr><td><img src=\"Images/big_bird.png\" width=\"100\"/></td>\n",
    "<td><img src=\"Images/snuffy.jpg\" width=\"200\"/></td>\n",
    "<td><img src=\"Images/the_count.jpg\" width=\"200\"/></td></tr></table><br>\n",
    "\n",
    "Put them in the cages. Sample with replacement!\n",
    "<table><tr><td><img src=\"Images/cage.jpg\" width=\"200\"/></td><td><img src=\"Images/cage.jpg\" width=\"200\"/></td><td><img src=\"Images/cage.jpg\" width=\"200\"/></td><td><img src=\"Images/cage.jpg\" width=\"200\"/></td></tr></table>"
   ]
  },
  {
   "cell_type": "markdown",
   "metadata": {
    "slideshow": {
     "slide_type": "subslide"
    }
   },
   "source": [
    "- $3^4 = 81$ arrangements."
   ]
  },
  {
   "cell_type": "markdown",
   "metadata": {
    "slideshow": {
     "slide_type": "subslide"
    }
   },
   "source": [
    "Generally:\n",
    "\n",
    "Total arrangements (sampling with replacement)\n",
    "\n",
    "$$ P =  n^r $$\n",
    "\n",
    "- r = number of bins/selections \n",
    "- n = number of items in collection"
   ]
  },
  {
   "cell_type": "markdown",
   "metadata": {
    "slideshow": {
     "slide_type": "slide"
    }
   },
   "source": [
    "**Python: Sampling with/without replacement**\n",
    "\n",
    "Take a simple list:\n",
    "- Compare sampling with and without replacement side-by-side\n",
    "- itertools.product()\n"
   ]
  },
  {
   "cell_type": "code",
   "execution_count": 17,
   "metadata": {
    "cell_style": "split",
    "slideshow": {
     "slide_type": "fragment"
    }
   },
   "outputs": [
    {
     "data": {
      "text/plain": [
       "[(1, 2), (1, 3), (2, 1), (2, 3), (3, 1), (3, 2)]"
      ]
     },
     "execution_count": 17,
     "metadata": {},
     "output_type": "execute_result"
    }
   ],
   "source": [
    "li_small = [1,2,3]\n",
    "list(itertools.permutations(li_small, 2))"
   ]
  },
  {
   "cell_type": "code",
   "execution_count": 18,
   "metadata": {
    "cell_style": "split",
    "slideshow": {
     "slide_type": "fragment"
    }
   },
   "outputs": [
    {
     "data": {
      "text/plain": [
       "[(1, 1), (1, 2), (1, 3), (2, 1), (2, 2), (2, 3), (3, 1), (3, 2), (3, 3)]"
      ]
     },
     "execution_count": 18,
     "metadata": {},
     "output_type": "execute_result"
    }
   ],
   "source": [
    "li_small = [1,2,3]\n",
    "list(itertools.product(li_small, repeat=2))"
   ]
  },
  {
   "cell_type": "markdown",
   "metadata": {
    "slideshow": {
     "slide_type": "slide"
    }
   },
   "source": [
    "- Random sampling: numpy.random.choice \n",
    "    - replacement = True"
   ]
  },
  {
   "cell_type": "code",
   "execution_count": 19,
   "metadata": {
    "cell_style": "center",
    "slideshow": {
     "slide_type": "fragment"
    }
   },
   "outputs": [
    {
     "data": {
      "text/plain": [
       "array([2, 1, 3])"
      ]
     },
     "execution_count": 19,
     "metadata": {},
     "output_type": "execute_result"
    }
   ],
   "source": [
    "choice(li_small, size = num_buckets, replace = True)"
   ]
  },
  {
   "cell_type": "markdown",
   "metadata": {
    "cell_style": "split"
   },
   "source": [
    "#### Sampling with replacement:\n",
    "- So far order mattered.\n",
    "- What if we want combinations instead?\n",
    "\n",
    "Construction for counting is a little bit tricky here."
   ]
  },
  {
   "cell_type": "markdown",
   "metadata": {
    "cell_style": "split"
   },
   "source": [
    "See additional material if interested:"
   ]
  },
  {
   "cell_type": "markdown",
   "metadata": {
    "cell_style": "center",
    "slideshow": {
     "slide_type": "slide"
    }
   },
   "source": [
    "#### A quick case study\n",
    "\n",
    "Our company TastyDelish Cereals: \n",
    "- Promoting/marking on three cereals:\n",
    "    - Big Bananarama\n",
    "    - Chocomagnificence\n",
    "    - Sugar Dreams"
   ]
  },
  {
   "cell_type": "markdown",
   "metadata": {
    "cell_style": "center",
    "slideshow": {
     "slide_type": "subslide"
    }
   },
   "source": [
    "Among a field of eight cereals. Is our marketing effective?\n",
    "\n",
    "- Probability that our cereals rank in top 3?"
   ]
  },
  {
   "cell_type": "markdown",
   "metadata": {
    "slideshow": {
     "slide_type": "fragment"
    }
   },
   "source": [
    "**Assuming marketing doesn't do anything**:\n",
    "- Each top 3 selection equally likely.\n",
    "- Counting problem."
   ]
  },
  {
   "cell_type": "code",
   "execution_count": 37,
   "metadata": {},
   "outputs": [],
   "source": [
    "cereal_pool = ['Big Bananarama', 'Count Chocula', 'Fruity Pebbles', 'Trix',\n",
    "               'Chocomagnificence', 'Sugar Dreams', 'Lucky Charms', 'Special K']"
   ]
  },
  {
   "cell_type": "markdown",
   "metadata": {
    "cell_style": "split"
   },
   "source": [
    "Total possibilities\n",
    "\n",
    "$$ \\frac{N!}{(N - r)!} $$\n",
    "\n",
    "In our case: $ 8!/5! $"
   ]
  },
  {
   "cell_type": "code",
   "execution_count": 38,
   "metadata": {
    "cell_style": "split",
    "slideshow": {
     "slide_type": "fragment"
    }
   },
   "outputs": [
    {
     "data": {
      "text/plain": [
       "336.0"
      ]
     },
     "execution_count": 38,
     "metadata": {},
     "output_type": "execute_result"
    }
   ],
   "source": [
    "from numpy import math\n",
    "\n",
    "N = 8 # 8 total cereals\n",
    "r = 3 # selecting in order the top 3 cereals\n",
    "\n",
    "total_possibilities = (math.factorial(N)/\n",
    "                       math.factorial(N-r))\n",
    "total_possibilities\n"
   ]
  },
  {
   "cell_type": "markdown",
   "metadata": {
    "cell_style": "split",
    "slideshow": {
     "slide_type": "slide"
    }
   },
   "source": [
    "How many results where Big Bananarama, Chocomagnificence, and Sugar Dreams are all in top 3?\n",
    "\n"
   ]
  },
  {
   "cell_type": "code",
   "execution_count": 40,
   "metadata": {
    "cell_style": "split",
    "slideshow": {
     "slide_type": "fragment"
    }
   },
   "outputs": [
    {
     "data": {
      "text/plain": [
       "6"
      ]
     },
     "execution_count": 40,
     "metadata": {},
     "output_type": "execute_result"
    }
   ],
   "source": [
    "desired_scenarios = math.factorial(r)\n",
    "desired_scenarios"
   ]
  },
  {
   "cell_type": "markdown",
   "metadata": {
    "slideshow": {
     "slide_type": "subslide"
    }
   },
   "source": [
    "Calculating likelihood under assumption marketing makes no difference:"
   ]
  },
  {
   "cell_type": "code",
   "execution_count": 46,
   "metadata": {
    "slideshow": {
     "slide_type": "fragment"
    }
   },
   "outputs": [
    {
     "name": "stdout",
     "output_type": "stream",
     "text": [
      "0.017857142857142856\n"
     ]
    }
   ],
   "source": [
    "probability = desired_scenarios/total_possibilities\n",
    "print(probability)"
   ]
  },
  {
   "cell_type": "markdown",
   "metadata": {
    "slideshow": {
     "slide_type": "slide"
    }
   },
   "source": [
    "Can also formulate this as a combination problem:\n",
    "- We only care that all three were in the top 3\n",
    "- Not the order."
   ]
  },
  {
   "cell_type": "code",
   "execution_count": 47,
   "metadata": {
    "cell_style": "center",
    "scrolled": true,
    "slideshow": {
     "slide_type": "subslide"
    }
   },
   "outputs": [
    {
     "data": {
      "text/plain": [
       "[('Big Bananarama', 'Count Chocula', 'Fruity Pebbles'),\n",
       " ('Big Bananarama', 'Count Chocula', 'Trix'),\n",
       " ('Big Bananarama', 'Count Chocula', 'Chocomagnificence'),\n",
       " ('Big Bananarama', 'Count Chocula', 'Sugar Dreams'),\n",
       " ('Big Bananarama', 'Count Chocula', 'Lucky Charms'),\n",
       " ('Big Bananarama', 'Count Chocula', 'Special K'),\n",
       " ('Big Bananarama', 'Fruity Pebbles', 'Trix'),\n",
       " ('Big Bananarama', 'Fruity Pebbles', 'Chocomagnificence'),\n",
       " ('Big Bananarama', 'Fruity Pebbles', 'Sugar Dreams'),\n",
       " ('Big Bananarama', 'Fruity Pebbles', 'Lucky Charms'),\n",
       " ('Big Bananarama', 'Fruity Pebbles', 'Special K'),\n",
       " ('Big Bananarama', 'Trix', 'Chocomagnificence'),\n",
       " ('Big Bananarama', 'Trix', 'Sugar Dreams'),\n",
       " ('Big Bananarama', 'Trix', 'Lucky Charms'),\n",
       " ('Big Bananarama', 'Trix', 'Special K'),\n",
       " ('Big Bananarama', 'Chocomagnificence', 'Sugar Dreams'),\n",
       " ('Big Bananarama', 'Chocomagnificence', 'Lucky Charms'),\n",
       " ('Big Bananarama', 'Chocomagnificence', 'Special K'),\n",
       " ('Big Bananarama', 'Sugar Dreams', 'Lucky Charms'),\n",
       " ('Big Bananarama', 'Sugar Dreams', 'Special K'),\n",
       " ('Big Bananarama', 'Lucky Charms', 'Special K'),\n",
       " ('Count Chocula', 'Fruity Pebbles', 'Trix'),\n",
       " ('Count Chocula', 'Fruity Pebbles', 'Chocomagnificence'),\n",
       " ('Count Chocula', 'Fruity Pebbles', 'Sugar Dreams'),\n",
       " ('Count Chocula', 'Fruity Pebbles', 'Lucky Charms'),\n",
       " ('Count Chocula', 'Fruity Pebbles', 'Special K'),\n",
       " ('Count Chocula', 'Trix', 'Chocomagnificence'),\n",
       " ('Count Chocula', 'Trix', 'Sugar Dreams'),\n",
       " ('Count Chocula', 'Trix', 'Lucky Charms'),\n",
       " ('Count Chocula', 'Trix', 'Special K'),\n",
       " ('Count Chocula', 'Chocomagnificence', 'Sugar Dreams'),\n",
       " ('Count Chocula', 'Chocomagnificence', 'Lucky Charms'),\n",
       " ('Count Chocula', 'Chocomagnificence', 'Special K'),\n",
       " ('Count Chocula', 'Sugar Dreams', 'Lucky Charms'),\n",
       " ('Count Chocula', 'Sugar Dreams', 'Special K'),\n",
       " ('Count Chocula', 'Lucky Charms', 'Special K'),\n",
       " ('Fruity Pebbles', 'Trix', 'Chocomagnificence'),\n",
       " ('Fruity Pebbles', 'Trix', 'Sugar Dreams'),\n",
       " ('Fruity Pebbles', 'Trix', 'Lucky Charms'),\n",
       " ('Fruity Pebbles', 'Trix', 'Special K'),\n",
       " ('Fruity Pebbles', 'Chocomagnificence', 'Sugar Dreams'),\n",
       " ('Fruity Pebbles', 'Chocomagnificence', 'Lucky Charms'),\n",
       " ('Fruity Pebbles', 'Chocomagnificence', 'Special K'),\n",
       " ('Fruity Pebbles', 'Sugar Dreams', 'Lucky Charms'),\n",
       " ('Fruity Pebbles', 'Sugar Dreams', 'Special K'),\n",
       " ('Fruity Pebbles', 'Lucky Charms', 'Special K'),\n",
       " ('Trix', 'Chocomagnificence', 'Sugar Dreams'),\n",
       " ('Trix', 'Chocomagnificence', 'Lucky Charms'),\n",
       " ('Trix', 'Chocomagnificence', 'Special K'),\n",
       " ('Trix', 'Sugar Dreams', 'Lucky Charms'),\n",
       " ('Trix', 'Sugar Dreams', 'Special K'),\n",
       " ('Trix', 'Lucky Charms', 'Special K'),\n",
       " ('Chocomagnificence', 'Sugar Dreams', 'Lucky Charms'),\n",
       " ('Chocomagnificence', 'Sugar Dreams', 'Special K'),\n",
       " ('Chocomagnificence', 'Lucky Charms', 'Special K'),\n",
       " ('Sugar Dreams', 'Lucky Charms', 'Special K')]"
      ]
     },
     "execution_count": 47,
     "metadata": {},
     "output_type": "execute_result"
    }
   ],
   "source": [
    "top3_combinations = list(itertools.combinations(cereal_pool, 3))\n",
    "top3_combinations"
   ]
  },
  {
   "cell_type": "markdown",
   "metadata": {
    "slideshow": {
     "slide_type": "subslide"
    }
   },
   "source": [
    "Only one combinations has our 3 cereals in the top 3. "
   ]
  },
  {
   "cell_type": "code",
   "execution_count": 50,
   "metadata": {
    "slideshow": {
     "slide_type": "fragment"
    }
   },
   "outputs": [
    {
     "data": {
      "text/plain": [
       "0.017857142857142856"
      ]
     },
     "execution_count": 50,
     "metadata": {},
     "output_type": "execute_result"
    }
   ],
   "source": [
    "probability_comb = 1/(len(top3_combinations))\n",
    "probability_comb"
   ]
  },
  {
   "cell_type": "markdown",
   "metadata": {
    "slideshow": {
     "slide_type": "fragment"
    }
   },
   "source": [
    "Same as before."
   ]
  },
  {
   "cell_type": "markdown",
   "metadata": {
    "slideshow": {
     "slide_type": "slide"
    }
   },
   "source": [
    "Future steps:\n",
    " \n",
    " - Look at our real data\n",
    " - Test whether it follows probabilities predicted by simple counting.\n",
    " - Reject the notion that marketing doesn't matter?\n",
    " - Hypothesis testing"
   ]
  }
 ],
 "metadata": {
  "celltoolbar": "Slideshow",
  "kernelspec": {
   "display_name": "Python 3",
   "language": "python",
   "name": "python3"
  },
  "language_info": {
   "codemirror_mode": {
    "name": "ipython",
    "version": 3
   },
   "file_extension": ".py",
   "mimetype": "text/x-python",
   "name": "python",
   "nbconvert_exporter": "python",
   "pygments_lexer": "ipython3",
   "version": "3.8.5"
  }
 },
 "nbformat": 4,
 "nbformat_minor": 5
}
