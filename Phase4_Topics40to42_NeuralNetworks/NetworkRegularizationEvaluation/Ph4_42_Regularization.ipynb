{
 "cells": [
  {
   "cell_type": "markdown",
   "metadata": {
    "slideshow": {
     "slide_type": "slide"
    }
   },
   "source": [
    "<div style=\"color:white;\n",
    "           display:fill;\n",
    "           border-radius:5px;\n",
    "           background-color:#5642C5;\n",
    "           font-size:200%;\n",
    "           font-family:Arial;letter-spacing:0.5px\">\n",
    "\n",
    "<p width = 20%, style=\"padding: 10px;\n",
    "              color:white;\">\n",
    "Neural Networks: Regularization\n",
    "</p>\n",
    "</div>\n",
    "\n",
    "Data Science Cohort Live NYC Feb 2022\n",
    "<p>Phase 4: Topic 42</p>\n",
    "<br>\n",
    "<br>\n",
    "\n",
    "<div align = \"right\">\n",
    "<img src=\"Images/flatiron-school-logo.png\" align = \"right\" width=\"200\"/>\n",
    "</div>\n",
    "    \n",
    "    "
   ]
  },
  {
   "cell_type": "code",
   "execution_count": 1,
   "metadata": {
    "slideshow": {
     "slide_type": "skip"
    }
   },
   "outputs": [],
   "source": [
    "from sklearn.datasets import load_sample_images\n",
    "from sklearn.datasets import load_digits\n",
    "from sklearn.model_selection import train_test_split, cross_val_score\n",
    "from sklearn.preprocessing import OneHotEncoder\n",
    "from sklearn.metrics import accuracy_score, confusion_matrix\n",
    "import matplotlib.pyplot as plt\n",
    "import matplotlib.image as mpimg\n",
    "import numpy as np\n",
    "import pandas as pd\n",
    "from sklearn.metrics import ConfusionMatrixDisplay\n",
    "import seaborn as sns\n",
    "\n",
    "from tensorflow.keras import datasets\n",
    "from tensorflow.keras.models import Sequential\n",
    "from tensorflow.keras.layers import Dense, Dropout\n",
    "from tensorflow.keras.callbacks import EarlyStopping\n",
    "from tensorflow.keras.utils import to_categorical\n",
    "from tensorflow.keras.layers import Flatten # takes 2D input and turns into 1D array\n",
    "\n",
    "import os\n",
    "import sys\n",
    "module_path = os.path.abspath(os.path.join(os.pardir, os.pardir))\n",
    "if module_path not in sys.path:\n",
    "    sys.path.append(module_path)\n",
    "    \n",
    "%load_ext autoreload\n",
    "%autoreload 2"
   ]
  },
  {
   "cell_type": "markdown",
   "metadata": {
    "slideshow": {
     "slide_type": "slide"
    }
   },
   "source": [
    "#### Regularization\n",
    "- Retain complexity of neural network: many weights to learn interesting relationships\n",
    "- Make our weights less susceptible to overfitting\n",
    "\n",
    "**Getting neural networks to perform really well**"
   ]
  },
  {
   "cell_type": "markdown",
   "metadata": {
    "slideshow": {
     "slide_type": "slide"
    }
   },
   "source": [
    "In neural networks, two main forms of regularization:\n",
    "- L2 Regularization (something familiar)\n",
    "- Dropout Regularization (something a little new)"
   ]
  },
  {
   "cell_type": "markdown",
   "metadata": {
    "slideshow": {
     "slide_type": "slide"
    }
   },
   "source": [
    "**L2 Regularization**\n",
    "\n",
    "- Add penalty on weight **matrices**.\n",
    "$$ J \\rightarrow J' $$\n",
    "$$ J = \\sum_{i=1}^m \\frac{1}{m}L(y_i, \\hat{y}_i) $$\n",
    "$$ J' = \\sum_{i=1}^m \\frac{1}{m}L(y_i, \\hat{y}_i) + \\frac{\\lambda}{2} \\sum_{l=1}^L \\lVert  W^{[l]}   \\rVert_F^2 $$"
   ]
  },
  {
   "cell_type": "markdown",
   "metadata": {
    "slideshow": {
     "slide_type": "fragment"
    }
   },
   "source": [
    "where $F$ denotes the Frobenius norm."
   ]
  },
  {
   "cell_type": "markdown",
   "metadata": {
    "cell_style": "center",
    "slideshow": {
     "slide_type": "slide"
    }
   },
   "source": [
    "Frobenius norm is square root of sum of of element-wise square:\n",
    "i.e. \n",
    "$$ \\lVert  A   \\rVert_F = \\sqrt{\\sum_{i,j} A_{ij}^2 }$$"
   ]
  },
  {
   "cell_type": "code",
   "execution_count": 13,
   "metadata": {
    "slideshow": {
     "slide_type": "fragment"
    }
   },
   "outputs": [],
   "source": [
    "import numpy as np\n",
    "from numpy.linalg import norm"
   ]
  },
  {
   "cell_type": "code",
   "execution_count": 14,
   "metadata": {
    "cell_style": "split",
    "slideshow": {
     "slide_type": "fragment"
    }
   },
   "outputs": [
    {
     "data": {
      "text/plain": [
       "array([[1, 2],\n",
       "       [0, 3]])"
      ]
     },
     "execution_count": 14,
     "metadata": {},
     "output_type": "execute_result"
    }
   ],
   "source": [
    "A = np.array([[1,2],[0,3]])\n",
    "A"
   ]
  },
  {
   "cell_type": "code",
   "execution_count": 15,
   "metadata": {
    "cell_style": "split",
    "slideshow": {
     "slide_type": "fragment"
    }
   },
   "outputs": [
    {
     "data": {
      "text/plain": [
       "3.7416573867739413"
      ]
     },
     "execution_count": 15,
     "metadata": {},
     "output_type": "execute_result"
    }
   ],
   "source": [
    "norm(A, 'fro')"
   ]
  },
  {
   "cell_type": "code",
   "execution_count": 19,
   "metadata": {
    "cell_style": "split",
    "slideshow": {
     "slide_type": "fragment"
    }
   },
   "outputs": [
    {
     "data": {
      "text/plain": [
       "3.7416573867739413"
      ]
     },
     "execution_count": 19,
     "metadata": {},
     "output_type": "execute_result"
    }
   ],
   "source": [
    "np.sqrt(1**2 + 0**2 + 2**2 + 3**2)"
   ]
  },
  {
   "cell_type": "markdown",
   "metadata": {
    "cell_style": "split",
    "slideshow": {
     "slide_type": "slide"
    }
   },
   "source": [
    "Modiied objective functon:\n",
    "\n",
    "$$ J' = \\sum_{i=1}^m \\frac{1}{m}L(y_i, \\hat{y}_i) + \\frac{\\lambda}{2} \\sum_{l=1}^L \\lVert  W^{[l]}   \\rVert_F^2 $$"
   ]
  },
  {
   "cell_type": "markdown",
   "metadata": {
    "cell_style": "split",
    "slideshow": {
     "slide_type": "fragment"
    }
   },
   "source": [
    "Regularization serves to penalize any particular weight from being too large:\n",
    "- smoothens/redistributes weights for each weight matrix\n",
    "- aids in generalization"
   ]
  },
  {
   "cell_type": "markdown",
   "metadata": {
    "cell_style": "center",
    "slideshow": {
     "slide_type": "slide"
    }
   },
   "source": [
    "L2 regularization: often known as weight decay\n",
    "- Perspective: gradient descent\n",
    "$$ J' = \\sum_{i=1}^m \\frac{1}{m}L(y_i, \\hat{y}_i) + \\frac{\\lambda}{2} \\sum_{l=1}^L \\lVert  W^{[l]}   \\rVert_F^2 $$\n",
    "$$ W^{[l]} \\rightarrow W^{[l]} - \\alpha \\frac{\\partial J'}{\\partial W^{[l]}} $$ "
   ]
  },
  {
   "cell_type": "markdown",
   "metadata": {
    "cell_style": "center",
    "slideshow": {
     "slide_type": "fragment"
    }
   },
   "source": [
    "$$ J = \\sum_{i=1}^m \\frac{1}{m}L(y_i, \\hat{y}_i) $$\n",
    "$$ W^{[l]} \\rightarrow \\Big(W^{[l]}  - \\alpha \\frac{\\lambda}{2 m}  W^{[l]} \\Big) - \\alpha \\frac{\\partial J}{\\partial W^{[l]}}$$ \n",
    "\n",
    "- At each iteration regularization tries to reduce magnitude of weight matrix."
   ]
  },
  {
   "cell_type": "markdown",
   "metadata": {
    "slideshow": {
     "slide_type": "slide"
    }
   },
   "source": [
    "#### Implementing L2 regularization in Keras"
   ]
  },
  {
   "cell_type": "code",
   "execution_count": 2,
   "metadata": {
    "slideshow": {
     "slide_type": "fragment"
    }
   },
   "outputs": [],
   "source": [
    "# creates keras regularizer object\n",
    "from tensorflow.keras.regularizers import L2"
   ]
  },
  {
   "cell_type": "markdown",
   "metadata": {
    "cell_style": "center",
    "slideshow": {
     "slide_type": "slide"
    }
   },
   "source": [
    "L2 regularizer object takes in $\\lambda$ parameter as argument"
   ]
  },
  {
   "cell_type": "code",
   "execution_count": 3,
   "metadata": {
    "cell_style": "center",
    "slideshow": {
     "slide_type": "fragment"
    }
   },
   "outputs": [],
   "source": [
    "reg = L2(3e-3) # 1e-5 to .1"
   ]
  },
  {
   "cell_type": "markdown",
   "metadata": {
    "cell_style": "split",
    "slideshow": {
     "slide_type": "slide"
    }
   },
   "source": [
    "Implementing regularization to weights in Keras:\n",
    "- Dense(kernel_regularizer = __)\n",
    "- takes in string ('l2') or regularizer object"
   ]
  },
  {
   "cell_type": "markdown",
   "metadata": {
    "cell_style": "split",
    "slideshow": {
     "slide_type": "fragment"
    }
   },
   "source": [
    "Less common but also used:\n",
    "\n",
    "- can apply regularization to bias terms \n",
    "- Dense(bias_regularizer = __)"
   ]
  },
  {
   "cell_type": "code",
   "execution_count": 4,
   "metadata": {
    "slideshow": {
     "slide_type": "slide"
    }
   },
   "outputs": [],
   "source": [
    "# load in the data\n",
    "(x_train, y_train), (x_test, y_test) = datasets.mnist.load_data()\n",
    "\n",
    "x_train = x_train/255 # normalization\n",
    "x_test = x_test/255\n",
    "\n",
    "# Keras requires multi-class labels to be one-hot encoded\n",
    "y_tr_one_hot = to_categorical(y_train)\n",
    "y_tt_one_hot = to_categorical(y_test)"
   ]
  },
  {
   "cell_type": "code",
   "execution_count": 5,
   "metadata": {
    "slideshow": {
     "slide_type": "slide"
    }
   },
   "outputs": [],
   "source": [
    "model_images = Sequential()\n",
    "model_images.add(Flatten(input_shape=(28, 28))) # flattens each 28x28 image into a vector\n",
    "model_images.add(Dense(32, activation='relu', kernel_regularizer = reg)) # take in regularizer\n",
    "model_images.add(Dense(8, activation='relu', kernel_regularizer = reg))\n",
    "model_images.add(Dense(10, activation='softmax')) # number of units = number of target classes"
   ]
  },
  {
   "cell_type": "code",
   "execution_count": 6,
   "metadata": {
    "slideshow": {
     "slide_type": "fragment"
    }
   },
   "outputs": [],
   "source": [
    "model_images.compile(optimizer='Adam', loss='categorical_crossentropy', metrics=['accuracy'] )"
   ]
  },
  {
   "cell_type": "code",
   "execution_count": 7,
   "metadata": {
    "scrolled": false,
    "slideshow": {
     "slide_type": "subslide"
    }
   },
   "outputs": [
    {
     "name": "stdout",
     "output_type": "stream",
     "text": [
      "Epoch 1/50\n",
      "1500/1500 [==============================] - 1s 954us/step - loss: 0.7322 - accuracy: 0.8334 - val_loss: 0.4648 - val_accuracy: 0.9153\n",
      "Epoch 2/50\n",
      "1500/1500 [==============================] - 1s 863us/step - loss: 0.4463 - accuracy: 0.9230 - val_loss: 0.4020 - val_accuracy: 0.9329\n",
      "Epoch 3/50\n",
      "1500/1500 [==============================] - 1s 880us/step - loss: 0.3975 - accuracy: 0.9352 - val_loss: 0.3699 - val_accuracy: 0.9415\n",
      "Epoch 4/50\n",
      "1500/1500 [==============================] - 1s 838us/step - loss: 0.3702 - accuracy: 0.9395 - val_loss: 0.3417 - val_accuracy: 0.9471\n",
      "Epoch 5/50\n",
      "1500/1500 [==============================] - 1s 814us/step - loss: 0.3471 - accuracy: 0.9441 - val_loss: 0.3527 - val_accuracy: 0.9421\n",
      "Epoch 6/50\n",
      "1500/1500 [==============================] - 1s 851us/step - loss: 0.3325 - accuracy: 0.9472 - val_loss: 0.3245 - val_accuracy: 0.9516\n",
      "Epoch 7/50\n",
      "1500/1500 [==============================] - 1s 896us/step - loss: 0.3174 - accuracy: 0.9505 - val_loss: 0.3083 - val_accuracy: 0.9542\n",
      "Epoch 8/50\n",
      "1500/1500 [==============================] - 1s 930us/step - loss: 0.3070 - accuracy: 0.9524 - val_loss: 0.2952 - val_accuracy: 0.9557\n",
      "Epoch 9/50\n",
      "1500/1500 [==============================] - 1s 965us/step - loss: 0.2980 - accuracy: 0.9535 - val_loss: 0.2815 - val_accuracy: 0.9595\n",
      "Epoch 10/50\n",
      "1500/1500 [==============================] - 2s 1ms/step - loss: 0.2927 - accuracy: 0.9530 - val_loss: 0.2831 - val_accuracy: 0.9591\n",
      "Epoch 11/50\n",
      "1500/1500 [==============================] - 1s 922us/step - loss: 0.2840 - accuracy: 0.9558 - val_loss: 0.2822 - val_accuracy: 0.9550\n",
      "Epoch 12/50\n",
      "1500/1500 [==============================] - 1s 854us/step - loss: 0.2792 - accuracy: 0.9562 - val_loss: 0.2763 - val_accuracy: 0.9556\n",
      "Epoch 13/50\n",
      "1500/1500 [==============================] - 1s 838us/step - loss: 0.2736 - accuracy: 0.9573 - val_loss: 0.2636 - val_accuracy: 0.9603\n",
      "Epoch 14/50\n",
      "1500/1500 [==============================] - 1s 830us/step - loss: 0.2675 - accuracy: 0.9583 - val_loss: 0.2707 - val_accuracy: 0.9579\n",
      "Epoch 15/50\n",
      "1500/1500 [==============================] - 1s 820us/step - loss: 0.2665 - accuracy: 0.9580 - val_loss: 0.2799 - val_accuracy: 0.9535\n",
      "Epoch 16/50\n",
      "1500/1500 [==============================] - 1s 848us/step - loss: 0.2621 - accuracy: 0.9578 - val_loss: 0.2558 - val_accuracy: 0.9615\n",
      "Epoch 17/50\n",
      "1500/1500 [==============================] - 1s 922us/step - loss: 0.2575 - accuracy: 0.9593 - val_loss: 0.2531 - val_accuracy: 0.9613\n",
      "Epoch 18/50\n",
      "1500/1500 [==============================] - 1s 808us/step - loss: 0.2560 - accuracy: 0.9591 - val_loss: 0.2531 - val_accuracy: 0.9599\n",
      "Epoch 19/50\n",
      "1500/1500 [==============================] - 1s 847us/step - loss: 0.2518 - accuracy: 0.9592 - val_loss: 0.2554 - val_accuracy: 0.9591\n",
      "Epoch 20/50\n",
      "1500/1500 [==============================] - 1s 847us/step - loss: 0.2480 - accuracy: 0.9611 - val_loss: 0.2533 - val_accuracy: 0.9601\n",
      "Epoch 21/50\n",
      "1500/1500 [==============================] - 1s 827us/step - loss: 0.2478 - accuracy: 0.9593 - val_loss: 0.2523 - val_accuracy: 0.9580\n",
      "Epoch 22/50\n",
      "1500/1500 [==============================] - 1s 808us/step - loss: 0.2448 - accuracy: 0.9605 - val_loss: 0.2568 - val_accuracy: 0.9573\n",
      "Epoch 23/50\n",
      "1500/1500 [==============================] - 1s 791us/step - loss: 0.2440 - accuracy: 0.9608 - val_loss: 0.2426 - val_accuracy: 0.9609\n",
      "Epoch 24/50\n",
      "1500/1500 [==============================] - 1s 824us/step - loss: 0.2400 - accuracy: 0.9611 - val_loss: 0.2487 - val_accuracy: 0.9584\n",
      "Epoch 25/50\n",
      "1500/1500 [==============================] - 1s 809us/step - loss: 0.2402 - accuracy: 0.9612 - val_loss: 0.2508 - val_accuracy: 0.9585\n",
      "Epoch 26/50\n",
      "1500/1500 [==============================] - 1s 985us/step - loss: 0.2377 - accuracy: 0.9612 - val_loss: 0.2542 - val_accuracy: 0.9542\n",
      "Epoch 27/50\n",
      "1500/1500 [==============================] - 1s 881us/step - loss: 0.2358 - accuracy: 0.9612 - val_loss: 0.2609 - val_accuracy: 0.9529\n",
      "Epoch 28/50\n",
      "1500/1500 [==============================] - 1s 853us/step - loss: 0.2349 - accuracy: 0.9610 - val_loss: 0.2273 - val_accuracy: 0.9656\n",
      "Epoch 29/50\n",
      "1500/1500 [==============================] - 1s 811us/step - loss: 0.2324 - accuracy: 0.9618 - val_loss: 0.2437 - val_accuracy: 0.9582\n",
      "Epoch 30/50\n",
      "1500/1500 [==============================] - 1s 813us/step - loss: 0.2315 - accuracy: 0.9615 - val_loss: 0.2322 - val_accuracy: 0.9635\n",
      "Epoch 31/50\n",
      "1500/1500 [==============================] - 1s 819us/step - loss: 0.2296 - accuracy: 0.9618 - val_loss: 0.2297 - val_accuracy: 0.9629\n",
      "Epoch 32/50\n",
      "1500/1500 [==============================] - 1s 849us/step - loss: 0.2284 - accuracy: 0.9616 - val_loss: 0.2342 - val_accuracy: 0.9619\n",
      "Epoch 33/50\n",
      "1500/1500 [==============================] - 1s 863us/step - loss: 0.2271 - accuracy: 0.9621 - val_loss: 0.2322 - val_accuracy: 0.9623\n",
      "Epoch 34/50\n",
      "1500/1500 [==============================] - 1s 858us/step - loss: 0.2259 - accuracy: 0.9626 - val_loss: 0.2502 - val_accuracy: 0.9573\n",
      "Epoch 35/50\n",
      "1500/1500 [==============================] - 1s 827us/step - loss: 0.2239 - accuracy: 0.9624 - val_loss: 0.2367 - val_accuracy: 0.9584\n",
      "Epoch 36/50\n",
      "1500/1500 [==============================] - 1s 832us/step - loss: 0.2250 - accuracy: 0.9626 - val_loss: 0.2210 - val_accuracy: 0.9636\n",
      "Epoch 37/50\n",
      "1500/1500 [==============================] - 1s 827us/step - loss: 0.2218 - accuracy: 0.9634 - val_loss: 0.2171 - val_accuracy: 0.9657\n",
      "Epoch 38/50\n",
      "1500/1500 [==============================] - 1s 833us/step - loss: 0.2212 - accuracy: 0.9634 - val_loss: 0.2266 - val_accuracy: 0.9608\n",
      "Epoch 39/50\n",
      "1500/1500 [==============================] - 1s 808us/step - loss: 0.2203 - accuracy: 0.9628 - val_loss: 0.2352 - val_accuracy: 0.9574\n",
      "Epoch 40/50\n",
      "1500/1500 [==============================] - 1s 836us/step - loss: 0.2186 - accuracy: 0.9639 - val_loss: 0.2260 - val_accuracy: 0.9617\n",
      "Epoch 41/50\n",
      "1500/1500 [==============================] - 1s 800us/step - loss: 0.2210 - accuracy: 0.9632 - val_loss: 0.2227 - val_accuracy: 0.9639\n",
      "Epoch 42/50\n",
      "1500/1500 [==============================] - 1s 833us/step - loss: 0.2168 - accuracy: 0.9641 - val_loss: 0.2233 - val_accuracy: 0.9622\n",
      "Epoch 43/50\n",
      "1500/1500 [==============================] - 1s 816us/step - loss: 0.2156 - accuracy: 0.9646 - val_loss: 0.2136 - val_accuracy: 0.9655\n",
      "Epoch 44/50\n",
      "1500/1500 [==============================] - 1s 807us/step - loss: 0.2176 - accuracy: 0.9626 - val_loss: 0.2176 - val_accuracy: 0.9648\n",
      "Epoch 45/50\n",
      "1500/1500 [==============================] - 1s 821us/step - loss: 0.2127 - accuracy: 0.9641 - val_loss: 0.2452 - val_accuracy: 0.9534\n",
      "Epoch 46/50\n",
      "1500/1500 [==============================] - 1s 897us/step - loss: 0.2135 - accuracy: 0.9641 - val_loss: 0.2345 - val_accuracy: 0.9587\n",
      "Epoch 47/50\n",
      "1500/1500 [==============================] - 1s 872us/step - loss: 0.2131 - accuracy: 0.9638 - val_loss: 0.2227 - val_accuracy: 0.9638\n",
      "Epoch 48/50\n",
      "1500/1500 [==============================] - 1s 739us/step - loss: 0.2114 - accuracy: 0.9645 - val_loss: 0.2354 - val_accuracy: 0.9588\n",
      "Epoch 49/50\n",
      "1500/1500 [==============================] - 1s 722us/step - loss: 0.2128 - accuracy: 0.9643 - val_loss: 0.2207 - val_accuracy: 0.9630\n",
      "Epoch 50/50\n",
      "1500/1500 [==============================] - 1s 754us/step - loss: 0.2118 - accuracy: 0.9647 - val_loss: 0.2238 - val_accuracy: 0.9630\n"
     ]
    }
   ],
   "source": [
    "history_mnist = model_images.fit(x_train, y_tr_one_hot, epochs=50, batch_size= 32, validation_split = 0.2)"
   ]
  },
  {
   "cell_type": "code",
   "execution_count": 8,
   "metadata": {
    "cell_style": "split",
    "slideshow": {
     "slide_type": "slide"
    }
   },
   "outputs": [
    {
     "data": {
      "text/plain": [
       "array([[6.6176881e-07, 3.5496073e-06, 4.5660939e-03, ..., 9.9449921e-01,\n",
       "        3.6454289e-06, 1.2059909e-04],\n",
       "       [3.8025980e-06, 8.6014933e-04, 9.9206650e-01, ..., 1.0267524e-05,\n",
       "        1.7959693e-03, 3.6960530e-09],\n",
       "       [1.9496068e-07, 9.6943486e-01, 3.5705219e-03, ..., 1.5650660e-02,\n",
       "        3.9285747e-03, 1.3602295e-04],\n",
       "       ...,\n",
       "       [2.1371558e-09, 1.5905838e-05, 2.4892710e-08, ..., 1.8314160e-05,\n",
       "        2.1190942e-06, 3.8377516e-04],\n",
       "       [3.5624031e-05, 8.6543278e-06, 1.6237863e-06, ..., 4.4689699e-07,\n",
       "        3.3432231e-03, 2.1552754e-05],\n",
       "       [1.9215487e-04, 4.5566996e-08, 1.9630371e-04, ..., 1.7863668e-08,\n",
       "        4.4313347e-06, 2.0552555e-09]], dtype=float32)"
      ]
     },
     "execution_count": 8,
     "metadata": {},
     "output_type": "execute_result"
    }
   ],
   "source": [
    "# probability for each class\n",
    "y_proba = model_images.predict(x_test)\n",
    "y_proba"
   ]
  },
  {
   "cell_type": "code",
   "execution_count": 11,
   "metadata": {
    "cell_style": "split",
    "slideshow": {
     "slide_type": "fragment"
    }
   },
   "outputs": [
    {
     "name": "stdout",
     "output_type": "stream",
     "text": [
      "313/313 [==============================] - 0s 1ms/step - loss: 0.2157 - accuracy: 0.9635\n"
     ]
    },
    {
     "data": {
      "text/plain": [
       "[0.2156781703233719, 0.9635000228881836]"
      ]
     },
     "execution_count": 11,
     "metadata": {},
     "output_type": "execute_result"
    }
   ],
   "source": [
    "model_images.evaluate(x_test, y_tt_one_hot)"
   ]
  },
  {
   "cell_type": "code",
   "execution_count": 9,
   "metadata": {
    "cell_style": "split",
    "slideshow": {
     "slide_type": "fragment"
    }
   },
   "outputs": [
    {
     "data": {
      "image/png": "[encoded data removed]",
      "text/plain": [
       "<Figure size 432x288 with 1 Axes>"
      ]
     },
     "metadata": {
      "needs_background": "light"
     },
     "output_type": "display_data"
    }
   ],
   "source": [
    "train_mnist_history = pd.DataFrame(history_mnist.history)\n",
    "train_mnist_history.index.name = 'epochs'\n",
    "\n",
    "col_list = ['loss', 'val_loss']\n",
    "train_mnist_history[col_list].plot()\n",
    "plt.ylabel('Categorical cross entropy')\n",
    "plt.title('Training loss history')\n",
    "plt.show()"
   ]
  },
  {
   "cell_type": "code",
   "execution_count": 10,
   "metadata": {
    "cell_style": "split",
    "slideshow": {
     "slide_type": "slide"
    }
   },
   "outputs": [
    {
     "data": {
      "image/png": "[encoded data removed]",
      "text/plain": [
       "<Figure size 432x288 with 1 Axes>"
      ]
     },
     "metadata": {
      "needs_background": "light"
     },
     "output_type": "display_data"
    }
   ],
   "source": [
    "col_list = ['accuracy', 'val_accuracy']\n",
    "train_mnist_history[col_list].plot()\n",
    "plt.ylabel('Accuracy')\n",
    "plt.title('Training loss history')\n",
    "plt.show()"
   ]
  },
  {
   "cell_type": "markdown",
   "metadata": {
    "cell_style": "split",
    "slideshow": {
     "slide_type": "fragment"
    }
   },
   "source": [
    "Better validation accuracy:\n",
    "- 94.5\\% to 96.3\\% with regularization\n",
    "- no overfitting"
   ]
  },
  {
   "cell_type": "code",
   "execution_count": 12,
   "metadata": {
    "slideshow": {
     "slide_type": "subslide"
    }
   },
   "outputs": [
    {
     "data": {
      "text/plain": [
       "array([7, 2, 1, ..., 4, 5, 6], dtype=int64)"
      ]
     },
     "execution_count": 12,
     "metadata": {},
     "output_type": "execute_result"
    }
   ],
   "source": [
    "# argmax axis = -1 gets the column index of maximum probability for each row.\n",
    "# column index corresponds to digit classes (numbers 0 -9)\n",
    "predicted = np.argmax(y_proba, axis=-1)\n",
    "predicted"
   ]
  },
  {
   "cell_type": "code",
   "execution_count": 13,
   "metadata": {
    "cell_style": "split",
    "scrolled": true,
    "slideshow": {
     "slide_type": "fragment"
    }
   },
   "outputs": [
    {
     "data": {
      "image/png": "[encoded data removed]",
      "text/plain": [
       "<Figure size 432x288 with 2 Axes>"
      ]
     },
     "metadata": {
      "needs_background": "light"
     },
     "output_type": "display_data"
    }
   ],
   "source": [
    "cm_digits = confusion_matrix(y_test, predicted)\n",
    "disp = ConfusionMatrixDisplay(\n",
    "    confusion_matrix=cm_digits)\n",
    "\n",
    "disp.plot(cmap=plt.cm.Blues)\n",
    "plt.show()"
   ]
  },
  {
   "cell_type": "markdown",
   "metadata": {
    "slideshow": {
     "slide_type": "slide"
    }
   },
   "source": [
    "Regularization: \n",
    "- key component to training deeper networks (tend to overfit without regularization)\n",
    "- learn higher order features, but don't overtrain on specifics."
   ]
  },
  {
   "cell_type": "code",
   "execution_count": 14,
   "metadata": {
    "slideshow": {
     "slide_type": "fragment"
    }
   },
   "outputs": [],
   "source": [
    "deepermodel_images = Sequential()\n",
    "deepermodel_images.add(Flatten(input_shape=(28, 28))) # flattens each 28x28 image into a vector\n",
    "deepermodel_images.add(Dense(32, activation='relu', kernel_regularizer = reg)) # take in regularizer\n",
    "deepermodel_images.add(Dense(16, activation='relu', kernel_regularizer = reg)) # add another layer\n",
    "deepermodel_images.add(Dense(16, activation='relu', kernel_regularizer = reg)) # add another layer\n",
    "deepermodel_images.add(Dense(10, activation='relu', kernel_regularizer = reg))\n",
    "deepermodel_images.add(Dense(10, activation='softmax')) # number of units = number of target classes\n",
    "\n",
    "deepermodel_images.compile(optimizer='Adam', loss='categorical_crossentropy', metrics=['accuracy'] )"
   ]
  },
  {
   "cell_type": "code",
   "execution_count": 15,
   "metadata": {
    "slideshow": {
     "slide_type": "slide"
    }
   },
   "outputs": [
    {
     "name": "stdout",
     "output_type": "stream",
     "text": [
      "Epoch 1/200\n",
      "1500/1500 [==============================] - 2s 1ms/step - loss: 0.7959 - accuracy: 0.8341 - val_loss: 0.5136 - val_accuracy: 0.9178\n",
      "Epoch 2/200\n",
      "1500/1500 [==============================] - 1s 967us/step - loss: 0.4946 - accuracy: 0.9224 - val_loss: 0.4525 - val_accuracy: 0.9362\n",
      "Epoch 3/200\n",
      "1500/1500 [==============================] - 1s 912us/step - loss: 0.4445 - accuracy: 0.9336 - val_loss: 0.4262 - val_accuracy: 0.9376\n",
      "Epoch 4/200\n",
      "1500/1500 [==============================] - 1s 968us/step - loss: 0.4132 - accuracy: 0.9393 - val_loss: 0.3997 - val_accuracy: 0.9435\n",
      "Epoch 5/200\n",
      "1500/1500 [==============================] - 1s 911us/step - loss: 0.3938 - accuracy: 0.9433 - val_loss: 0.3857 - val_accuracy: 0.9451\n",
      "Epoch 6/200\n",
      "1500/1500 [==============================] - 1s 923us/step - loss: 0.3771 - accuracy: 0.9461 - val_loss: 0.4099 - val_accuracy: 0.9320\n",
      "Epoch 7/200\n",
      "1500/1500 [==============================] - 1s 921us/step - loss: 0.3640 - accuracy: 0.9489 - val_loss: 0.3461 - val_accuracy: 0.9544\n",
      "Epoch 8/200\n",
      "1500/1500 [==============================] - 1s 908us/step - loss: 0.3507 - accuracy: 0.9513 - val_loss: 0.3599 - val_accuracy: 0.9499\n",
      "Epoch 9/200\n",
      "1500/1500 [==============================] - 1s 905us/step - loss: 0.3427 - accuracy: 0.9518 - val_loss: 0.3409 - val_accuracy: 0.9546\n",
      "Epoch 10/200\n",
      "1500/1500 [==============================] - 1s 869us/step - loss: 0.3352 - accuracy: 0.9531 - val_loss: 0.3377 - val_accuracy: 0.9503\n",
      "Epoch 11/200\n",
      "1500/1500 [==============================] - 1s 902us/step - loss: 0.3317 - accuracy: 0.9539 - val_loss: 0.3382 - val_accuracy: 0.9530\n",
      "Epoch 12/200\n",
      "1500/1500 [==============================] - 1s 917us/step - loss: 0.3240 - accuracy: 0.9546 - val_loss: 0.3278 - val_accuracy: 0.9529\n",
      "Epoch 13/200\n",
      "1500/1500 [==============================] - 1s 868us/step - loss: 0.3168 - accuracy: 0.9557 - val_loss: 0.3231 - val_accuracy: 0.9538\n",
      "Epoch 14/200\n",
      "1500/1500 [==============================] - 1s 923us/step - loss: 0.3146 - accuracy: 0.9559 - val_loss: 0.3238 - val_accuracy: 0.9528\n",
      "Epoch 15/200\n",
      "1500/1500 [==============================] - 1s 919us/step - loss: 0.3087 - accuracy: 0.9573 - val_loss: 0.3034 - val_accuracy: 0.9573\n",
      "Epoch 16/200\n",
      "1500/1500 [==============================] - 1s 900us/step - loss: 0.3064 - accuracy: 0.9565 - val_loss: 0.2999 - val_accuracy: 0.9595\n",
      "Epoch 17/200\n",
      "1500/1500 [==============================] - 1s 928us/step - loss: 0.3055 - accuracy: 0.9569 - val_loss: 0.3062 - val_accuracy: 0.9579\n",
      "Epoch 18/200\n",
      "1500/1500 [==============================] - 1s 916us/step - loss: 0.3006 - accuracy: 0.9581 - val_loss: 0.3004 - val_accuracy: 0.9578\n",
      "Epoch 19/200\n",
      "1500/1500 [==============================] - 1s 866us/step - loss: 0.2998 - accuracy: 0.9569 - val_loss: 0.3025 - val_accuracy: 0.9557\n",
      "Epoch 20/200\n",
      "1500/1500 [==============================] - 1s 915us/step - loss: 0.2939 - accuracy: 0.9583 - val_loss: 0.3198 - val_accuracy: 0.9476\n",
      "Epoch 21/200\n",
      "1500/1500 [==============================] - 1s 871us/step - loss: 0.2923 - accuracy: 0.9586 - val_loss: 0.3131 - val_accuracy: 0.9501\n",
      "Epoch 22/200\n",
      "1500/1500 [==============================] - 1s 902us/step - loss: 0.2891 - accuracy: 0.9584 - val_loss: 0.2906 - val_accuracy: 0.9579\n",
      "Epoch 23/200\n",
      "1500/1500 [==============================] - 1s 917us/step - loss: 0.2860 - accuracy: 0.9600 - val_loss: 0.2994 - val_accuracy: 0.9558\n",
      "Epoch 24/200\n",
      "1500/1500 [==============================] - 1s 888us/step - loss: 0.2860 - accuracy: 0.9587 - val_loss: 0.2811 - val_accuracy: 0.9602\n",
      "Epoch 25/200\n",
      "1500/1500 [==============================] - 1s 908us/step - loss: 0.2833 - accuracy: 0.9597 - val_loss: 0.2968 - val_accuracy: 0.9541\n",
      "Epoch 26/200\n",
      "1500/1500 [==============================] - 1s 888us/step - loss: 0.2808 - accuracy: 0.9595 - val_loss: 0.3194 - val_accuracy: 0.9450\n",
      "Epoch 27/200\n",
      "1500/1500 [==============================] - 1s 967us/step - loss: 0.2790 - accuracy: 0.9598 - val_loss: 0.2841 - val_accuracy: 0.9589\n",
      "Epoch 28/200\n",
      "1500/1500 [==============================] - 1s 990us/step - loss: 0.2747 - accuracy: 0.9603 - val_loss: 0.2866 - val_accuracy: 0.9573\n",
      "Epoch 29/200\n",
      "1500/1500 [==============================] - 1s 888us/step - loss: 0.2721 - accuracy: 0.9604 - val_loss: 0.2835 - val_accuracy: 0.9567\n",
      "Epoch 30/200\n",
      "1500/1500 [==============================] - 1s 914us/step - loss: 0.2751 - accuracy: 0.9604 - val_loss: 0.2761 - val_accuracy: 0.9572\n",
      "Epoch 31/200\n",
      "1500/1500 [==============================] - 1s 908us/step - loss: 0.2701 - accuracy: 0.9599 - val_loss: 0.2883 - val_accuracy: 0.9553\n",
      "Epoch 32/200\n",
      "1500/1500 [==============================] - 2s 1ms/step - loss: 0.2710 - accuracy: 0.9600 - val_loss: 0.2822 - val_accuracy: 0.9580\n",
      "Epoch 33/200\n",
      "1500/1500 [==============================] - 1s 970us/step - loss: 0.2679 - accuracy: 0.9622 - val_loss: 0.2944 - val_accuracy: 0.9513\n",
      "Epoch 34/200\n",
      "1500/1500 [==============================] - 1s 913us/step - loss: 0.2660 - accuracy: 0.9613 - val_loss: 0.2835 - val_accuracy: 0.9560\n",
      "Epoch 35/200\n",
      "1500/1500 [==============================] - 1s 886us/step - loss: 0.2665 - accuracy: 0.9614 - val_loss: 0.2684 - val_accuracy: 0.9609\n",
      "Epoch 36/200\n",
      "1500/1500 [==============================] - 1s 908us/step - loss: 0.2650 - accuracy: 0.9610 - val_loss: 0.2643 - val_accuracy: 0.9617\n",
      "Epoch 37/200\n",
      "1500/1500 [==============================] - 1s 872us/step - loss: 0.2629 - accuracy: 0.9614 - val_loss: 0.2882 - val_accuracy: 0.9543\n",
      "Epoch 38/200\n",
      "1500/1500 [==============================] - 1s 794us/step - loss: 0.2627 - accuracy: 0.9618 - val_loss: 0.2743 - val_accuracy: 0.9582\n",
      "Epoch 39/200\n",
      "1500/1500 [==============================] - 1s 794us/step - loss: 0.2627 - accuracy: 0.9605 - val_loss: 0.2620 - val_accuracy: 0.9622\n",
      "Epoch 40/200\n",
      "1500/1500 [==============================] - 1s 830us/step - loss: 0.2605 - accuracy: 0.9613 - val_loss: 0.2653 - val_accuracy: 0.9600\n",
      "Epoch 41/200\n",
      "1500/1500 [==============================] - 1s 858us/step - loss: 0.2590 - accuracy: 0.9619 - val_loss: 0.2687 - val_accuracy: 0.9586\n",
      "Epoch 42/200\n",
      "1500/1500 [==============================] - 1s 800us/step - loss: 0.2590 - accuracy: 0.9617 - val_loss: 0.2796 - val_accuracy: 0.9567\n",
      "Epoch 43/200\n",
      "1500/1500 [==============================] - 1s 780us/step - loss: 0.2578 - accuracy: 0.9623 - val_loss: 0.2625 - val_accuracy: 0.9621\n",
      "Epoch 44/200\n",
      "1500/1500 [==============================] - 1s 806us/step - loss: 0.2562 - accuracy: 0.9626 - val_loss: 0.2591 - val_accuracy: 0.9602\n",
      "Epoch 45/200\n",
      "1500/1500 [==============================] - 1s 852us/step - loss: 0.2526 - accuracy: 0.9636 - val_loss: 0.2970 - val_accuracy: 0.9517\n",
      "Epoch 46/200\n",
      "1500/1500 [==============================] - 1s 797us/step - loss: 0.2558 - accuracy: 0.9617 - val_loss: 0.2659 - val_accuracy: 0.9595\n",
      "Epoch 47/200\n",
      "1500/1500 [==============================] - 1s 800us/step - loss: 0.2540 - accuracy: 0.9617 - val_loss: 0.2729 - val_accuracy: 0.9570\n",
      "Epoch 48/200\n",
      "1500/1500 [==============================] - 1s 786us/step - loss: 0.2535 - accuracy: 0.9617 - val_loss: 0.2748 - val_accuracy: 0.9572\n",
      "Epoch 49/200\n",
      "1500/1500 [==============================] - 1s 850us/step - loss: 0.2512 - accuracy: 0.9628 - val_loss: 0.2479 - val_accuracy: 0.9647\n",
      "Epoch 50/200\n",
      "1500/1500 [==============================] - 1s 784us/step - loss: 0.2537 - accuracy: 0.9622 - val_loss: 0.2637 - val_accuracy: 0.9574\n",
      "Epoch 51/200\n",
      "1500/1500 [==============================] - 1s 780us/step - loss: 0.2507 - accuracy: 0.9630 - val_loss: 0.2547 - val_accuracy: 0.9623\n",
      "Epoch 52/200\n",
      "1500/1500 [==============================] - 1s 794us/step - loss: 0.2502 - accuracy: 0.9621 - val_loss: 0.2997 - val_accuracy: 0.9460\n",
      "Epoch 53/200\n",
      "1500/1500 [==============================] - 1s 833us/step - loss: 0.2501 - accuracy: 0.9625 - val_loss: 0.2724 - val_accuracy: 0.9578\n",
      "Epoch 54/200\n",
      "1500/1500 [==============================] - 1s 805us/step - loss: 0.2509 - accuracy: 0.9621 - val_loss: 0.2636 - val_accuracy: 0.9592\n",
      "Epoch 55/200\n",
      "1500/1500 [==============================] - 1s 781us/step - loss: 0.2462 - accuracy: 0.9626 - val_loss: 0.2520 - val_accuracy: 0.9607\n",
      "Epoch 56/200\n",
      "1500/1500 [==============================] - 1s 774us/step - loss: 0.2482 - accuracy: 0.9629 - val_loss: 0.2509 - val_accuracy: 0.9628\n",
      "Epoch 57/200\n",
      "1500/1500 [==============================] - 1s 836us/step - loss: 0.2484 - accuracy: 0.9629 - val_loss: 0.2654 - val_accuracy: 0.9569\n",
      "Epoch 58/200\n",
      "1500/1500 [==============================] - 1s 794us/step - loss: 0.2476 - accuracy: 0.9622 - val_loss: 0.2667 - val_accuracy: 0.9549\n",
      "Epoch 59/200\n",
      "1500/1500 [==============================] - 1s 786us/step - loss: 0.2477 - accuracy: 0.9617 - val_loss: 0.2660 - val_accuracy: 0.9572\n",
      "Epoch 60/200\n",
      "1500/1500 [==============================] - 1s 780us/step - loss: 0.2461 - accuracy: 0.9622 - val_loss: 0.2487 - val_accuracy: 0.9638\n",
      "Epoch 61/200\n",
      "1500/1500 [==============================] - 1s 836us/step - loss: 0.2450 - accuracy: 0.9632 - val_loss: 0.2680 - val_accuracy: 0.9562\n",
      "Epoch 62/200\n",
      "1500/1500 [==============================] - 1s 814us/step - loss: 0.2438 - accuracy: 0.9634 - val_loss: 0.2964 - val_accuracy: 0.9490\n",
      "Epoch 63/200\n",
      "1500/1500 [==============================] - 1s 780us/step - loss: 0.2452 - accuracy: 0.9624 - val_loss: 0.2664 - val_accuracy: 0.9581\n",
      "Epoch 64/200\n",
      "1500/1500 [==============================] - 1s 769us/step - loss: 0.2443 - accuracy: 0.9628 - val_loss: 0.2507 - val_accuracy: 0.9612\n",
      "Epoch 65/200\n",
      "1500/1500 [==============================] - 1s 826us/step - loss: 0.2413 - accuracy: 0.9639 - val_loss: 0.2436 - val_accuracy: 0.9631\n",
      "Epoch 66/200\n",
      "1500/1500 [==============================] - 1s 820us/step - loss: 0.2436 - accuracy: 0.9632 - val_loss: 0.2756 - val_accuracy: 0.9542\n",
      "Epoch 67/200\n",
      "1500/1500 [==============================] - 1s 792us/step - loss: 0.2428 - accuracy: 0.9631 - val_loss: 0.2448 - val_accuracy: 0.9638\n",
      "Epoch 68/200\n",
      "1500/1500 [==============================] - 1s 774us/step - loss: 0.2409 - accuracy: 0.9639 - val_loss: 0.2501 - val_accuracy: 0.9622\n",
      "Epoch 69/200\n",
      "1500/1500 [==============================] - 1s 808us/step - loss: 0.2398 - accuracy: 0.9639 - val_loss: 0.2446 - val_accuracy: 0.9638\n",
      "Epoch 70/200\n",
      "1500/1500 [==============================] - 1s 847us/step - loss: 0.2408 - accuracy: 0.9632 - val_loss: 0.2527 - val_accuracy: 0.9612\n",
      "Epoch 71/200\n",
      "1500/1500 [==============================] - 1s 786us/step - loss: 0.2389 - accuracy: 0.9644 - val_loss: 0.2438 - val_accuracy: 0.9628\n",
      "Epoch 72/200\n",
      "1500/1500 [==============================] - 1s 772us/step - loss: 0.2429 - accuracy: 0.9628 - val_loss: 0.2567 - val_accuracy: 0.9606\n",
      "Epoch 73/200\n",
      "1500/1500 [==============================] - 1s 796us/step - loss: 0.2377 - accuracy: 0.9645 - val_loss: 0.2488 - val_accuracy: 0.9609\n",
      "Epoch 74/200\n",
      "1500/1500 [==============================] - 1s 845us/step - loss: 0.2418 - accuracy: 0.9630 - val_loss: 0.2550 - val_accuracy: 0.9592\n",
      "Epoch 75/200\n",
      "1500/1500 [==============================] - 1s 786us/step - loss: 0.2382 - accuracy: 0.9636 - val_loss: 0.2680 - val_accuracy: 0.9533\n",
      "Epoch 76/200\n",
      "1500/1500 [==============================] - 1s 792us/step - loss: 0.2378 - accuracy: 0.9641 - val_loss: 0.2452 - val_accuracy: 0.9616\n",
      "Epoch 77/200\n",
      "1500/1500 [==============================] - 1s 781us/step - loss: 0.2379 - accuracy: 0.9646 - val_loss: 0.2401 - val_accuracy: 0.9638\n",
      "Epoch 78/200\n",
      "1500/1500 [==============================] - 1s 844us/step - loss: 0.2368 - accuracy: 0.9643 - val_loss: 0.2555 - val_accuracy: 0.9578\n",
      "Epoch 79/200\n",
      "1500/1500 [==============================] - 1s 804us/step - loss: 0.2357 - accuracy: 0.9647 - val_loss: 0.2494 - val_accuracy: 0.9625\n",
      "Epoch 80/200\n",
      "1500/1500 [==============================] - 1s 789us/step - loss: 0.2373 - accuracy: 0.9642 - val_loss: 0.2317 - val_accuracy: 0.9675\n",
      "Epoch 81/200\n",
      "1500/1500 [==============================] - 1s 786us/step - loss: 0.2349 - accuracy: 0.9647 - val_loss: 0.2417 - val_accuracy: 0.9625\n",
      "Epoch 82/200\n",
      "1500/1500 [==============================] - 1s 847us/step - loss: 0.2352 - accuracy: 0.9644 - val_loss: 0.2389 - val_accuracy: 0.9616\n",
      "Epoch 83/200\n",
      "1500/1500 [==============================] - 1s 802us/step - loss: 0.2354 - accuracy: 0.9646 - val_loss: 0.2427 - val_accuracy: 0.9611\n",
      "Epoch 84/200\n",
      "1500/1500 [==============================] - 1s 786us/step - loss: 0.2345 - accuracy: 0.9650 - val_loss: 0.2478 - val_accuracy: 0.9596\n",
      "Epoch 85/200\n",
      "1500/1500 [==============================] - 1s 780us/step - loss: 0.2344 - accuracy: 0.9652 - val_loss: 0.2406 - val_accuracy: 0.9616\n",
      "Epoch 86/200\n",
      "1500/1500 [==============================] - 1s 833us/step - loss: 0.2327 - accuracy: 0.9652 - val_loss: 0.2391 - val_accuracy: 0.9634\n",
      "Epoch 87/200\n",
      "1500/1500 [==============================] - 1s 827us/step - loss: 0.2340 - accuracy: 0.9655 - val_loss: 0.2424 - val_accuracy: 0.9614\n",
      "Epoch 88/200\n",
      "1500/1500 [==============================] - 1s 774us/step - loss: 0.2339 - accuracy: 0.9646 - val_loss: 0.2410 - val_accuracy: 0.9626\n",
      "Epoch 89/200\n",
      "1500/1500 [==============================] - 1s 780us/step - loss: 0.2344 - accuracy: 0.9647 - val_loss: 0.2375 - val_accuracy: 0.9635\n",
      "Epoch 90/200\n",
      "1500/1500 [==============================] - 1s 825us/step - loss: 0.2326 - accuracy: 0.9650 - val_loss: 0.2405 - val_accuracy: 0.9643\n",
      "Epoch 91/200\n",
      "1500/1500 [==============================] - 1s 809us/step - loss: 0.2320 - accuracy: 0.9658 - val_loss: 0.2545 - val_accuracy: 0.9567\n",
      "Epoch 92/200\n",
      "1500/1500 [==============================] - 1s 794us/step - loss: 0.2334 - accuracy: 0.9650 - val_loss: 0.2329 - val_accuracy: 0.9668\n",
      "Epoch 93/200\n",
      "1500/1500 [==============================] - 1s 766us/step - loss: 0.2290 - accuracy: 0.9666 - val_loss: 0.2525 - val_accuracy: 0.9574\n",
      "Epoch 94/200\n",
      "1500/1500 [==============================] - 1s 803us/step - loss: 0.2325 - accuracy: 0.9646 - val_loss: 0.2732 - val_accuracy: 0.9532\n",
      "Epoch 95/200\n",
      "1500/1500 [==============================] - 1s 830us/step - loss: 0.2305 - accuracy: 0.9665 - val_loss: 0.2327 - val_accuracy: 0.9678\n",
      "Epoch 96/200\n",
      "1500/1500 [==============================] - 1s 784us/step - loss: 0.2283 - accuracy: 0.9648 - val_loss: 0.2431 - val_accuracy: 0.9621\n",
      "Epoch 97/200\n",
      "1500/1500 [==============================] - 1s 778us/step - loss: 0.2304 - accuracy: 0.9649 - val_loss: 0.2410 - val_accuracy: 0.9627\n",
      "Epoch 98/200\n",
      "1500/1500 [==============================] - 1s 786us/step - loss: 0.2319 - accuracy: 0.9653 - val_loss: 0.2286 - val_accuracy: 0.9664\n",
      "Epoch 99/200\n",
      "1500/1500 [==============================] - 1s 852us/step - loss: 0.2302 - accuracy: 0.9647 - val_loss: 0.2566 - val_accuracy: 0.9584\n",
      "Epoch 100/200\n",
      "1500/1500 [==============================] - 1s 785us/step - loss: 0.2306 - accuracy: 0.9639 - val_loss: 0.2591 - val_accuracy: 0.9568\n",
      "Epoch 101/200\n",
      "1500/1500 [==============================] - 1s 775us/step - loss: 0.2300 - accuracy: 0.9650 - val_loss: 0.2422 - val_accuracy: 0.9606\n",
      "Epoch 102/200\n",
      "1500/1500 [==============================] - 1s 792us/step - loss: 0.2276 - accuracy: 0.9663 - val_loss: 0.2533 - val_accuracy: 0.9589\n",
      "Epoch 103/200\n",
      "1500/1500 [==============================] - 1s 835us/step - loss: 0.2290 - accuracy: 0.9647 - val_loss: 0.2430 - val_accuracy: 0.9632\n",
      "Epoch 104/200\n",
      "1500/1500 [==============================] - 1s 794us/step - loss: 0.2301 - accuracy: 0.9646 - val_loss: 0.2641 - val_accuracy: 0.9554\n",
      "Epoch 105/200\n",
      "1500/1500 [==============================] - 1s 781us/step - loss: 0.2266 - accuracy: 0.9655 - val_loss: 0.2546 - val_accuracy: 0.9566\n",
      "Epoch 106/200\n",
      "1500/1500 [==============================] - 1s 788us/step - loss: 0.2281 - accuracy: 0.9652 - val_loss: 0.2352 - val_accuracy: 0.9618\n",
      "Epoch 107/200\n",
      "1500/1500 [==============================] - 1s 839us/step - loss: 0.2275 - accuracy: 0.9649 - val_loss: 0.2369 - val_accuracy: 0.9626\n",
      "Epoch 108/200\n",
      "1500/1500 [==============================] - 1s 800us/step - loss: 0.2276 - accuracy: 0.9653 - val_loss: 0.2430 - val_accuracy: 0.9631\n",
      "Epoch 109/200\n",
      "1500/1500 [==============================] - 1s 775us/step - loss: 0.2261 - accuracy: 0.9659 - val_loss: 0.2354 - val_accuracy: 0.9658\n",
      "Epoch 110/200\n",
      "1500/1500 [==============================] - 1s 775us/step - loss: 0.2261 - accuracy: 0.9658 - val_loss: 0.2445 - val_accuracy: 0.9629\n",
      "Epoch 111/200\n",
      "1500/1500 [==============================] - 1s 822us/step - loss: 0.2254 - accuracy: 0.9662 - val_loss: 0.2420 - val_accuracy: 0.9615\n",
      "Epoch 112/200\n",
      "1500/1500 [==============================] - 1s 819us/step - loss: 0.2269 - accuracy: 0.9660 - val_loss: 0.2512 - val_accuracy: 0.9591\n",
      "Epoch 113/200\n",
      "1500/1500 [==============================] - 1s 782us/step - loss: 0.2262 - accuracy: 0.9662 - val_loss: 0.2358 - val_accuracy: 0.9615\n",
      "Epoch 114/200\n",
      "1500/1500 [==============================] - 1s 772us/step - loss: 0.2250 - accuracy: 0.9664 - val_loss: 0.2290 - val_accuracy: 0.9657\n",
      "Epoch 115/200\n",
      "1500/1500 [==============================] - 1s 827us/step - loss: 0.2249 - accuracy: 0.9654 - val_loss: 0.2286 - val_accuracy: 0.9668\n",
      "Epoch 116/200\n",
      "1500/1500 [==============================] - 1s 806us/step - loss: 0.2243 - accuracy: 0.9658 - val_loss: 0.2465 - val_accuracy: 0.9628\n",
      "Epoch 117/200\n",
      "1500/1500 [==============================] - 1s 780us/step - loss: 0.2260 - accuracy: 0.9653 - val_loss: 0.2282 - val_accuracy: 0.9648\n",
      "Epoch 118/200\n",
      "1500/1500 [==============================] - 1s 767us/step - loss: 0.2240 - accuracy: 0.9662 - val_loss: 0.2195 - val_accuracy: 0.9691\n",
      "Epoch 119/200\n",
      "1500/1500 [==============================] - 1s 813us/step - loss: 0.2247 - accuracy: 0.9666 - val_loss: 0.2630 - val_accuracy: 0.9542\n",
      "Epoch 120/200\n",
      "1500/1500 [==============================] - 1s 856us/step - loss: 0.2247 - accuracy: 0.9667 - val_loss: 0.2312 - val_accuracy: 0.9640\n",
      "Epoch 121/200\n",
      "1500/1500 [==============================] - 1s 780us/step - loss: 0.2249 - accuracy: 0.9656 - val_loss: 0.2277 - val_accuracy: 0.9647\n",
      "Epoch 122/200\n",
      "1500/1500 [==============================] - 1s 786us/step - loss: 0.2273 - accuracy: 0.9658 - val_loss: 0.2405 - val_accuracy: 0.9623\n",
      "Epoch 123/200\n",
      "1500/1500 [==============================] - 1s 788us/step - loss: 0.2251 - accuracy: 0.9657 - val_loss: 0.2342 - val_accuracy: 0.9636\n",
      "Epoch 124/200\n",
      "1500/1500 [==============================] - 1s 853us/step - loss: 0.2245 - accuracy: 0.9649 - val_loss: 0.2411 - val_accuracy: 0.9622\n",
      "Epoch 125/200\n",
      "1500/1500 [==============================] - 1s 794us/step - loss: 0.2256 - accuracy: 0.9658 - val_loss: 0.2351 - val_accuracy: 0.9655\n",
      "Epoch 126/200\n",
      "1500/1500 [==============================] - 1s 791us/step - loss: 0.2222 - accuracy: 0.9663 - val_loss: 0.2296 - val_accuracy: 0.9647\n",
      "Epoch 127/200\n",
      "1500/1500 [==============================] - 1s 797us/step - loss: 0.2218 - accuracy: 0.9671 - val_loss: 0.2388 - val_accuracy: 0.9590\n",
      "Epoch 128/200\n",
      "1500/1500 [==============================] - 1s 844us/step - loss: 0.2225 - accuracy: 0.9660 - val_loss: 0.2314 - val_accuracy: 0.9646\n",
      "Epoch 129/200\n",
      "1500/1500 [==============================] - 1s 791us/step - loss: 0.2244 - accuracy: 0.9658 - val_loss: 0.2257 - val_accuracy: 0.9662\n",
      "Epoch 130/200\n",
      "1500/1500 [==============================] - 1s 788us/step - loss: 0.2230 - accuracy: 0.9657 - val_loss: 0.2455 - val_accuracy: 0.9608\n",
      "Epoch 131/200\n",
      "1500/1500 [==============================] - 1s 788us/step - loss: 0.2246 - accuracy: 0.9654 - val_loss: 0.2318 - val_accuracy: 0.9655\n",
      "Epoch 132/200\n",
      "1500/1500 [==============================] - 1s 855us/step - loss: 0.2220 - accuracy: 0.9669 - val_loss: 0.2294 - val_accuracy: 0.9666\n",
      "Epoch 133/200\n",
      "1500/1500 [==============================] - 1s 816us/step - loss: 0.2217 - accuracy: 0.9665 - val_loss: 0.2340 - val_accuracy: 0.9635\n",
      "Epoch 134/200\n",
      "1500/1500 [==============================] - 1s 805us/step - loss: 0.2249 - accuracy: 0.9659 - val_loss: 0.2315 - val_accuracy: 0.9647\n",
      "Epoch 135/200\n",
      "1500/1500 [==============================] - 1s 794us/step - loss: 0.2226 - accuracy: 0.9658 - val_loss: 0.2320 - val_accuracy: 0.9637\n",
      "Epoch 136/200\n",
      "1500/1500 [==============================] - 1s 836us/step - loss: 0.2239 - accuracy: 0.9661 - val_loss: 0.2280 - val_accuracy: 0.9652\n",
      "Epoch 137/200\n",
      "1500/1500 [==============================] - 1s 824us/step - loss: 0.2225 - accuracy: 0.9668 - val_loss: 0.2395 - val_accuracy: 0.9618\n",
      "Epoch 138/200\n",
      "1500/1500 [==============================] - 1s 786us/step - loss: 0.2222 - accuracy: 0.9655 - val_loss: 0.2314 - val_accuracy: 0.9650\n",
      "Epoch 139/200\n",
      "1500/1500 [==============================] - 1s 796us/step - loss: 0.2217 - accuracy: 0.9657 - val_loss: 0.2433 - val_accuracy: 0.9622\n",
      "Epoch 140/200\n",
      "1500/1500 [==============================] - 1s 853us/step - loss: 0.2218 - accuracy: 0.9659 - val_loss: 0.2404 - val_accuracy: 0.9611\n",
      "Epoch 141/200\n",
      "1500/1500 [==============================] - 1s 811us/step - loss: 0.2226 - accuracy: 0.9672 - val_loss: 0.2361 - val_accuracy: 0.9637\n",
      "Epoch 142/200\n",
      "1500/1500 [==============================] - 1s 786us/step - loss: 0.2204 - accuracy: 0.9663 - val_loss: 0.2425 - val_accuracy: 0.9620\n",
      "Epoch 143/200\n",
      "1500/1500 [==============================] - 1s 786us/step - loss: 0.2213 - accuracy: 0.9658 - val_loss: 0.2282 - val_accuracy: 0.9665\n",
      "Epoch 144/200\n",
      "1500/1500 [==============================] - 1s 841us/step - loss: 0.2216 - accuracy: 0.9664 - val_loss: 0.2339 - val_accuracy: 0.9626\n",
      "Epoch 145/200\n",
      "1500/1500 [==============================] - 1s 830us/step - loss: 0.2219 - accuracy: 0.9660 - val_loss: 0.2324 - val_accuracy: 0.9641\n",
      "Epoch 146/200\n",
      "1500/1500 [==============================] - 1s 786us/step - loss: 0.2220 - accuracy: 0.9663 - val_loss: 0.2355 - val_accuracy: 0.9636\n",
      "Epoch 147/200\n",
      "1500/1500 [==============================] - 1s 790us/step - loss: 0.2220 - accuracy: 0.9664 - val_loss: 0.2261 - val_accuracy: 0.9668\n",
      "Epoch 148/200\n",
      "1500/1500 [==============================] - 1s 841us/step - loss: 0.2214 - accuracy: 0.9664 - val_loss: 0.2343 - val_accuracy: 0.9629\n",
      "Epoch 149/200\n",
      "1500/1500 [==============================] - 1s 830us/step - loss: 0.2199 - accuracy: 0.9661 - val_loss: 0.2576 - val_accuracy: 0.9560\n",
      "Epoch 150/200\n",
      "1500/1500 [==============================] - 1s 800us/step - loss: 0.2244 - accuracy: 0.9649 - val_loss: 0.2593 - val_accuracy: 0.9543\n",
      "Epoch 151/200\n",
      "1500/1500 [==============================] - 1s 788us/step - loss: 0.2217 - accuracy: 0.9661 - val_loss: 0.2455 - val_accuracy: 0.9581\n",
      "Epoch 152/200\n",
      "1500/1500 [==============================] - 1s 810us/step - loss: 0.2209 - accuracy: 0.9650 - val_loss: 0.2342 - val_accuracy: 0.9626\n",
      "Epoch 153/200\n",
      "1500/1500 [==============================] - 1s 844us/step - loss: 0.2232 - accuracy: 0.9651 - val_loss: 0.2417 - val_accuracy: 0.9613\n",
      "Epoch 154/200\n",
      "1500/1500 [==============================] - 1s 805us/step - loss: 0.2183 - accuracy: 0.9664 - val_loss: 0.2611 - val_accuracy: 0.9543\n",
      "Epoch 155/200\n",
      "1500/1500 [==============================] - 1s 789us/step - loss: 0.2193 - accuracy: 0.9656 - val_loss: 0.2298 - val_accuracy: 0.9641\n",
      "Epoch 156/200\n",
      "1500/1500 [==============================] - 1s 814us/step - loss: 0.2216 - accuracy: 0.9660 - val_loss: 0.2518 - val_accuracy: 0.9584\n",
      "Epoch 157/200\n",
      "1500/1500 [==============================] - 1s 850us/step - loss: 0.2206 - accuracy: 0.9661 - val_loss: 0.2221 - val_accuracy: 0.9656\n",
      "Epoch 158/200\n",
      "1500/1500 [==============================] - 1s 844us/step - loss: 0.2199 - accuracy: 0.9669 - val_loss: 0.2393 - val_accuracy: 0.9613\n",
      "Epoch 159/200\n",
      "1500/1500 [==============================] - 1s 772us/step - loss: 0.2214 - accuracy: 0.9654 - val_loss: 0.2285 - val_accuracy: 0.9624\n",
      "Epoch 160/200\n",
      "1500/1500 [==============================] - 1s 803us/step - loss: 0.2202 - accuracy: 0.9665 - val_loss: 0.2675 - val_accuracy: 0.9517\n",
      "Epoch 161/200\n",
      "1500/1500 [==============================] - 1s 838us/step - loss: 0.2190 - accuracy: 0.9657 - val_loss: 0.2356 - val_accuracy: 0.9627\n",
      "Epoch 162/200\n",
      "1500/1500 [==============================] - 1s 800us/step - loss: 0.2218 - accuracy: 0.9663 - val_loss: 0.2267 - val_accuracy: 0.9664\n",
      "Epoch 163/200\n",
      "1500/1500 [==============================] - 1s 786us/step - loss: 0.2229 - accuracy: 0.9653 - val_loss: 0.2467 - val_accuracy: 0.9611\n",
      "Epoch 164/200\n",
      "1500/1500 [==============================] - 1s 777us/step - loss: 0.2223 - accuracy: 0.9649 - val_loss: 0.2449 - val_accuracy: 0.9584\n",
      "Epoch 165/200\n",
      "1500/1500 [==============================] - 1s 868us/step - loss: 0.2205 - accuracy: 0.9665 - val_loss: 0.2397 - val_accuracy: 0.9626\n",
      "Epoch 166/200\n",
      "1500/1500 [==============================] - 1s 791us/step - loss: 0.2193 - accuracy: 0.9656 - val_loss: 0.2201 - val_accuracy: 0.9677\n",
      "Epoch 167/200\n",
      "1500/1500 [==============================] - 1s 783us/step - loss: 0.2202 - accuracy: 0.9659 - val_loss: 0.2324 - val_accuracy: 0.9625\n",
      "Epoch 168/200\n",
      "1500/1500 [==============================] - 1s 800us/step - loss: 0.2173 - accuracy: 0.9661 - val_loss: 0.2354 - val_accuracy: 0.9603\n",
      "Epoch 169/200\n",
      "1500/1500 [==============================] - 1s 875us/step - loss: 0.2203 - accuracy: 0.9650 - val_loss: 0.2335 - val_accuracy: 0.9617\n",
      "Epoch 170/200\n",
      "1500/1500 [==============================] - 1s 791us/step - loss: 0.2175 - accuracy: 0.9657 - val_loss: 0.2541 - val_accuracy: 0.9590\n",
      "Epoch 171/200\n",
      "1500/1500 [==============================] - 1s 786us/step - loss: 0.2190 - accuracy: 0.9665 - val_loss: 0.2279 - val_accuracy: 0.9646\n",
      "Epoch 172/200\n",
      "1500/1500 [==============================] - 1s 788us/step - loss: 0.2190 - accuracy: 0.9658 - val_loss: 0.2569 - val_accuracy: 0.9557\n",
      "Epoch 173/200\n",
      "1500/1500 [==============================] - 1s 861us/step - loss: 0.2191 - accuracy: 0.9662 - val_loss: 0.2417 - val_accuracy: 0.9594\n",
      "Epoch 174/200\n",
      "1500/1500 [==============================] - 1s 791us/step - loss: 0.2207 - accuracy: 0.9657 - val_loss: 0.2264 - val_accuracy: 0.9665\n",
      "Epoch 175/200\n",
      "1500/1500 [==============================] - 1s 811us/step - loss: 0.2151 - accuracy: 0.9680 - val_loss: 0.2263 - val_accuracy: 0.9644\n",
      "Epoch 176/200\n",
      "1500/1500 [==============================] - 1s 791us/step - loss: 0.2187 - accuracy: 0.9661 - val_loss: 0.2333 - val_accuracy: 0.9637\n",
      "Epoch 177/200\n",
      "1500/1500 [==============================] - 1s 833us/step - loss: 0.2186 - accuracy: 0.9664 - val_loss: 0.2537 - val_accuracy: 0.9553\n",
      "Epoch 178/200\n",
      "1500/1500 [==============================] - 1s 819us/step - loss: 0.2165 - accuracy: 0.9666 - val_loss: 0.2325 - val_accuracy: 0.9626\n",
      "Epoch 179/200\n",
      "1500/1500 [==============================] - 1s 783us/step - loss: 0.2166 - accuracy: 0.9666 - val_loss: 0.2421 - val_accuracy: 0.9608\n",
      "Epoch 180/200\n",
      "1500/1500 [==============================] - 1s 794us/step - loss: 0.2174 - accuracy: 0.9662 - val_loss: 0.2467 - val_accuracy: 0.9588\n",
      "Epoch 181/200\n",
      "1500/1500 [==============================] - 1s 844us/step - loss: 0.2183 - accuracy: 0.9658 - val_loss: 0.2314 - val_accuracy: 0.9637\n",
      "Epoch 182/200\n",
      "1500/1500 [==============================] - 1s 799us/step - loss: 0.2193 - accuracy: 0.9662 - val_loss: 0.2361 - val_accuracy: 0.9622\n",
      "Epoch 183/200\n",
      "1500/1500 [==============================] - 1s 797us/step - loss: 0.2163 - accuracy: 0.9671 - val_loss: 0.2328 - val_accuracy: 0.9623\n",
      "Epoch 184/200\n",
      "1500/1500 [==============================] - 1s 780us/step - loss: 0.2167 - accuracy: 0.9671 - val_loss: 0.2280 - val_accuracy: 0.9630\n",
      "Epoch 185/200\n",
      "1500/1500 [==============================] - 1s 813us/step - loss: 0.2165 - accuracy: 0.9667 - val_loss: 0.2363 - val_accuracy: 0.9613\n",
      "Epoch 186/200\n",
      "1500/1500 [==============================] - 1s 841us/step - loss: 0.2162 - accuracy: 0.9668 - val_loss: 0.2369 - val_accuracy: 0.9604\n",
      "Epoch 187/200\n",
      "1500/1500 [==============================] - 1s 791us/step - loss: 0.2191 - accuracy: 0.9655 - val_loss: 0.2324 - val_accuracy: 0.9610\n",
      "Epoch 188/200\n",
      "1500/1500 [==============================] - 1s 788us/step - loss: 0.2186 - accuracy: 0.9665 - val_loss: 0.2304 - val_accuracy: 0.9620\n",
      "Epoch 189/200\n",
      "1500/1500 [==============================] - 1s 808us/step - loss: 0.2167 - accuracy: 0.9672 - val_loss: 0.2271 - val_accuracy: 0.9643\n",
      "Epoch 190/200\n",
      "1500/1500 [==============================] - 1s 833us/step - loss: 0.2161 - accuracy: 0.9667 - val_loss: 0.2402 - val_accuracy: 0.9603\n",
      "Epoch 191/200\n",
      "1500/1500 [==============================] - 1s 808us/step - loss: 0.2192 - accuracy: 0.9657 - val_loss: 0.2446 - val_accuracy: 0.9579\n",
      "Epoch 192/200\n",
      "1500/1500 [==============================] - 1s 777us/step - loss: 0.2192 - accuracy: 0.9658 - val_loss: 0.2283 - val_accuracy: 0.9656\n",
      "Epoch 193/200\n",
      "1500/1500 [==============================] - 1s 814us/step - loss: 0.2140 - accuracy: 0.9674 - val_loss: 0.2388 - val_accuracy: 0.9609\n",
      "Epoch 194/200\n",
      "1500/1500 [==============================] - 1s 855us/step - loss: 0.2191 - accuracy: 0.9662 - val_loss: 0.2325 - val_accuracy: 0.9647\n",
      "Epoch 195/200\n",
      "1500/1500 [==============================] - 1s 791us/step - loss: 0.2161 - accuracy: 0.9666 - val_loss: 0.2308 - val_accuracy: 0.9641\n",
      "Epoch 196/200\n",
      "1500/1500 [==============================] - 1s 785us/step - loss: 0.2179 - accuracy: 0.9654 - val_loss: 0.2467 - val_accuracy: 0.9604\n",
      "Epoch 197/200\n",
      "1500/1500 [==============================] - 1s 820us/step - loss: 0.2149 - accuracy: 0.9663 - val_loss: 0.2384 - val_accuracy: 0.9608\n",
      "Epoch 198/200\n",
      "1500/1500 [==============================] - 1s 853us/step - loss: 0.2175 - accuracy: 0.9658 - val_loss: 0.2408 - val_accuracy: 0.9609\n",
      "Epoch 199/200\n",
      "1500/1500 [==============================] - 1s 784us/step - loss: 0.2149 - accuracy: 0.9667 - val_loss: 0.2313 - val_accuracy: 0.9636\n",
      "Epoch 200/200\n",
      "1500/1500 [==============================] - 1s 789us/step - loss: 0.2160 - accuracy: 0.9662 - val_loss: 0.2222 - val_accuracy: 0.9655\n"
     ]
    }
   ],
   "source": [
    "# will take a while\n",
    "history_deepermnist = deepermodel_images.fit(x_train, y_tr_one_hot, epochs=200, batch_size= 32, validation_split = 0.2)"
   ]
  },
  {
   "cell_type": "code",
   "execution_count": 16,
   "metadata": {
    "cell_style": "split",
    "slideshow": {
     "slide_type": "slide"
    }
   },
   "outputs": [
    {
     "name": "stdout",
     "output_type": "stream",
     "text": [
      "313/313 [==============================] - 0s 1ms/step - loss: 0.2247 - accuracy: 0.9639\n"
     ]
    },
    {
     "data": {
      "text/plain": [
       "[0.22465170919895172, 0.9639000296592712]"
      ]
     },
     "execution_count": 16,
     "metadata": {},
     "output_type": "execute_result"
    }
   ],
   "source": [
    "#evaluate test accuracy\n",
    "deepermodel_images.evaluate(x_test, y_tt_one_hot)"
   ]
  },
  {
   "cell_type": "code",
   "execution_count": 17,
   "metadata": {
    "cell_style": "split",
    "slideshow": {
     "slide_type": "fragment"
    }
   },
   "outputs": [
    {
     "data": {
      "image/png": "[encoded data removed]",
      "text/plain": [
       "<Figure size 432x288 with 1 Axes>"
      ]
     },
     "metadata": {
      "needs_background": "light"
     },
     "output_type": "display_data"
    }
   ],
   "source": [
    "train_deepmnist_history = pd.DataFrame(history_deepermnist.history)\n",
    "train_deepmnist_history.index.name = 'epochs'\n",
    "\n",
    "col_list = ['loss', 'val_loss']\n",
    "train_deepmnist_history[col_list].plot()\n",
    "plt.ylabel('Categorical cross entropy')\n",
    "plt.title('Training loss history')\n",
    "plt.show()"
   ]
  },
  {
   "cell_type": "code",
   "execution_count": 18,
   "metadata": {
    "cell_style": "split",
    "slideshow": {
     "slide_type": "subslide"
    }
   },
   "outputs": [
    {
     "data": {
      "image/png": "[encoded data removed]",
      "text/plain": [
       "<Figure size 432x288 with 1 Axes>"
      ]
     },
     "metadata": {
      "needs_background": "light"
     },
     "output_type": "display_data"
    }
   ],
   "source": [
    "col_list = ['accuracy', 'val_accuracy']\n",
    "train_deepmnist_history[col_list].plot()\n",
    "plt.ylabel('Accuracy')\n",
    "plt.title('Training loss history')\n",
    "plt.show()"
   ]
  },
  {
   "cell_type": "markdown",
   "metadata": {
    "cell_style": "split",
    "slideshow": {
     "slide_type": "fragment"
    }
   },
   "source": [
    "Not overfitting even while adding much more complexity:\n",
    "- in this case, not gaining much either"
   ]
  },
  {
   "cell_type": "markdown",
   "metadata": {
    "cell_style": "split",
    "slideshow": {
     "slide_type": "fragment"
    }
   },
   "source": [
    "To do better:\n",
    "- try a different regularization technique\n",
    "- may need to think harder about network architecture"
   ]
  },
  {
   "cell_type": "markdown",
   "metadata": {
    "slideshow": {
     "slide_type": "slide"
    }
   },
   "source": [
    "#### Dropout Regularization\n",
    "- Architecture based strategy.\n",
    "\n",
    "On each forward/backprop iteration:\n",
    "- given layer with dropout\n",
    "- shut off activations to randomly selected nodes in layer"
   ]
  },
  {
   "cell_type": "markdown",
   "metadata": {
    "cell_style": "split",
    "slideshow": {
     "slide_type": "slide"
    }
   },
   "source": [
    "<img src = \"Images/dropout_network.gif\" >"
   ]
  },
  {
   "cell_type": "markdown",
   "metadata": {
    "cell_style": "split",
    "slideshow": {
     "slide_type": "fragment"
    }
   },
   "source": [
    "- Set $p^{[l]}$  uniform probability of node dropout for given layer\n",
    "- each train cycle: kills different activations"
   ]
  },
  {
   "cell_type": "markdown",
   "metadata": {
    "cell_style": "split",
    "slideshow": {
     "slide_type": "fragment"
    }
   },
   "source": [
    "Dead nodes dont contribute to weight updates in backprop."
   ]
  },
  {
   "cell_type": "markdown",
   "metadata": {
    "cell_style": "split",
    "slideshow": {
     "slide_type": "fragment"
    }
   },
   "source": [
    "after many train cycles: have learned weights:\n",
    "- contributions from many different networks learning different things"
   ]
  },
  {
   "cell_type": "markdown",
   "metadata": {
    "cell_style": "split",
    "slideshow": {
     "slide_type": "slide"
    }
   },
   "source": [
    "<img src = \"Images/Deeper_network.jpg\">"
   ]
  },
  {
   "cell_type": "markdown",
   "metadata": {
    "cell_style": "split",
    "slideshow": {
     "slide_type": "fragment"
    }
   },
   "source": [
    "Validation/test phase:\n",
    "- use all nodes and learned weights.\n",
    "- make prediction."
   ]
  },
  {
   "cell_type": "markdown",
   "metadata": {
    "cell_style": "center",
    "slideshow": {
     "slide_type": "subslide"
    }
   },
   "source": [
    "**Why it works as regularization**\n",
    "- network learns not to trust in any one subset of weights: unlikely any particular weight subset gets too big.\n",
    "- distributes weights in way that is robust to network noise (random dropout): generalizes well. "
   ]
  },
  {
   "cell_type": "markdown",
   "metadata": {
    "slideshow": {
     "slide_type": "slide"
    }
   },
   "source": [
    "#### Dropout in Keras\n",
    "\n",
    "- Simply add it as though it were a layer. It will apply to the immediately preceding layer."
   ]
  },
  {
   "cell_type": "code",
   "execution_count": 19,
   "metadata": {
    "slideshow": {
     "slide_type": "fragment"
    }
   },
   "outputs": [],
   "source": [
    "from tensorflow.keras.layers import Dropout"
   ]
  },
  {
   "cell_type": "markdown",
   "metadata": {
    "cell_style": "center",
    "slideshow": {
     "slide_type": "slide"
    }
   },
   "source": [
    "Dropout() takes in the dropout probability as a constructor argument:\n",
    "- Dropout($p$) after some of the hidden layers.\n",
    "- $p \\in [0.1, 0.5]$ as good range to try. 0.5 is pretty strong."
   ]
  },
  {
   "cell_type": "code",
   "execution_count": 20,
   "metadata": {
    "slideshow": {
     "slide_type": "subslide"
    }
   },
   "outputs": [],
   "source": [
    "from tensorflow.keras.optimizers import Adam\n",
    "opt = Adam(learning_rate=0.003, beta_1=0.9, beta_2=0.999, epsilon=1e-07)"
   ]
  },
  {
   "cell_type": "markdown",
   "metadata": {
    "slideshow": {
     "slide_type": "slide"
    }
   },
   "source": [
    "**Define model**"
   ]
  },
  {
   "cell_type": "code",
   "execution_count": 23,
   "metadata": {
    "cell_style": "split",
    "slideshow": {
     "slide_type": "fragment"
    }
   },
   "outputs": [],
   "source": [
    "model = Sequential()\n",
    "model.add(Flatten(input_shape=(28, 28)))\n",
    "model.add(Dense(20, activation='relu'))\n",
    "model.add(Dropout(0.2)) # dropout on previous activations\n",
    "model.add(Dense(12, activation='relu'))\n",
    "model.add(Dense(12, activation='relu'))\n",
    "model.add(Dropout(0.1)) # dropout\n",
    "model.add(Dense(12, activation='relu'))\n",
    "model.add(Dense(8, activation='relu'))\n",
    "model.add(Dense(10, activation ='softmax'))\n",
    "\n",
    "# compile model\n",
    "model.compile(optimizer=opt, \n",
    "              loss='categorical_crossentropy',\n",
    "              metrics=['accuracy'])"
   ]
  },
  {
   "cell_type": "markdown",
   "metadata": {
    "cell_style": "split",
    "slideshow": {
     "slide_type": "fragment"
    }
   },
   "source": [
    "Some tips:\n",
    "- Dropout earlier in network or inputs. Don't put on final layers.\n",
    "- Try faster learning rates in optimizer"
   ]
  },
  {
   "cell_type": "code",
   "execution_count": 24,
   "metadata": {
    "scrolled": true,
    "slideshow": {
     "slide_type": "subslide"
    }
   },
   "outputs": [
    {
     "name": "stdout",
     "output_type": "stream",
     "text": [
      "Epoch 1/200\n",
      "1500/1500 [==============================] - 2s 1ms/step - loss: 0.7848 - accuracy: 0.7470 - val_loss: 0.3592 - val_accuracy: 0.9053\n",
      "Epoch 2/200\n",
      "1500/1500 [==============================] - 1s 985us/step - loss: 0.5238 - accuracy: 0.8416 - val_loss: 0.3028 - val_accuracy: 0.9161\n",
      "Epoch 3/200\n",
      "1500/1500 [==============================] - 2s 1ms/step - loss: 0.4781 - accuracy: 0.8583 - val_loss: 0.2697 - val_accuracy: 0.9283\n",
      "Epoch 4/200\n",
      "1500/1500 [==============================] - 1s 991us/step - loss: 0.4550 - accuracy: 0.8639 - val_loss: 0.2679 - val_accuracy: 0.9218\n",
      "Epoch 5/200\n",
      "1500/1500 [==============================] - 2s 1ms/step - loss: 0.4301 - accuracy: 0.8716 - val_loss: 0.2503 - val_accuracy: 0.9288\n",
      "Epoch 6/200\n",
      "1500/1500 [==============================] - 2s 1ms/step - loss: 0.4163 - accuracy: 0.8771 - val_loss: 0.2392 - val_accuracy: 0.9342\n",
      "Epoch 7/200\n",
      "1500/1500 [==============================] - 2s 1ms/step - loss: 0.4017 - accuracy: 0.8808 - val_loss: 0.2318 - val_accuracy: 0.9349\n",
      "Epoch 8/200\n",
      "1500/1500 [==============================] - 1s 1000us/step - loss: 0.3992 - accuracy: 0.8806 - val_loss: 0.2421 - val_accuracy: 0.9368\n",
      "Epoch 9/200\n",
      "1500/1500 [==============================] - 1s 985us/step - loss: 0.3904 - accuracy: 0.8854 - val_loss: 0.2277 - val_accuracy: 0.9377\n",
      "Epoch 10/200\n",
      "1500/1500 [==============================] - 2s 1ms/step - loss: 0.3821 - accuracy: 0.8872 - val_loss: 0.2314 - val_accuracy: 0.9350\n",
      "Epoch 11/200\n",
      "1500/1500 [==============================] - 1s 983us/step - loss: 0.3771 - accuracy: 0.8876 - val_loss: 0.2237 - val_accuracy: 0.9391\n",
      "Epoch 12/200\n",
      "1500/1500 [==============================] - 1s 977us/step - loss: 0.3783 - accuracy: 0.8876 - val_loss: 0.2323 - val_accuracy: 0.9379\n",
      "Epoch 13/200\n",
      "1500/1500 [==============================] - 1s 933us/step - loss: 0.3723 - accuracy: 0.8893 - val_loss: 0.2347 - val_accuracy: 0.9377\n",
      "Epoch 14/200\n",
      "1500/1500 [==============================] - 2s 1ms/step - loss: 0.3620 - accuracy: 0.8924 - val_loss: 0.2215 - val_accuracy: 0.9392\n",
      "Epoch 15/200\n",
      "1500/1500 [==============================] - 1s 999us/step - loss: 0.3702 - accuracy: 0.8901 - val_loss: 0.2301 - val_accuracy: 0.9373\n",
      "Epoch 16/200\n",
      "1500/1500 [==============================] - 2s 1ms/step - loss: 0.3586 - accuracy: 0.8928 - val_loss: 0.2329 - val_accuracy: 0.9359\n",
      "Epoch 17/200\n",
      "1500/1500 [==============================] - 1s 994us/step - loss: 0.3560 - accuracy: 0.8950 - val_loss: 0.2315 - val_accuracy: 0.9363\n",
      "Epoch 18/200\n",
      "1500/1500 [==============================] - 2s 1ms/step - loss: 0.3591 - accuracy: 0.8934 - val_loss: 0.2209 - val_accuracy: 0.9400\n",
      "Epoch 19/200\n",
      "1500/1500 [==============================] - 2s 1ms/step - loss: 0.3519 - accuracy: 0.8950 - val_loss: 0.2366 - val_accuracy: 0.9352\n",
      "Epoch 20/200\n",
      "1500/1500 [==============================] - 2s 1ms/step - loss: 0.3423 - accuracy: 0.8984 - val_loss: 0.2206 - val_accuracy: 0.9416\n",
      "Epoch 21/200\n",
      "1500/1500 [==============================] - 2s 1ms/step - loss: 0.3442 - accuracy: 0.8989 - val_loss: 0.2180 - val_accuracy: 0.9392\n",
      "Epoch 22/200\n",
      "1500/1500 [==============================] - 1s 993us/step - loss: 0.3477 - accuracy: 0.8980 - val_loss: 0.2176 - val_accuracy: 0.9393\n",
      "Epoch 23/200\n",
      "1500/1500 [==============================] - 2s 1ms/step - loss: 0.3469 - accuracy: 0.8968 - val_loss: 0.2348 - val_accuracy: 0.9385\n",
      "Epoch 24/200\n",
      "1500/1500 [==============================] - 2s 1ms/step - loss: 0.3471 - accuracy: 0.8971 - val_loss: 0.2301 - val_accuracy: 0.9374\n",
      "Epoch 25/200\n",
      "1500/1500 [==============================] - 2s 1ms/step - loss: 0.3417 - accuracy: 0.8993 - val_loss: 0.2136 - val_accuracy: 0.9427\n",
      "Epoch 26/200\n",
      "1500/1500 [==============================] - 2s 1ms/step - loss: 0.3402 - accuracy: 0.8991 - val_loss: 0.2223 - val_accuracy: 0.9402\n",
      "Epoch 27/200\n",
      "1500/1500 [==============================] - 2s 1ms/step - loss: 0.3389 - accuracy: 0.8991 - val_loss: 0.2162 - val_accuracy: 0.9418\n",
      "Epoch 28/200\n",
      "1500/1500 [==============================] - 2s 1ms/step - loss: 0.3367 - accuracy: 0.9001 - val_loss: 0.2110 - val_accuracy: 0.9428\n",
      "Epoch 29/200\n",
      "1500/1500 [==============================] - 2s 1ms/step - loss: 0.3377 - accuracy: 0.8994 - val_loss: 0.2138 - val_accuracy: 0.9438\n",
      "Epoch 30/200\n",
      "1500/1500 [==============================] - 2s 1ms/step - loss: 0.3363 - accuracy: 0.9005 - val_loss: 0.2139 - val_accuracy: 0.9416\n",
      "Epoch 31/200\n",
      "1500/1500 [==============================] - 2s 1ms/step - loss: 0.3303 - accuracy: 0.9019 - val_loss: 0.2141 - val_accuracy: 0.9413\n",
      "Epoch 32/200\n",
      "1500/1500 [==============================] - 1s 902us/step - loss: 0.3303 - accuracy: 0.9019 - val_loss: 0.2159 - val_accuracy: 0.9408\n",
      "Epoch 33/200\n",
      "1500/1500 [==============================] - 1s 884us/step - loss: 0.3307 - accuracy: 0.9028 - val_loss: 0.2262 - val_accuracy: 0.9388\n",
      "Epoch 34/200\n",
      "1500/1500 [==============================] - 1s 863us/step - loss: 0.3376 - accuracy: 0.9024 - val_loss: 0.2155 - val_accuracy: 0.9411\n",
      "Epoch 35/200\n",
      "1500/1500 [==============================] - 1s 808us/step - loss: 0.3266 - accuracy: 0.9026 - val_loss: 0.2105 - val_accuracy: 0.9428\n",
      "Epoch 36/200\n",
      "1500/1500 [==============================] - 1s 808us/step - loss: 0.3282 - accuracy: 0.9008 - val_loss: 0.2130 - val_accuracy: 0.9423\n",
      "Epoch 37/200\n",
      "1500/1500 [==============================] - 1s 816us/step - loss: 0.3263 - accuracy: 0.9028 - val_loss: 0.2141 - val_accuracy: 0.9423\n",
      "Epoch 38/200\n",
      "1500/1500 [==============================] - 1s 870us/step - loss: 0.3205 - accuracy: 0.9037 - val_loss: 0.2215 - val_accuracy: 0.9397\n",
      "Epoch 39/200\n",
      "1500/1500 [==============================] - 1s 896us/step - loss: 0.3302 - accuracy: 0.9025 - val_loss: 0.2225 - val_accuracy: 0.9385\n",
      "Epoch 40/200\n",
      "1500/1500 [==============================] - 1s 896us/step - loss: 0.3258 - accuracy: 0.9034 - val_loss: 0.2183 - val_accuracy: 0.9415\n",
      "Epoch 41/200\n",
      "1500/1500 [==============================] - 1s 824us/step - loss: 0.3252 - accuracy: 0.9025 - val_loss: 0.2430 - val_accuracy: 0.9310\n",
      "Epoch 42/200\n",
      "1500/1500 [==============================] - 1s 866us/step - loss: 0.3154 - accuracy: 0.9074 - val_loss: 0.2259 - val_accuracy: 0.9358\n",
      "Epoch 43/200\n",
      "1500/1500 [==============================] - 1s 824us/step - loss: 0.3181 - accuracy: 0.9059 - val_loss: 0.2259 - val_accuracy: 0.9395\n",
      "Epoch 44/200\n",
      "1500/1500 [==============================] - 1s 893us/step - loss: 0.3192 - accuracy: 0.9050 - val_loss: 0.2191 - val_accuracy: 0.9424\n",
      "Epoch 45/200\n",
      "1500/1500 [==============================] - 1s 984us/step - loss: 0.3192 - accuracy: 0.9050 - val_loss: 0.2170 - val_accuracy: 0.9392\n",
      "Epoch 46/200\n",
      "1500/1500 [==============================] - 1s 923us/step - loss: 0.3147 - accuracy: 0.9054 - val_loss: 0.2148 - val_accuracy: 0.9411\n",
      "Epoch 47/200\n",
      "1500/1500 [==============================] - 1s 836us/step - loss: 0.3194 - accuracy: 0.9049 - val_loss: 0.2137 - val_accuracy: 0.9422\n",
      "Epoch 48/200\n",
      "1500/1500 [==============================] - 1s 826us/step - loss: 0.3207 - accuracy: 0.9042 - val_loss: 0.2068 - val_accuracy: 0.9415\n",
      "Epoch 49/200\n",
      "1500/1500 [==============================] - 1s 875us/step - loss: 0.3197 - accuracy: 0.9044 - val_loss: 0.2298 - val_accuracy: 0.9365\n",
      "Epoch 50/200\n",
      "1500/1500 [==============================] - 1s 859us/step - loss: 0.3185 - accuracy: 0.9048 - val_loss: 0.2094 - val_accuracy: 0.9431\n",
      "Epoch 51/200\n",
      "1500/1500 [==============================] - 1s 815us/step - loss: 0.3188 - accuracy: 0.9054 - val_loss: 0.2193 - val_accuracy: 0.9418\n",
      "Epoch 52/200\n",
      "1500/1500 [==============================] - 1s 831us/step - loss: 0.3150 - accuracy: 0.9057 - val_loss: 0.2180 - val_accuracy: 0.9411\n",
      "Epoch 53/200\n",
      "1500/1500 [==============================] - 2s 1ms/step - loss: 0.3148 - accuracy: 0.9058 - val_loss: 0.2185 - val_accuracy: 0.9409\n",
      "Epoch 54/200\n",
      "1500/1500 [==============================] - 2s 1ms/step - loss: 0.3180 - accuracy: 0.9047 - val_loss: 0.2027 - val_accuracy: 0.9473\n",
      "Epoch 55/200\n",
      "1500/1500 [==============================] - 1s 802us/step - loss: 0.3105 - accuracy: 0.9077 - val_loss: 0.2237 - val_accuracy: 0.9382\n",
      "Epoch 56/200\n",
      "1500/1500 [==============================] - 1s 811us/step - loss: 0.3082 - accuracy: 0.9077 - val_loss: 0.2138 - val_accuracy: 0.9436\n",
      "Epoch 57/200\n",
      "1500/1500 [==============================] - 1s 852us/step - loss: 0.3132 - accuracy: 0.9072 - val_loss: 0.2160 - val_accuracy: 0.9413\n",
      "Epoch 58/200\n",
      "1500/1500 [==============================] - 1s 836us/step - loss: 0.3157 - accuracy: 0.9052 - val_loss: 0.2149 - val_accuracy: 0.9422\n",
      "Epoch 59/200\n",
      "1500/1500 [==============================] - 1s 777us/step - loss: 0.3113 - accuracy: 0.9071 - val_loss: 0.2222 - val_accuracy: 0.9407\n",
      "Epoch 60/200\n",
      "1500/1500 [==============================] - 1s 792us/step - loss: 0.3181 - accuracy: 0.9044 - val_loss: 0.2145 - val_accuracy: 0.9427\n",
      "Epoch 61/200\n",
      "1500/1500 [==============================] - 1s 859us/step - loss: 0.3151 - accuracy: 0.9070 - val_loss: 0.2166 - val_accuracy: 0.9430\n",
      "Epoch 62/200\n",
      "1500/1500 [==============================] - 1s 808us/step - loss: 0.3103 - accuracy: 0.9083 - val_loss: 0.2149 - val_accuracy: 0.9443\n",
      "Epoch 63/200\n",
      "1500/1500 [==============================] - 1s 788us/step - loss: 0.3127 - accuracy: 0.9062 - val_loss: 0.2167 - val_accuracy: 0.9433\n",
      "Epoch 64/200\n",
      "1500/1500 [==============================] - 1s 794us/step - loss: 0.3117 - accuracy: 0.9074 - val_loss: 0.2198 - val_accuracy: 0.9425\n",
      "Epoch 65/200\n",
      "1500/1500 [==============================] - 2s 1ms/step - loss: 0.3122 - accuracy: 0.9075 - val_loss: 0.2263 - val_accuracy: 0.9417\n",
      "Epoch 66/200\n",
      "1500/1500 [==============================] - 2s 1ms/step - loss: 0.3133 - accuracy: 0.9069 - val_loss: 0.2078 - val_accuracy: 0.9439\n",
      "Epoch 67/200\n",
      "1500/1500 [==============================] - 1s 837us/step - loss: 0.3072 - accuracy: 0.9093 - val_loss: 0.2236 - val_accuracy: 0.9401\n",
      "Epoch 68/200\n",
      "1500/1500 [==============================] - 1s 869us/step - loss: 0.3091 - accuracy: 0.9089 - val_loss: 0.2106 - val_accuracy: 0.9442\n",
      "Epoch 69/200\n",
      "1500/1500 [==============================] - 1s 879us/step - loss: 0.3085 - accuracy: 0.9075 - val_loss: 0.2158 - val_accuracy: 0.9421\n",
      "Epoch 70/200\n",
      "1500/1500 [==============================] - 1s 830us/step - loss: 0.3075 - accuracy: 0.9089 - val_loss: 0.2242 - val_accuracy: 0.9398\n",
      "Epoch 71/200\n",
      "1500/1500 [==============================] - 1s 970us/step - loss: 0.3049 - accuracy: 0.9093 - val_loss: 0.2179 - val_accuracy: 0.9402\n",
      "Epoch 72/200\n",
      "1500/1500 [==============================] - 1s 988us/step - loss: 0.3078 - accuracy: 0.9080 - val_loss: 0.2080 - val_accuracy: 0.9441\n",
      "Epoch 73/200\n",
      "1500/1500 [==============================] - 1s 897us/step - loss: 0.3035 - accuracy: 0.9085 - val_loss: 0.2170 - val_accuracy: 0.9406\n",
      "Epoch 74/200\n",
      "1500/1500 [==============================] - 1s 832us/step - loss: 0.3067 - accuracy: 0.9106 - val_loss: 0.2114 - val_accuracy: 0.9450\n",
      "Epoch 75/200\n",
      "1500/1500 [==============================] - 1s 855us/step - loss: 0.3038 - accuracy: 0.9093 - val_loss: 0.2102 - val_accuracy: 0.9427\n",
      "Epoch 76/200\n",
      "1500/1500 [==============================] - 1s 916us/step - loss: 0.3034 - accuracy: 0.9091 - val_loss: 0.2103 - val_accuracy: 0.9413\n",
      "Epoch 77/200\n",
      "1500/1500 [==============================] - 1s 864us/step - loss: 0.3072 - accuracy: 0.9082 - val_loss: 0.2223 - val_accuracy: 0.9380\n",
      "Epoch 78/200\n",
      "1500/1500 [==============================] - 1s 853us/step - loss: 0.3076 - accuracy: 0.9100 - val_loss: 0.2163 - val_accuracy: 0.9403\n",
      "Epoch 79/200\n",
      "1500/1500 [==============================] - 1s 863us/step - loss: 0.3021 - accuracy: 0.9112 - val_loss: 0.2171 - val_accuracy: 0.9410\n",
      "Epoch 80/200\n",
      "1500/1500 [==============================] - 1s 853us/step - loss: 0.3051 - accuracy: 0.9104 - val_loss: 0.2261 - val_accuracy: 0.9393\n",
      "Epoch 81/200\n",
      "1500/1500 [==============================] - 1s 796us/step - loss: 0.3056 - accuracy: 0.9101 - val_loss: 0.2116 - val_accuracy: 0.9417\n",
      "Epoch 82/200\n",
      "1500/1500 [==============================] - 1s 786us/step - loss: 0.3028 - accuracy: 0.9094 - val_loss: 0.2227 - val_accuracy: 0.9408\n",
      "Epoch 83/200\n",
      "1500/1500 [==============================] - 1s 791us/step - loss: 0.3024 - accuracy: 0.9100 - val_loss: 0.2002 - val_accuracy: 0.9462\n",
      "Epoch 84/200\n",
      "1500/1500 [==============================] - 1s 847us/step - loss: 0.3026 - accuracy: 0.9090 - val_loss: 0.2111 - val_accuracy: 0.9438\n",
      "Epoch 85/200\n",
      "1500/1500 [==============================] - 1s 799us/step - loss: 0.3023 - accuracy: 0.9097 - val_loss: 0.2130 - val_accuracy: 0.9406\n",
      "Epoch 86/200\n",
      "1500/1500 [==============================] - 1s 797us/step - loss: 0.2964 - accuracy: 0.9111 - val_loss: 0.2279 - val_accuracy: 0.9406\n",
      "Epoch 87/200\n",
      "1500/1500 [==============================] - 1s 805us/step - loss: 0.2968 - accuracy: 0.9117 - val_loss: 0.2192 - val_accuracy: 0.9421\n",
      "Epoch 88/200\n",
      "1500/1500 [==============================] - 1s 897us/step - loss: 0.3040 - accuracy: 0.9096 - val_loss: 0.2198 - val_accuracy: 0.9406\n",
      "Epoch 89/200\n",
      "1500/1500 [==============================] - 1s 918us/step - loss: 0.3041 - accuracy: 0.9096 - val_loss: 0.2092 - val_accuracy: 0.9429\n",
      "Epoch 90/200\n",
      "1500/1500 [==============================] - 1s 811us/step - loss: 0.3065 - accuracy: 0.9085 - val_loss: 0.2076 - val_accuracy: 0.9448\n",
      "Epoch 91/200\n",
      "1500/1500 [==============================] - 1s 827us/step - loss: 0.2998 - accuracy: 0.9106 - val_loss: 0.2110 - val_accuracy: 0.9433\n",
      "Epoch 92/200\n",
      "1500/1500 [==============================] - 1s 913us/step - loss: 0.3020 - accuracy: 0.9097 - val_loss: 0.2081 - val_accuracy: 0.9435\n",
      "Epoch 93/200\n",
      "1500/1500 [==============================] - 1s 824us/step - loss: 0.2965 - accuracy: 0.9117 - val_loss: 0.2096 - val_accuracy: 0.9460\n",
      "Epoch 94/200\n",
      "1500/1500 [==============================] - 1s 811us/step - loss: 0.2989 - accuracy: 0.9114 - val_loss: 0.2139 - val_accuracy: 0.9430\n",
      "Epoch 95/200\n",
      "1500/1500 [==============================] - 1s 811us/step - loss: 0.2946 - accuracy: 0.9119 - val_loss: 0.2108 - val_accuracy: 0.9446\n",
      "Epoch 96/200\n",
      "1500/1500 [==============================] - 1s 974us/step - loss: 0.2958 - accuracy: 0.9126 - val_loss: 0.2219 - val_accuracy: 0.9398\n",
      "Epoch 97/200\n",
      "1500/1500 [==============================] - 1s 903us/step - loss: 0.2992 - accuracy: 0.9118 - val_loss: 0.2255 - val_accuracy: 0.9388\n",
      "Epoch 98/200\n",
      "1500/1500 [==============================] - 1s 843us/step - loss: 0.3061 - accuracy: 0.9099 - val_loss: 0.2145 - val_accuracy: 0.9440\n",
      "Epoch 99/200\n",
      "1500/1500 [==============================] - 1s 855us/step - loss: 0.3012 - accuracy: 0.9115 - val_loss: 0.2263 - val_accuracy: 0.9382\n",
      "Epoch 100/200\n",
      "1500/1500 [==============================] - 1s 886us/step - loss: 0.2992 - accuracy: 0.9125 - val_loss: 0.2094 - val_accuracy: 0.9454\n",
      "Epoch 101/200\n",
      "1500/1500 [==============================] - 1s 843us/step - loss: 0.2996 - accuracy: 0.9109 - val_loss: 0.2084 - val_accuracy: 0.9437\n",
      "Epoch 102/200\n",
      "1500/1500 [==============================] - 1s 818us/step - loss: 0.3002 - accuracy: 0.9114 - val_loss: 0.2106 - val_accuracy: 0.9452\n",
      "Epoch 103/200\n",
      "1500/1500 [==============================] - 1s 853us/step - loss: 0.2992 - accuracy: 0.9111 - val_loss: 0.2090 - val_accuracy: 0.9428\n",
      "Epoch 104/200\n",
      "1500/1500 [==============================] - 1s 883us/step - loss: 0.2944 - accuracy: 0.9135 - val_loss: 0.2098 - val_accuracy: 0.9451\n",
      "Epoch 105/200\n",
      "1500/1500 [==============================] - 1s 800us/step - loss: 0.2957 - accuracy: 0.9136 - val_loss: 0.2098 - val_accuracy: 0.9444\n",
      "Epoch 106/200\n",
      "1500/1500 [==============================] - 1s 816us/step - loss: 0.2937 - accuracy: 0.9128 - val_loss: 0.2285 - val_accuracy: 0.9383\n",
      "Epoch 107/200\n",
      "1500/1500 [==============================] - 1s 819us/step - loss: 0.2971 - accuracy: 0.9133 - val_loss: 0.2122 - val_accuracy: 0.9454\n",
      "Epoch 108/200\n",
      "1500/1500 [==============================] - 1s 827us/step - loss: 0.2953 - accuracy: 0.9121 - val_loss: 0.2102 - val_accuracy: 0.9455\n",
      "Epoch 109/200\n",
      "1500/1500 [==============================] - 1s 805us/step - loss: 0.3005 - accuracy: 0.9106 - val_loss: 0.2167 - val_accuracy: 0.9423\n",
      "Epoch 110/200\n",
      "1500/1500 [==============================] - 1s 793us/step - loss: 0.2932 - accuracy: 0.9126 - val_loss: 0.2057 - val_accuracy: 0.9453\n",
      "Epoch 111/200\n",
      "1500/1500 [==============================] - 1s 827us/step - loss: 0.3039 - accuracy: 0.9095 - val_loss: 0.2218 - val_accuracy: 0.9413\n",
      "Epoch 112/200\n",
      "1500/1500 [==============================] - 1s 822us/step - loss: 0.3003 - accuracy: 0.9111 - val_loss: 0.2109 - val_accuracy: 0.9472\n",
      "Epoch 113/200\n",
      "1500/1500 [==============================] - 1s 794us/step - loss: 0.2946 - accuracy: 0.9126 - val_loss: 0.2134 - val_accuracy: 0.9441\n",
      "Epoch 114/200\n",
      "1500/1500 [==============================] - 1s 794us/step - loss: 0.2938 - accuracy: 0.9136 - val_loss: 0.2205 - val_accuracy: 0.9393\n",
      "Epoch 115/200\n",
      "1500/1500 [==============================] - 1s 819us/step - loss: 0.2975 - accuracy: 0.9116 - val_loss: 0.2234 - val_accuracy: 0.9417\n",
      "Epoch 116/200\n",
      "1500/1500 [==============================] - 1s 872us/step - loss: 0.2919 - accuracy: 0.9140 - val_loss: 0.2158 - val_accuracy: 0.9437\n",
      "Epoch 117/200\n",
      "1500/1500 [==============================] - 1s 875us/step - loss: 0.2997 - accuracy: 0.9126 - val_loss: 0.2234 - val_accuracy: 0.9402\n",
      "Epoch 118/200\n",
      "1500/1500 [==============================] - 1s 833us/step - loss: 0.2893 - accuracy: 0.9154 - val_loss: 0.2169 - val_accuracy: 0.9452\n",
      "Epoch 119/200\n",
      "1500/1500 [==============================] - 1s 886us/step - loss: 0.3002 - accuracy: 0.9128 - val_loss: 0.2184 - val_accuracy: 0.9436\n",
      "Epoch 120/200\n",
      "1500/1500 [==============================] - 1s 962us/step - loss: 0.2959 - accuracy: 0.9132 - val_loss: 0.2137 - val_accuracy: 0.9418\n",
      "Epoch 121/200\n",
      "1500/1500 [==============================] - 1s 811us/step - loss: 0.2995 - accuracy: 0.9117 - val_loss: 0.2131 - val_accuracy: 0.9442\n",
      "Epoch 122/200\n",
      "1500/1500 [==============================] - 1s 818us/step - loss: 0.2985 - accuracy: 0.9122 - val_loss: 0.2138 - val_accuracy: 0.9452\n",
      "Epoch 123/200\n",
      "1500/1500 [==============================] - 1s 830us/step - loss: 0.2925 - accuracy: 0.9142 - val_loss: 0.2185 - val_accuracy: 0.9410\n",
      "Epoch 124/200\n",
      "1500/1500 [==============================] - 1s 907us/step - loss: 0.2966 - accuracy: 0.9126 - val_loss: 0.2216 - val_accuracy: 0.9413\n",
      "Epoch 125/200\n",
      "1500/1500 [==============================] - 2s 1ms/step - loss: 0.2974 - accuracy: 0.9122 - val_loss: 0.2171 - val_accuracy: 0.9438\n",
      "Epoch 126/200\n",
      "1500/1500 [==============================] - 1s 920us/step - loss: 0.2963 - accuracy: 0.9125 - val_loss: 0.2154 - val_accuracy: 0.9426\n",
      "Epoch 127/200\n",
      "1500/1500 [==============================] - 1s 889us/step - loss: 0.2916 - accuracy: 0.9136 - val_loss: 0.2110 - val_accuracy: 0.9435\n",
      "Epoch 128/200\n",
      "1500/1500 [==============================] - 1s 828us/step - loss: 0.2919 - accuracy: 0.9136 - val_loss: 0.2295 - val_accuracy: 0.9385\n",
      "Epoch 129/200\n",
      "1500/1500 [==============================] - 1s 822us/step - loss: 0.2932 - accuracy: 0.9136 - val_loss: 0.2123 - val_accuracy: 0.9418\n",
      "Epoch 130/200\n",
      "1500/1500 [==============================] - 1s 841us/step - loss: 0.2943 - accuracy: 0.9126 - val_loss: 0.2240 - val_accuracy: 0.9423\n",
      "Epoch 131/200\n",
      "1500/1500 [==============================] - 1s 879us/step - loss: 0.2865 - accuracy: 0.9159 - val_loss: 0.2150 - val_accuracy: 0.9438\n",
      "Epoch 132/200\n",
      "1500/1500 [==============================] - 1s 822us/step - loss: 0.2938 - accuracy: 0.9130 - val_loss: 0.2160 - val_accuracy: 0.9408\n",
      "Epoch 133/200\n",
      "1500/1500 [==============================] - 1s 812us/step - loss: 0.2896 - accuracy: 0.9143 - val_loss: 0.2372 - val_accuracy: 0.9369\n",
      "Epoch 134/200\n",
      "1500/1500 [==============================] - 1s 799us/step - loss: 0.2973 - accuracy: 0.9114 - val_loss: 0.2206 - val_accuracy: 0.9408\n",
      "Epoch 135/200\n",
      "1500/1500 [==============================] - 1s 853us/step - loss: 0.2936 - accuracy: 0.9137 - val_loss: 0.2192 - val_accuracy: 0.9406\n",
      "Epoch 136/200\n",
      "1500/1500 [==============================] - 1s 794us/step - loss: 0.2942 - accuracy: 0.9127 - val_loss: 0.2156 - val_accuracy: 0.9425\n",
      "Epoch 137/200\n",
      "1500/1500 [==============================] - 1s 803us/step - loss: 0.2901 - accuracy: 0.9132 - val_loss: 0.2172 - val_accuracy: 0.9442\n",
      "Epoch 138/200\n",
      "1500/1500 [==============================] - 1s 788us/step - loss: 0.2874 - accuracy: 0.9152 - val_loss: 0.2124 - val_accuracy: 0.9446\n",
      "Epoch 139/200\n",
      "1500/1500 [==============================] - 1s 858us/step - loss: 0.2930 - accuracy: 0.9152 - val_loss: 0.2130 - val_accuracy: 0.9437\n",
      "Epoch 140/200\n",
      "1500/1500 [==============================] - 1s 791us/step - loss: 0.2918 - accuracy: 0.9131 - val_loss: 0.2143 - val_accuracy: 0.9448\n",
      "Epoch 141/200\n",
      "1500/1500 [==============================] - 1s 800us/step - loss: 0.2939 - accuracy: 0.9137 - val_loss: 0.2198 - val_accuracy: 0.9409\n",
      "Epoch 142/200\n",
      "1500/1500 [==============================] - 1s 794us/step - loss: 0.2855 - accuracy: 0.9164 - val_loss: 0.2070 - val_accuracy: 0.9455\n",
      "Epoch 143/200\n",
      "1500/1500 [==============================] - 1s 861us/step - loss: 0.2837 - accuracy: 0.9166 - val_loss: 0.2081 - val_accuracy: 0.9439\n",
      "Epoch 144/200\n",
      "1500/1500 [==============================] - 1s 828us/step - loss: 0.2891 - accuracy: 0.9135 - val_loss: 0.2246 - val_accuracy: 0.9405\n",
      "Epoch 145/200\n",
      "1500/1500 [==============================] - 1s 808us/step - loss: 0.2900 - accuracy: 0.9144 - val_loss: 0.2220 - val_accuracy: 0.9402\n",
      "Epoch 146/200\n",
      "1500/1500 [==============================] - 1s 794us/step - loss: 0.2904 - accuracy: 0.9146 - val_loss: 0.2103 - val_accuracy: 0.9442\n",
      "Epoch 147/200\n",
      "1500/1500 [==============================] - 1s 855us/step - loss: 0.2920 - accuracy: 0.9133 - val_loss: 0.2211 - val_accuracy: 0.9420\n",
      "Epoch 148/200\n",
      "1500/1500 [==============================] - 1s 819us/step - loss: 0.2856 - accuracy: 0.9158 - val_loss: 0.2127 - val_accuracy: 0.9441\n",
      "Epoch 149/200\n",
      "1500/1500 [==============================] - 1s 800us/step - loss: 0.2937 - accuracy: 0.9125 - val_loss: 0.2205 - val_accuracy: 0.9417\n",
      "Epoch 150/200\n",
      "1500/1500 [==============================] - 1s 786us/step - loss: 0.2905 - accuracy: 0.9150 - val_loss: 0.2124 - val_accuracy: 0.9425\n",
      "Epoch 151/200\n",
      "1500/1500 [==============================] - 1s 827us/step - loss: 0.2904 - accuracy: 0.9134 - val_loss: 0.2142 - val_accuracy: 0.9419\n",
      "Epoch 152/200\n",
      "1500/1500 [==============================] - 1s 830us/step - loss: 0.2941 - accuracy: 0.9137 - val_loss: 0.2155 - val_accuracy: 0.9413\n",
      "Epoch 153/200\n",
      "1500/1500 [==============================] - 1s 780us/step - loss: 0.2915 - accuracy: 0.9114 - val_loss: 0.2157 - val_accuracy: 0.9413\n",
      "Epoch 154/200\n",
      "1500/1500 [==============================] - 1s 794us/step - loss: 0.2897 - accuracy: 0.9138 - val_loss: 0.2269 - val_accuracy: 0.9418\n",
      "Epoch 155/200\n",
      "1500/1500 [==============================] - 1s 834us/step - loss: 0.2880 - accuracy: 0.9140 - val_loss: 0.2224 - val_accuracy: 0.9421\n",
      "Epoch 156/200\n",
      "1500/1500 [==============================] - 2s 1ms/step - loss: 0.2933 - accuracy: 0.9120 - val_loss: 0.2179 - val_accuracy: 0.9415\n",
      "Epoch 157/200\n",
      "1500/1500 [==============================] - 2s 1ms/step - loss: 0.2780 - accuracy: 0.9182 - val_loss: 0.2143 - val_accuracy: 0.9423\n",
      "Epoch 158/200\n",
      "1500/1500 [==============================] - 1s 827us/step - loss: 0.2857 - accuracy: 0.9155 - val_loss: 0.2188 - val_accuracy: 0.9416\n",
      "Epoch 159/200\n",
      "1500/1500 [==============================] - 1s 859us/step - loss: 0.2845 - accuracy: 0.9159 - val_loss: 0.2190 - val_accuracy: 0.9425\n",
      "Epoch 160/200\n",
      "1500/1500 [==============================] - 1s 812us/step - loss: 0.2873 - accuracy: 0.9148 - val_loss: 0.2238 - val_accuracy: 0.9413\n",
      "Epoch 161/200\n",
      "1500/1500 [==============================] - 1s 811us/step - loss: 0.2865 - accuracy: 0.9158 - val_loss: 0.2241 - val_accuracy: 0.9419\n",
      "Epoch 162/200\n",
      "1500/1500 [==============================] - 1s 821us/step - loss: 0.2830 - accuracy: 0.9147 - val_loss: 0.2204 - val_accuracy: 0.9402\n",
      "Epoch 163/200\n",
      "1500/1500 [==============================] - 1s 869us/step - loss: 0.2849 - accuracy: 0.9143 - val_loss: 0.2180 - val_accuracy: 0.9416\n",
      "Epoch 164/200\n",
      "1500/1500 [==============================] - 1s 811us/step - loss: 0.2874 - accuracy: 0.9149 - val_loss: 0.2207 - val_accuracy: 0.9409\n",
      "Epoch 165/200\n",
      "1500/1500 [==============================] - 1s 805us/step - loss: 0.2853 - accuracy: 0.9152 - val_loss: 0.2130 - val_accuracy: 0.9430\n",
      "Epoch 166/200\n",
      "1500/1500 [==============================] - 1s 774us/step - loss: 0.2927 - accuracy: 0.9137 - val_loss: 0.2218 - val_accuracy: 0.9413\n",
      "Epoch 167/200\n",
      "1500/1500 [==============================] - 1s 806us/step - loss: 0.2855 - accuracy: 0.9171 - val_loss: 0.2181 - val_accuracy: 0.9435\n",
      "Epoch 168/200\n",
      "1500/1500 [==============================] - 1s 775us/step - loss: 0.2934 - accuracy: 0.9122 - val_loss: 0.2185 - val_accuracy: 0.9386\n",
      "Epoch 169/200\n",
      "1500/1500 [==============================] - 1s 763us/step - loss: 0.2839 - accuracy: 0.9167 - val_loss: 0.2198 - val_accuracy: 0.9423\n",
      "Epoch 170/200\n",
      "1500/1500 [==============================] - 1s 766us/step - loss: 0.2945 - accuracy: 0.9129 - val_loss: 0.2268 - val_accuracy: 0.9398\n",
      "Epoch 171/200\n",
      "1500/1500 [==============================] - 1s 794us/step - loss: 0.2913 - accuracy: 0.9140 - val_loss: 0.2281 - val_accuracy: 0.9411\n",
      "Epoch 172/200\n",
      "1500/1500 [==============================] - 1s 872us/step - loss: 0.2816 - accuracy: 0.9180 - val_loss: 0.2151 - val_accuracy: 0.9429\n",
      "Epoch 173/200\n",
      "1500/1500 [==============================] - 1s 831us/step - loss: 0.2861 - accuracy: 0.9141 - val_loss: 0.2075 - val_accuracy: 0.9447\n",
      "Epoch 174/200\n",
      "1500/1500 [==============================] - 1s 794us/step - loss: 0.2891 - accuracy: 0.9142 - val_loss: 0.2107 - val_accuracy: 0.9446\n",
      "Epoch 175/200\n",
      "1500/1500 [==============================] - 1s 800us/step - loss: 0.2863 - accuracy: 0.9155 - val_loss: 0.2145 - val_accuracy: 0.9423\n",
      "Epoch 176/200\n",
      "1500/1500 [==============================] - 1s 846us/step - loss: 0.2850 - accuracy: 0.9169 - val_loss: 0.2265 - val_accuracy: 0.9407\n",
      "Epoch 177/200\n",
      "1500/1500 [==============================] - 1s 834us/step - loss: 0.2824 - accuracy: 0.9161 - val_loss: 0.2137 - val_accuracy: 0.9431\n",
      "Epoch 178/200\n",
      "1500/1500 [==============================] - 1s 797us/step - loss: 0.2817 - accuracy: 0.9173 - val_loss: 0.2146 - val_accuracy: 0.9425\n",
      "Epoch 179/200\n",
      "1500/1500 [==============================] - 1s 774us/step - loss: 0.2856 - accuracy: 0.9160 - val_loss: 0.2230 - val_accuracy: 0.9424\n",
      "Epoch 180/200\n",
      "1500/1500 [==============================] - 2s 1ms/step - loss: 0.2860 - accuracy: 0.9161 - val_loss: 0.2385 - val_accuracy: 0.9362\n",
      "Epoch 181/200\n",
      "1500/1500 [==============================] - 1s 878us/step - loss: 0.2878 - accuracy: 0.9148 - val_loss: 0.2225 - val_accuracy: 0.9416\n",
      "Epoch 182/200\n",
      "1500/1500 [==============================] - 1s 847us/step - loss: 0.2801 - accuracy: 0.9177 - val_loss: 0.2105 - val_accuracy: 0.9450\n",
      "Epoch 183/200\n",
      "1500/1500 [==============================] - 1s 948us/step - loss: 0.2870 - accuracy: 0.9155 - val_loss: 0.2089 - val_accuracy: 0.9445\n",
      "Epoch 184/200\n",
      "1500/1500 [==============================] - 1s 876us/step - loss: 0.2835 - accuracy: 0.9148 - val_loss: 0.2197 - val_accuracy: 0.9430\n",
      "Epoch 185/200\n",
      "1500/1500 [==============================] - 1s 954us/step - loss: 0.2894 - accuracy: 0.9150 - val_loss: 0.2174 - val_accuracy: 0.9429\n",
      "Epoch 186/200\n",
      "1500/1500 [==============================] - 1s 957us/step - loss: 0.2891 - accuracy: 0.9160 - val_loss: 0.2180 - val_accuracy: 0.9409\n",
      "Epoch 187/200\n",
      "1500/1500 [==============================] - 1s 891us/step - loss: 0.2833 - accuracy: 0.9152 - val_loss: 0.2273 - val_accuracy: 0.9401\n",
      "Epoch 188/200\n",
      "1500/1500 [==============================] - 1s 853us/step - loss: 0.2856 - accuracy: 0.9157 - val_loss: 0.2207 - val_accuracy: 0.9423\n",
      "Epoch 189/200\n",
      "1500/1500 [==============================] - 1s 886us/step - loss: 0.2829 - accuracy: 0.9174 - val_loss: 0.2295 - val_accuracy: 0.9398\n",
      "Epoch 190/200\n",
      "1500/1500 [==============================] - 1s 880us/step - loss: 0.2854 - accuracy: 0.9153 - val_loss: 0.2250 - val_accuracy: 0.9408\n",
      "Epoch 191/200\n",
      "1500/1500 [==============================] - 1s 878us/step - loss: 0.2778 - accuracy: 0.9196 - val_loss: 0.2301 - val_accuracy: 0.9400\n",
      "Epoch 192/200\n",
      "1500/1500 [==============================] - 1s 919us/step - loss: 0.2816 - accuracy: 0.9187 - val_loss: 0.2187 - val_accuracy: 0.9419\n",
      "Epoch 193/200\n",
      "1500/1500 [==============================] - 1s 836us/step - loss: 0.2789 - accuracy: 0.9180 - val_loss: 0.2243 - val_accuracy: 0.9412\n",
      "Epoch 194/200\n",
      "1500/1500 [==============================] - 1s 859us/step - loss: 0.2841 - accuracy: 0.9161 - val_loss: 0.2179 - val_accuracy: 0.9426\n",
      "Epoch 195/200\n",
      "1500/1500 [==============================] - 1s 805us/step - loss: 0.2827 - accuracy: 0.9164 - val_loss: 0.2185 - val_accuracy: 0.9402\n",
      "Epoch 196/200\n",
      "1500/1500 [==============================] - 1s 805us/step - loss: 0.2834 - accuracy: 0.9161 - val_loss: 0.2228 - val_accuracy: 0.9405\n",
      "Epoch 197/200\n",
      "1500/1500 [==============================] - 1s 816us/step - loss: 0.2809 - accuracy: 0.9168 - val_loss: 0.2149 - val_accuracy: 0.9431\n",
      "Epoch 198/200\n",
      "1500/1500 [==============================] - 1s 848us/step - loss: 0.2847 - accuracy: 0.9153 - val_loss: 0.2194 - val_accuracy: 0.9419\n",
      "Epoch 199/200\n",
      "1500/1500 [==============================] - 1s 832us/step - loss: 0.2845 - accuracy: 0.9149 - val_loss: 0.2117 - val_accuracy: 0.9447\n",
      "Epoch 200/200\n",
      "1500/1500 [==============================] - 1s 795us/step - loss: 0.2846 - accuracy: 0.9158 - val_loss: 0.2187 - val_accuracy: 0.9427\n"
     ]
    }
   ],
   "source": [
    "# will take a while\n",
    "history_dropoutmnist = model.fit(x_train, y_tr_one_hot, epochs=200, batch_size= 32, validation_split = 0.2)"
   ]
  },
  {
   "cell_type": "markdown",
   "metadata": {
    "cell_style": "split",
    "slideshow": {
     "slide_type": "slide"
    }
   },
   "source": [
    "Accuracy on train set will be lower in any given cycle:\n",
    "- some activation killed randomly on training.\n",
    "\n",
    "Performance on validation will be high:\n",
    "- uses full network with learned weights for validation"
   ]
  },
  {
   "cell_type": "markdown",
   "metadata": {
    "cell_style": "split",
    "slideshow": {
     "slide_type": "slide"
    }
   },
   "source": [
    "Not overtraining despite high model capacity:\n",
    "- many hidden layers"
   ]
  },
  {
   "cell_type": "code",
   "execution_count": 25,
   "metadata": {
    "cell_style": "split",
    "slideshow": {
     "slide_type": "fragment"
    }
   },
   "outputs": [
    {
     "data": {
      "image/png": "[encoded data removed]",
      "text/plain": [
       "<Figure size 432x288 with 1 Axes>"
      ]
     },
     "metadata": {
      "needs_background": "light"
     },
     "output_type": "display_data"
    }
   ],
   "source": [
    "train_dropoutmnist_history = pd.DataFrame(history_dropoutmnist.history)\n",
    "train_dropoutmnist_history.index.name = 'epochs'\n",
    "\n",
    "col_list = ['loss', 'val_loss']\n",
    "train_dropoutmnist_history[col_list].plot()\n",
    "plt.ylabel('Categorical cross entropy')\n",
    "plt.title('Training loss history')\n",
    "plt.show()"
   ]
  },
  {
   "cell_type": "code",
   "execution_count": 26,
   "metadata": {
    "cell_style": "split",
    "slideshow": {
     "slide_type": "slide"
    }
   },
   "outputs": [
    {
     "data": {
      "image/png": "[encoded data removed]",
      "text/plain": [
       "<Figure size 432x288 with 1 Axes>"
      ]
     },
     "metadata": {
      "needs_background": "light"
     },
     "output_type": "display_data"
    }
   ],
   "source": [
    "col_list = ['accuracy', 'val_accuracy']\n",
    "train_dropoutmnist_history[col_list].plot()\n",
    "plt.ylabel('Accuracy')\n",
    "plt.title('Training loss history')\n",
    "plt.show()"
   ]
  },
  {
   "cell_type": "markdown",
   "metadata": {
    "cell_style": "split",
    "slideshow": {
     "slide_type": "fragment"
    }
   },
   "source": [
    "Evaluate on test set."
   ]
  },
  {
   "cell_type": "code",
   "execution_count": 27,
   "metadata": {
    "cell_style": "split",
    "slideshow": {
     "slide_type": "fragment"
    }
   },
   "outputs": [
    {
     "name": "stdout",
     "output_type": "stream",
     "text": [
      "313/313 [==============================] - 0s 982us/step - loss: 0.2204 - accuracy: 0.9421\n"
     ]
    },
    {
     "data": {
      "text/plain": [
       "[0.22043749690055847, 0.9420999884605408]"
      ]
     },
     "execution_count": 27,
     "metadata": {},
     "output_type": "execute_result"
    }
   ],
   "source": [
    "model.evaluate(x_test, y_tt_one_hot)"
   ]
  },
  {
   "cell_type": "markdown",
   "metadata": {
    "slideshow": {
     "slide_type": "slide"
    }
   },
   "source": [
    "#### Dropout regularization in conjunction with L2:\n",
    "\n",
    "- can be used to train very deep networks\n",
    "- model complex relationships without overfitting\n",
    "- works best in these cases with a lot of data"
   ]
  },
  {
   "cell_type": "markdown",
   "metadata": {
    "slideshow": {
     "slide_type": "slide"
    }
   },
   "source": [
    "Next up:\n",
    "- doing much better with a more suitable network architecture\n",
    "- Convolutional Neural Networks (CNNs)"
   ]
  }
 ],
 "metadata": {
  "celltoolbar": "Slideshow",
  "colab": {
   "collapsed_sections": [],
   "name": "intro-to-keras.ipynb",
   "provenance": []
  },
  "kernelspec": {
   "display_name": "Python (learn-env)",
   "language": "python",
   "name": "learn-env"
  },
  "language_info": {
   "codemirror_mode": {
    "name": "ipython",
    "version": 3
   },
   "file_extension": ".py",
   "mimetype": "text/x-python",
   "name": "python",
   "nbconvert_exporter": "python",
   "pygments_lexer": "ipython3",
   "version": "3.8.5"
  }
 },
 "nbformat": 4,
 "nbformat_minor": 4
}
