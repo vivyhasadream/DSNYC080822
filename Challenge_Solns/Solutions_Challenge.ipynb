{
 "cells": [
  {
   "cell_type": "markdown",
   "id": "1e0b8964",
   "metadata": {},
   "source": [
    "### First approach straing counting using permutation formulas"
   ]
  },
  {
   "cell_type": "markdown",
   "id": "1f9b8c06",
   "metadata": {
    "slideshow": {
     "slide_type": "slide"
    }
   },
   "source": [
    "#### Step 1: Enumerate the total number of ways I can select two trashcans"
   ]
  },
  {
   "cell_type": "markdown",
   "id": "7d41014f",
   "metadata": {
    "slideshow": {
     "slide_type": "fragment"
    }
   },
   "source": [
    "The total number of ways that I can pick $r$ out of $N$ is:\n",
    "$$ \\frac{N!}{(N - r)!} $$"
   ]
  },
  {
   "cell_type": "markdown",
   "id": "aa2fb341",
   "metadata": {},
   "source": [
    "In our case $N = 40$ and $ r = 2 $:"
   ]
  },
  {
   "cell_type": "code",
   "execution_count": 13,
   "id": "62aaced0",
   "metadata": {
    "cell_style": "center"
   },
   "outputs": [
    {
     "data": {
      "text/plain": [
       "1560.0"
      ]
     },
     "execution_count": 13,
     "metadata": {},
     "output_type": "execute_result"
    }
   ],
   "source": [
    "from math import factorial\n",
    "\n",
    "N = 40 # of trashbins\n",
    "r = 2 # I am selecting\n",
    "num_in_each_color = 10\n",
    "\n",
    "total_num_poss = factorial(N)/factorial(N - r)\n",
    "total_num_poss"
   ]
  },
  {
   "cell_type": "markdown",
   "id": "9b781e98",
   "metadata": {
    "cell_style": "center"
   },
   "source": [
    "Now number of ways that I can select two trashbins with different colors and different colors.\n",
    "\n",
    "- First selection is trivial: I can select any of the 40 trashbins\n",
    "\n",
    "After this is where our thinking must come in."
   ]
  },
  {
   "cell_type": "code",
   "execution_count": 19,
   "id": "ae4b5795",
   "metadata": {},
   "outputs": [],
   "source": [
    "num_choices_first = 40"
   ]
  },
  {
   "cell_type": "markdown",
   "id": "aa83a6d1",
   "metadata": {
    "cell_style": "center",
    "slideshow": {
     "slide_type": "subslide"
    }
   },
   "source": [
    "#### The second trash bin "
   ]
  },
  {
   "cell_type": "markdown",
   "id": "c401f2b3",
   "metadata": {
    "cell_style": "split"
   },
   "source": [
    "We have picked one of the four colors:\n",
    "- This means there are three colors left. \n",
    "\n",
    "Each color has 10 bins."
   ]
  },
  {
   "cell_type": "code",
   "execution_count": 14,
   "id": "edebffaa",
   "metadata": {
    "cell_style": "split"
   },
   "outputs": [],
   "source": [
    "colors_left = (4 - 1)"
   ]
  },
  {
   "cell_type": "markdown",
   "id": "4a7ae9f8",
   "metadata": {
    "cell_style": "split"
   },
   "source": [
    "Number bins that are not of the color we already chose:"
   ]
  },
  {
   "cell_type": "code",
   "execution_count": 16,
   "id": "123b58d5",
   "metadata": {
    "cell_style": "center"
   },
   "outputs": [],
   "source": [
    "bins_not_first_color = colors_left*num_in_each_color"
   ]
  },
  {
   "cell_type": "markdown",
   "id": "a7d0149a",
   "metadata": {
    "slideshow": {
     "slide_type": "slide"
    }
   },
   "source": [
    "#### But we are not done yet"
   ]
  },
  {
   "cell_type": "markdown",
   "id": "ac8b8e02",
   "metadata": {
    "cell_style": "split",
    "slideshow": {
     "slide_type": "fragment"
    }
   },
   "source": [
    "Also needed a bin that is not the same number:\n",
    "- Imagine that we selected (blue, 2) initially"
   ]
  },
  {
   "cell_type": "markdown",
   "id": "a4ddb8ed",
   "metadata": {
    "cell_style": "split",
    "slideshow": {
     "slide_type": "fragment"
    }
   },
   "source": [
    "Then **within** the bins that are not the first color:\n",
    "- There are 3 that have the same number as our initial pick.\n",
    "\n",
    "**Need to subtract these three**"
   ]
  },
  {
   "cell_type": "code",
   "execution_count": 21,
   "id": "45dbb789",
   "metadata": {
    "cell_style": "split",
    "slideshow": {
     "slide_type": "slide"
    }
   },
   "outputs": [
    {
     "data": {
      "text/plain": [
       "27"
      ]
     },
     "execution_count": 21,
     "metadata": {},
     "output_type": "execute_result"
    }
   ],
   "source": [
    "num_choices_2nd = bins_not_first_color - 3\n",
    "num_choices_2nd"
   ]
  },
  {
   "cell_type": "markdown",
   "id": "920cb356",
   "metadata": {
    "cell_style": "split",
    "slideshow": {
     "slide_type": "fragment"
    }
   },
   "source": [
    "Total number of choices with color different than first and with different number."
   ]
  },
  {
   "cell_type": "markdown",
   "id": "bf6e43eb",
   "metadata": {},
   "source": [
    "Thus the total number of ways of picking two garbage cans with different color and number is:"
   ]
  },
  {
   "cell_type": "code",
   "execution_count": 26,
   "id": "318cbd69",
   "metadata": {},
   "outputs": [
    {
     "data": {
      "text/plain": [
       "1080"
      ]
     },
     "execution_count": 26,
     "metadata": {},
     "output_type": "execute_result"
    }
   ],
   "source": [
    "N_diffcolornum = num_choices_first*num_choices_2nd\n",
    "N_diffcolornum"
   ]
  },
  {
   "cell_type": "markdown",
   "id": "2171dc0a",
   "metadata": {},
   "source": [
    "Normalizing by the total number of ways of picking two bins:"
   ]
  },
  {
   "cell_type": "code",
   "execution_count": 39,
   "id": "59839e03",
   "metadata": {},
   "outputs": [
    {
     "data": {
      "text/plain": [
       "0.6923076923076923"
      ]
     },
     "execution_count": 39,
     "metadata": {},
     "output_type": "execute_result"
    }
   ],
   "source": [
    "N_diffcolornum/total_num_poss"
   ]
  },
  {
   "cell_type": "markdown",
   "id": "012072b1",
   "metadata": {
    "slideshow": {
     "slide_type": "slide"
    }
   },
   "source": [
    "### Second approach -- counting: but with sample spaces, events, and itertools"
   ]
  },
  {
   "cell_type": "markdown",
   "id": "007a0b0c",
   "metadata": {},
   "source": [
    "#### Itertools: construct sample space"
   ]
  },
  {
   "cell_type": "code",
   "execution_count": 107,
   "id": "04ab1d67",
   "metadata": {
    "slideshow": {
     "slide_type": "fragment"
    }
   },
   "outputs": [
    {
     "name": "stdout",
     "output_type": "stream",
     "text": [
      "{('B', 0), ('B', 3), ('B', 9), ('B', 6), ('R', 0), ('R', 3), ('R', 9), ('G', 0), ('G', 6), ('R', 6), ('Y', 1), ('G', 3), ('G', 9), ('Y', 4), ('Y', 7), ('B', 2), ('B', 5), ('B', 8), ('R', 2), ('R', 5), ('Y', 0), ('G', 2), ('R', 8), ('Y', 3), ('G', 5), ('Y', 6), ('G', 8), ('Y', 9), ('B', 4), ('B', 1), ('B', 7), ('R', 4), ('R', 1), ('R', 7), ('G', 4), ('G', 1), ('G', 7), ('Y', 5), ('Y', 2), ('Y', 8)}\n"
     ]
    }
   ],
   "source": [
    "from itertools import product\n",
    "\n",
    "color_list = ['R', 'G', 'B', 'Y']\n",
    "num_list = list(range(10))\n",
    "\n",
    "orig_sample_space = set(product(color_list, num_list))\n",
    "print(orig_sample_space)"
   ]
  },
  {
   "cell_type": "markdown",
   "id": "95931c36",
   "metadata": {},
   "source": [
    "#### Number of ways to take 2 from sample space. "
   ]
  },
  {
   "cell_type": "code",
   "execution_count": 109,
   "id": "bc80f070",
   "metadata": {},
   "outputs": [
    {
     "data": {
      "text/plain": [
       "1560"
      ]
     },
     "execution_count": 109,
     "metadata": {},
     "output_type": "execute_result"
    }
   ],
   "source": [
    "from itertools import permutations\n",
    "\n",
    "N_tot = len(list(permutations(orig_sample_space, 2)))\n",
    "N_tot"
   ]
  },
  {
   "cell_type": "markdown",
   "id": "83c15186",
   "metadata": {},
   "source": [
    "#### The first selection"
   ]
  },
  {
   "cell_type": "markdown",
   "id": "200f6538",
   "metadata": {},
   "source": [
    "The number of possibilities in first selection:"
   ]
  },
  {
   "cell_type": "code",
   "execution_count": 110,
   "id": "09b13a86",
   "metadata": {},
   "outputs": [
    {
     "data": {
      "text/plain": [
       "40"
      ]
     },
     "execution_count": 110,
     "metadata": {},
     "output_type": "execute_result"
    }
   ],
   "source": [
    "N_first = len(orig_sample_space)\n",
    "N_first"
   ]
  },
  {
   "cell_type": "markdown",
   "id": "a527eb67",
   "metadata": {},
   "source": [
    "#### After the first selection"
   ]
  },
  {
   "cell_type": "markdown",
   "id": "671f05e6",
   "metadata": {
    "slideshow": {
     "slide_type": "slide"
    }
   },
   "source": [
    "Selecting an element alters our sample space:"
   ]
  },
  {
   "cell_type": "code",
   "execution_count": 86,
   "id": "9bced3ef",
   "metadata": {
    "cell_style": "split"
   },
   "outputs": [
    {
     "name": "stdout",
     "output_type": "stream",
     "text": [
      "{('B', 0), ('B', 3), ('B', 9), ('B', 6), ('R', 0), ('R', 3), ('R', 9), ('G', 0), ('G', 6), ('R', 6), ('Y', 1), ('G', 3), ('G', 9), ('Y', 4), ('Y', 7), ('B', 5), ('B', 8), ('R', 2), ('R', 5), ('Y', 0), ('G', 2), ('R', 8), ('Y', 3), ('G', 5), ('Y', 6), ('G', 8), ('Y', 9), ('B', 4), ('B', 1), ('B', 7), ('R', 4), ('R', 1), ('R', 7), ('G', 4), ('G', 1), ('G', 7), ('Y', 5), ('Y', 2), ('Y', 8)}\n"
     ]
    }
   ],
   "source": [
    "from copy import deepcopy\n",
    "new_sample_space = deepcopy(orig_sample_space)\n",
    "\n",
    "new_sample_space.remove(('B', 2))\n",
    "print(new_sample_space)"
   ]
  },
  {
   "cell_type": "code",
   "execution_count": 87,
   "id": "67fc70d4",
   "metadata": {
    "cell_style": "split"
   },
   "outputs": [
    {
     "data": {
      "text/plain": [
       "False"
      ]
     },
     "execution_count": 87,
     "metadata": {},
     "output_type": "execute_result"
    }
   ],
   "source": [
    "('B', 2) in new_sample_space"
   ]
  },
  {
   "cell_type": "markdown",
   "id": "c505c6df",
   "metadata": {
    "cell_style": "split"
   },
   "source": [
    "Of this we want to construct event:\n",
    "- Event where color is not 'B'\n",
    "- and where number is not 2"
   ]
  },
  {
   "cell_type": "markdown",
   "id": "c41e387a",
   "metadata": {},
   "source": [
    "#### The second selection"
   ]
  },
  {
   "cell_type": "code",
   "execution_count": 81,
   "id": "b6a2bc6c",
   "metadata": {},
   "outputs": [
    {
     "name": "stdout",
     "output_type": "stream",
     "text": [
      "{('R', 0), ('R', 3), ('R', 9), ('G', 0), ('G', 6), ('R', 6), ('Y', 1), ('G', 3), ('G', 9), ('Y', 4), ('Y', 7), ('R', 5), ('Y', 0), ('R', 8), ('Y', 3), ('G', 5), ('Y', 6), ('G', 8), ('Y', 9), ('R', 4), ('R', 1), ('R', 7), ('G', 4), ('G', 1), ('G', 7), ('Y', 5), ('Y', 8)}\n"
     ]
    }
   ],
   "source": [
    "event = {elem for elem in sample_space if ((elem[0] !='B') & (elem[1] != 2))}\n",
    "print(event)"
   ]
  },
  {
   "cell_type": "code",
   "execution_count": 105,
   "id": "d155b246",
   "metadata": {},
   "outputs": [
    {
     "name": "stdout",
     "output_type": "stream",
     "text": [
      "27\n"
     ]
    }
   ],
   "source": [
    "N_second = len(event)\n",
    "print(N_second)"
   ]
  },
  {
   "cell_type": "markdown",
   "id": "85ce2b82",
   "metadata": {},
   "source": [
    "#### Putting it altogether\n",
    "\n",
    "Total probability is then:"
   ]
  },
  {
   "cell_type": "code",
   "execution_count": 106,
   "id": "0d56f10e",
   "metadata": {},
   "outputs": [
    {
     "data": {
      "text/plain": [
       "0.6923076923076923"
      ]
     },
     "execution_count": 106,
     "metadata": {},
     "output_type": "execute_result"
    }
   ],
   "source": [
    "N_first*N_second/N_tot"
   ]
  },
  {
   "cell_type": "markdown",
   "id": "b7c3c476",
   "metadata": {
    "slideshow": {
     "slide_type": "slide"
    }
   },
   "source": [
    "### Third way: Formally using conditionals and the property of complementarity"
   ]
  },
  {
   "cell_type": "markdown",
   "id": "ec4e6358",
   "metadata": {
    "cell_style": "split"
   },
   "source": [
    "Brendan thought that it might be easier to think about this in terms of probabilities:\n",
    " - Get the probability for making the first choice\n",
    " - Get the probability for making the second choice:\n",
    "     - **but** here we subset on the remaining colors different from our first choice\n",
    "     - with the same number\n",
    "    "
   ]
  },
  {
   "cell_type": "markdown",
   "id": "7fd4206b",
   "metadata": {
    "cell_style": "split"
   },
   "source": [
    "Probability of making a choice:"
   ]
  },
  {
   "cell_type": "code",
   "execution_count": 35,
   "id": "6ab196bf",
   "metadata": {
    "cell_style": "split"
   },
   "outputs": [
    {
     "data": {
      "text/plain": [
       "1.0"
      ]
     },
     "execution_count": 35,
     "metadata": {},
     "output_type": "execute_result"
    }
   ],
   "source": [
    "proba1 = N/N\n",
    "proba1"
   ]
  },
  {
   "cell_type": "markdown",
   "id": "07191f20",
   "metadata": {
    "cell_style": "split"
   },
   "source": [
    "Now I pick blue and 2."
   ]
  },
  {
   "cell_type": "markdown",
   "id": "8ebd180f",
   "metadata": {
    "cell_style": "split"
   },
   "source": [
    "For the second choice we have a different sample space:\n",
    "\n",
    "- There are 39 total possibilities left.\n",
    "\n",
    "Of these 30 bins left: different colors."
   ]
  },
  {
   "cell_type": "markdown",
   "id": "f01ccdda",
   "metadata": {
    "cell_style": "split"
   },
   "source": [
    "P(different color) = $ \\frac{30}{39}$"
   ]
  },
  {
   "cell_type": "markdown",
   "id": "b1f1bf90",
   "metadata": {
    "cell_style": "center"
   },
   "source": [
    "Within the space of colors different to blue:"
   ]
  },
  {
   "cell_type": "markdown",
   "id": "1093dfa1",
   "metadata": {
    "slideshow": {
     "slide_type": "slide"
    }
   },
   "source": [
    "Probability I get *same* number out of possibilities with different color: $3/30$\n",
    "\n",
    "This is the conditional:\n",
    "\n",
    "P(same number | different color)"
   ]
  },
  {
   "cell_type": "markdown",
   "id": "a4b8dd07",
   "metadata": {},
   "source": [
    "The joint probability then is:"
   ]
  },
  {
   "cell_type": "markdown",
   "id": "bea08df7",
   "metadata": {},
   "source": [
    "P(same number, different color) = P(same number | different color)P(different color) =\n",
    "\n",
    "$$ \\frac{30}{39}\\cdot \\frac{3}{30} $$"
   ]
  },
  {
   "cell_type": "markdown",
   "id": "eda21490",
   "metadata": {},
   "source": [
    "And using complementarity:"
   ]
  },
  {
   "cell_type": "markdown",
   "id": "86f153bc",
   "metadata": {},
   "source": [
    "P(different number, different color) = (1 - P(same number | different color)) P(different color)"
   ]
  },
  {
   "cell_type": "markdown",
   "id": "34933da7",
   "metadata": {
    "cell_style": "center"
   },
   "source": [
    " $\\frac{40}{40}\\cdot \\frac{30}{39}\\cdot(1 - \\frac{3}{30})$"
   ]
  },
  {
   "cell_type": "code",
   "execution_count": 115,
   "id": "16dfe576",
   "metadata": {},
   "outputs": [
    {
     "data": {
      "text/plain": [
       "0.6923076923076924"
      ]
     },
     "execution_count": 115,
     "metadata": {},
     "output_type": "execute_result"
    }
   ],
   "source": [
    "(30/39)*(1 - 3/30)"
   ]
  }
 ],
 "metadata": {
  "celltoolbar": "Slideshow",
  "kernelspec": {
   "display_name": "Python 3 (ipykernel)",
   "language": "python",
   "name": "python3"
  },
  "language_info": {
   "codemirror_mode": {
    "name": "ipython",
    "version": 3
   },
   "file_extension": ".py",
   "mimetype": "text/x-python",
   "name": "python",
   "nbconvert_exporter": "python",
   "pygments_lexer": "ipython3",
   "version": "3.9.7"
  }
 },
 "nbformat": 4,
 "nbformat_minor": 5
}
